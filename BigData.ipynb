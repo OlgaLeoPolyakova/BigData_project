{
  "nbformat": 4,
  "nbformat_minor": 0,
  "metadata": {
    "colab": {
      "name": "BigData",
      "provenance": [],
      "collapsed_sections": []
    },
    "kernelspec": {
      "display_name": "Python 3",
      "name": "python3"
    },
    "language_info": {
      "name": "python"
    }
  },
  "cells": [
    {
      "cell_type": "code",
      "metadata": {
        "id": "QlDsyEGEykOq"
      },
      "source": [
        "import pandas as pd"
      ],
      "execution_count": null,
      "outputs": []
    },
    {
      "cell_type": "markdown",
      "metadata": {
        "id": "vnsURafqzn4a"
      },
      "source": [
        "1. Загрузка файлов, создание датафреймов"
      ]
    },
    {
      "cell_type": "code",
      "metadata": {
        "id": "DHC6DRiBFWy1"
      },
      "source": [
        "df_ratings = pd.read_csv('ratings.csv') \n"
      ],
      "execution_count": null,
      "outputs": []
    },
    {
      "cell_type": "code",
      "metadata": {
        "colab": {
          "base_uri": "https://localhost:8080/",
          "height": 202
        },
        "id": "w8uv-NykGjX_",
        "outputId": "836f7cd4-2534-4603-91a0-90f294aaaa51"
      },
      "source": [
        "df_ratings.head()"
      ],
      "execution_count": null,
      "outputs": [
        {
          "output_type": "execute_result",
          "data": {
            "text/html": [
              "<div>\n",
              "<style scoped>\n",
              "    .dataframe tbody tr th:only-of-type {\n",
              "        vertical-align: middle;\n",
              "    }\n",
              "\n",
              "    .dataframe tbody tr th {\n",
              "        vertical-align: top;\n",
              "    }\n",
              "\n",
              "    .dataframe thead th {\n",
              "        text-align: right;\n",
              "    }\n",
              "</style>\n",
              "<table border=\"1\" class=\"dataframe\">\n",
              "  <thead>\n",
              "    <tr style=\"text-align: right;\">\n",
              "      <th></th>\n",
              "      <th>User_Id</th>\n",
              "      <th>Film_Id</th>\n",
              "      <th>Rating</th>\n",
              "      <th>Unixtime</th>\n",
              "      <th>Date_</th>\n",
              "    </tr>\n",
              "  </thead>\n",
              "  <tbody>\n",
              "    <tr>\n",
              "      <th>0</th>\n",
              "      <td>186</td>\n",
              "      <td>302</td>\n",
              "      <td>3</td>\n",
              "      <td>891717742</td>\n",
              "      <td>04.04.1998</td>\n",
              "    </tr>\n",
              "    <tr>\n",
              "      <th>1</th>\n",
              "      <td>22</td>\n",
              "      <td>377</td>\n",
              "      <td>1</td>\n",
              "      <td>878887116</td>\n",
              "      <td>07.11.1997</td>\n",
              "    </tr>\n",
              "    <tr>\n",
              "      <th>2</th>\n",
              "      <td>244</td>\n",
              "      <td>51</td>\n",
              "      <td>2</td>\n",
              "      <td>880606923</td>\n",
              "      <td>27.11.1997</td>\n",
              "    </tr>\n",
              "    <tr>\n",
              "      <th>3</th>\n",
              "      <td>166</td>\n",
              "      <td>346</td>\n",
              "      <td>1</td>\n",
              "      <td>886397596</td>\n",
              "      <td>02.02.1998</td>\n",
              "    </tr>\n",
              "    <tr>\n",
              "      <th>4</th>\n",
              "      <td>298</td>\n",
              "      <td>474</td>\n",
              "      <td>4</td>\n",
              "      <td>884182806</td>\n",
              "      <td>07.01.1998</td>\n",
              "    </tr>\n",
              "  </tbody>\n",
              "</table>\n",
              "</div>"
            ],
            "text/plain": [
              "   User_Id  Film_Id  Rating   Unixtime       Date_\n",
              "0      186      302       3  891717742  04.04.1998\n",
              "1       22      377       1  878887116  07.11.1997\n",
              "2      244       51       2  880606923  27.11.1997\n",
              "3      166      346       1  886397596  02.02.1998\n",
              "4      298      474       4  884182806  07.01.1998"
            ]
          },
          "metadata": {
            "tags": []
          },
          "execution_count": 3
        }
      ]
    },
    {
      "cell_type": "code",
      "metadata": {
        "colab": {
          "base_uri": "https://localhost:8080/"
        },
        "id": "QyT-wqNZKKwJ",
        "outputId": "dd1d638f-8b45-403f-9d9a-107386c9e255"
      },
      "source": [
        "df_ratings.info()"
      ],
      "execution_count": null,
      "outputs": [
        {
          "output_type": "stream",
          "text": [
            "<class 'pandas.core.frame.DataFrame'>\n",
            "RangeIndex: 99999 entries, 0 to 99998\n",
            "Data columns (total 5 columns):\n",
            " #   Column    Non-Null Count  Dtype \n",
            "---  ------    --------------  ----- \n",
            " 0   User_Id   99999 non-null  int64 \n",
            " 1   Film_Id   99999 non-null  int64 \n",
            " 2   Rating    99999 non-null  int64 \n",
            " 3   Unixtime  99999 non-null  int64 \n",
            " 4   Date_     99999 non-null  object\n",
            "dtypes: int64(4), object(1)\n",
            "memory usage: 3.8+ MB\n"
          ],
          "name": "stdout"
        }
      ]
    },
    {
      "cell_type": "code",
      "metadata": {
        "id": "qyLjapKshnBF"
      },
      "source": [
        "df_movies = pd.read_csv('movies.csv', parse_dates=[2], infer_datetime_format=True) ##Необходимо сразу привести столбец со строковыми значениями времени выхода фильма к формату даты"
      ],
      "execution_count": null,
      "outputs": []
    },
    {
      "cell_type": "code",
      "metadata": {
        "id": "_EJL7aMMIShR"
      },
      "source": [
        "df_movies['Release_date'] = pd.to_datetime(df_movies['Release_date'])"
      ],
      "execution_count": null,
      "outputs": []
    },
    {
      "cell_type": "code",
      "metadata": {
        "colab": {
          "base_uri": "https://localhost:8080/"
        },
        "id": "hGFkgAbohmte",
        "outputId": "e4d44e74-8d95-4322-89b1-d04b3236f73f"
      },
      "source": [
        "df_movies.info()"
      ],
      "execution_count": null,
      "outputs": [
        {
          "output_type": "stream",
          "text": [
            "<class 'pandas.core.frame.DataFrame'>\n",
            "RangeIndex: 1682 entries, 0 to 1681\n",
            "Data columns (total 25 columns):\n",
            " #   Column        Non-Null Count  Dtype         \n",
            "---  ------        --------------  -----         \n",
            " 0   Film_Id       1682 non-null   int64         \n",
            " 1   Film_name     1682 non-null   object        \n",
            " 2   Release_date  1681 non-null   datetime64[ns]\n",
            " 3   Year          0 non-null      float64       \n",
            " 4   VHS_date      0 non-null      float64       \n",
            " 5   IMDb_URL      1679 non-null   object        \n",
            " 6   unknown       1682 non-null   int64         \n",
            " 7   Action        1682 non-null   int64         \n",
            " 8   Adventure     1682 non-null   int64         \n",
            " 9   Animation     1682 non-null   int64         \n",
            " 10  Children`s    1682 non-null   int64         \n",
            " 11  Comedy        1682 non-null   int64         \n",
            " 12  Crime         1682 non-null   int64         \n",
            " 13  Documentary   1682 non-null   int64         \n",
            " 14  Drama         1682 non-null   int64         \n",
            " 15  Fantasy       1682 non-null   int64         \n",
            " 16  Film-Noir     1682 non-null   int64         \n",
            " 17  Horror        1682 non-null   int64         \n",
            " 18  Musical       1682 non-null   int64         \n",
            " 19  Mystery       1682 non-null   int64         \n",
            " 20  Romance       1682 non-null   int64         \n",
            " 21  Sci-fi        1682 non-null   int64         \n",
            " 22  Thriller      1682 non-null   int64         \n",
            " 23  War           1682 non-null   int64         \n",
            " 24  Western       1682 non-null   int64         \n",
            "dtypes: datetime64[ns](1), float64(2), int64(20), object(2)\n",
            "memory usage: 328.6+ KB\n"
          ],
          "name": "stdout"
        }
      ]
    },
    {
      "cell_type": "code",
      "metadata": {
        "colab": {
          "base_uri": "https://localhost:8080/",
          "height": 355
        },
        "id": "WMIahbRJJXMb",
        "outputId": "7dd3e1e7-64fb-4ca7-fb4b-a044c2d297d6"
      },
      "source": [
        "df_movies.head()"
      ],
      "execution_count": null,
      "outputs": [
        {
          "output_type": "execute_result",
          "data": {
            "text/html": [
              "<div>\n",
              "<style scoped>\n",
              "    .dataframe tbody tr th:only-of-type {\n",
              "        vertical-align: middle;\n",
              "    }\n",
              "\n",
              "    .dataframe tbody tr th {\n",
              "        vertical-align: top;\n",
              "    }\n",
              "\n",
              "    .dataframe thead th {\n",
              "        text-align: right;\n",
              "    }\n",
              "</style>\n",
              "<table border=\"1\" class=\"dataframe\">\n",
              "  <thead>\n",
              "    <tr style=\"text-align: right;\">\n",
              "      <th></th>\n",
              "      <th>Film_Id</th>\n",
              "      <th>Film_name</th>\n",
              "      <th>Release_date</th>\n",
              "      <th>Year</th>\n",
              "      <th>VHS_date</th>\n",
              "      <th>IMDb_URL</th>\n",
              "      <th>unknown</th>\n",
              "      <th>Action</th>\n",
              "      <th>Adventure</th>\n",
              "      <th>Animation</th>\n",
              "      <th>Children`s</th>\n",
              "      <th>Comedy</th>\n",
              "      <th>Crime</th>\n",
              "      <th>Documentary</th>\n",
              "      <th>Drama</th>\n",
              "      <th>Fantasy</th>\n",
              "      <th>Film-Noir</th>\n",
              "      <th>Horror</th>\n",
              "      <th>Musical</th>\n",
              "      <th>Mystery</th>\n",
              "      <th>Romance</th>\n",
              "      <th>Sci-fi</th>\n",
              "      <th>Thriller</th>\n",
              "      <th>War</th>\n",
              "      <th>Western</th>\n",
              "    </tr>\n",
              "  </thead>\n",
              "  <tbody>\n",
              "    <tr>\n",
              "      <th>0</th>\n",
              "      <td>1</td>\n",
              "      <td>Toy Story (1995)</td>\n",
              "      <td>1995-01-01</td>\n",
              "      <td>NaN</td>\n",
              "      <td>NaN</td>\n",
              "      <td>http://us.imdb.com/M/title-exact?Toy%20Story%2...</td>\n",
              "      <td>0</td>\n",
              "      <td>0</td>\n",
              "      <td>0</td>\n",
              "      <td>1</td>\n",
              "      <td>1</td>\n",
              "      <td>1</td>\n",
              "      <td>0</td>\n",
              "      <td>0</td>\n",
              "      <td>0</td>\n",
              "      <td>0</td>\n",
              "      <td>0</td>\n",
              "      <td>0</td>\n",
              "      <td>0</td>\n",
              "      <td>0</td>\n",
              "      <td>0</td>\n",
              "      <td>0</td>\n",
              "      <td>0</td>\n",
              "      <td>0</td>\n",
              "      <td>0</td>\n",
              "    </tr>\n",
              "    <tr>\n",
              "      <th>1</th>\n",
              "      <td>2</td>\n",
              "      <td>GoldenEye (1995)</td>\n",
              "      <td>1995-01-01</td>\n",
              "      <td>NaN</td>\n",
              "      <td>NaN</td>\n",
              "      <td>http://us.imdb.com/M/title-exact?GoldenEye%20(...</td>\n",
              "      <td>0</td>\n",
              "      <td>1</td>\n",
              "      <td>1</td>\n",
              "      <td>0</td>\n",
              "      <td>0</td>\n",
              "      <td>0</td>\n",
              "      <td>0</td>\n",
              "      <td>0</td>\n",
              "      <td>0</td>\n",
              "      <td>0</td>\n",
              "      <td>0</td>\n",
              "      <td>0</td>\n",
              "      <td>0</td>\n",
              "      <td>0</td>\n",
              "      <td>0</td>\n",
              "      <td>0</td>\n",
              "      <td>1</td>\n",
              "      <td>0</td>\n",
              "      <td>0</td>\n",
              "    </tr>\n",
              "    <tr>\n",
              "      <th>2</th>\n",
              "      <td>3</td>\n",
              "      <td>Four Rooms (1995)</td>\n",
              "      <td>1995-01-01</td>\n",
              "      <td>NaN</td>\n",
              "      <td>NaN</td>\n",
              "      <td>http://us.imdb.com/M/title-exact?Four%20Rooms%...</td>\n",
              "      <td>0</td>\n",
              "      <td>0</td>\n",
              "      <td>0</td>\n",
              "      <td>0</td>\n",
              "      <td>0</td>\n",
              "      <td>0</td>\n",
              "      <td>0</td>\n",
              "      <td>0</td>\n",
              "      <td>0</td>\n",
              "      <td>0</td>\n",
              "      <td>0</td>\n",
              "      <td>0</td>\n",
              "      <td>0</td>\n",
              "      <td>0</td>\n",
              "      <td>0</td>\n",
              "      <td>0</td>\n",
              "      <td>1</td>\n",
              "      <td>0</td>\n",
              "      <td>0</td>\n",
              "    </tr>\n",
              "    <tr>\n",
              "      <th>3</th>\n",
              "      <td>4</td>\n",
              "      <td>Get Shorty (1995)</td>\n",
              "      <td>1995-01-01</td>\n",
              "      <td>NaN</td>\n",
              "      <td>NaN</td>\n",
              "      <td>http://us.imdb.com/M/title-exact?Get%20Shorty%...</td>\n",
              "      <td>0</td>\n",
              "      <td>1</td>\n",
              "      <td>0</td>\n",
              "      <td>0</td>\n",
              "      <td>0</td>\n",
              "      <td>1</td>\n",
              "      <td>0</td>\n",
              "      <td>0</td>\n",
              "      <td>1</td>\n",
              "      <td>0</td>\n",
              "      <td>0</td>\n",
              "      <td>0</td>\n",
              "      <td>0</td>\n",
              "      <td>0</td>\n",
              "      <td>0</td>\n",
              "      <td>0</td>\n",
              "      <td>0</td>\n",
              "      <td>0</td>\n",
              "      <td>0</td>\n",
              "    </tr>\n",
              "    <tr>\n",
              "      <th>4</th>\n",
              "      <td>5</td>\n",
              "      <td>Copycat (1995)</td>\n",
              "      <td>1995-01-01</td>\n",
              "      <td>NaN</td>\n",
              "      <td>NaN</td>\n",
              "      <td>http://us.imdb.com/M/title-exact?Copycat%20(1995)</td>\n",
              "      <td>0</td>\n",
              "      <td>0</td>\n",
              "      <td>0</td>\n",
              "      <td>0</td>\n",
              "      <td>0</td>\n",
              "      <td>0</td>\n",
              "      <td>1</td>\n",
              "      <td>0</td>\n",
              "      <td>1</td>\n",
              "      <td>0</td>\n",
              "      <td>0</td>\n",
              "      <td>0</td>\n",
              "      <td>0</td>\n",
              "      <td>0</td>\n",
              "      <td>0</td>\n",
              "      <td>0</td>\n",
              "      <td>1</td>\n",
              "      <td>0</td>\n",
              "      <td>0</td>\n",
              "    </tr>\n",
              "  </tbody>\n",
              "</table>\n",
              "</div>"
            ],
            "text/plain": [
              "   Film_Id          Film_name Release_date  ...  Thriller  War Western\n",
              "0        1   Toy Story (1995)   1995-01-01  ...         0    0       0\n",
              "1        2   GoldenEye (1995)   1995-01-01  ...         1    0       0\n",
              "2        3  Four Rooms (1995)   1995-01-01  ...         1    0       0\n",
              "3        4  Get Shorty (1995)   1995-01-01  ...         0    0       0\n",
              "4        5     Copycat (1995)   1995-01-01  ...         1    0       0\n",
              "\n",
              "[5 rows x 25 columns]"
            ]
          },
          "metadata": {
            "tags": []
          },
          "execution_count": 8
        }
      ]
    },
    {
      "cell_type": "markdown",
      "metadata": {
        "id": "HR7XUgd00Jk5"
      },
      "source": [
        "2. Определение Id самого активного пользователя"
      ]
    },
    {
      "cell_type": "code",
      "metadata": {
        "colab": {
          "base_uri": "https://localhost:8080/",
          "height": 232
        },
        "id": "1CFToPzac7_4",
        "outputId": "a2ad227b-34d4-4a15-c654-bc0dcab1ef9b"
      },
      "source": [
        "df_grp = df_ratings.groupby('User_Id').count()\n",
        "df_grp.head()"
      ],
      "execution_count": null,
      "outputs": [
        {
          "output_type": "execute_result",
          "data": {
            "text/html": [
              "<div>\n",
              "<style scoped>\n",
              "    .dataframe tbody tr th:only-of-type {\n",
              "        vertical-align: middle;\n",
              "    }\n",
              "\n",
              "    .dataframe tbody tr th {\n",
              "        vertical-align: top;\n",
              "    }\n",
              "\n",
              "    .dataframe thead th {\n",
              "        text-align: right;\n",
              "    }\n",
              "</style>\n",
              "<table border=\"1\" class=\"dataframe\">\n",
              "  <thead>\n",
              "    <tr style=\"text-align: right;\">\n",
              "      <th></th>\n",
              "      <th>Film_Id</th>\n",
              "      <th>Rating</th>\n",
              "      <th>Unixtime</th>\n",
              "      <th>Date_</th>\n",
              "    </tr>\n",
              "    <tr>\n",
              "      <th>User_Id</th>\n",
              "      <th></th>\n",
              "      <th></th>\n",
              "      <th></th>\n",
              "      <th></th>\n",
              "    </tr>\n",
              "  </thead>\n",
              "  <tbody>\n",
              "    <tr>\n",
              "      <th>1</th>\n",
              "      <td>272</td>\n",
              "      <td>272</td>\n",
              "      <td>272</td>\n",
              "      <td>272</td>\n",
              "    </tr>\n",
              "    <tr>\n",
              "      <th>2</th>\n",
              "      <td>62</td>\n",
              "      <td>62</td>\n",
              "      <td>62</td>\n",
              "      <td>62</td>\n",
              "    </tr>\n",
              "    <tr>\n",
              "      <th>3</th>\n",
              "      <td>54</td>\n",
              "      <td>54</td>\n",
              "      <td>54</td>\n",
              "      <td>54</td>\n",
              "    </tr>\n",
              "    <tr>\n",
              "      <th>4</th>\n",
              "      <td>24</td>\n",
              "      <td>24</td>\n",
              "      <td>24</td>\n",
              "      <td>24</td>\n",
              "    </tr>\n",
              "    <tr>\n",
              "      <th>5</th>\n",
              "      <td>175</td>\n",
              "      <td>175</td>\n",
              "      <td>175</td>\n",
              "      <td>175</td>\n",
              "    </tr>\n",
              "  </tbody>\n",
              "</table>\n",
              "</div>"
            ],
            "text/plain": [
              "         Film_Id  Rating  Unixtime  Date_\n",
              "User_Id                                  \n",
              "1            272     272       272    272\n",
              "2             62      62        62     62\n",
              "3             54      54        54     54\n",
              "4             24      24        24     24\n",
              "5            175     175       175    175"
            ]
          },
          "metadata": {
            "tags": []
          },
          "execution_count": 9
        }
      ]
    },
    {
      "cell_type": "code",
      "metadata": {
        "colab": {
          "base_uri": "https://localhost:8080/"
        },
        "id": "gAFcylwNYFuH",
        "outputId": "e31b91f9-f455-4902-8c6b-23bfba0d9cd4"
      },
      "source": [
        "df_grp.Rating.max()"
      ],
      "execution_count": null,
      "outputs": [
        {
          "output_type": "execute_result",
          "data": {
            "text/plain": [
              "737"
            ]
          },
          "metadata": {
            "tags": []
          },
          "execution_count": 10
        }
      ]
    },
    {
      "cell_type": "code",
      "metadata": {
        "colab": {
          "base_uri": "https://localhost:8080/",
          "height": 110
        },
        "id": "g1PmhdRJQQS-",
        "outputId": "776b2a75-907a-4022-966a-fb423cb905c7"
      },
      "source": [
        "df_grp.loc[df_grp['Rating'] == 737]\n"
      ],
      "execution_count": null,
      "outputs": [
        {
          "output_type": "execute_result",
          "data": {
            "text/html": [
              "<div>\n",
              "<style scoped>\n",
              "    .dataframe tbody tr th:only-of-type {\n",
              "        vertical-align: middle;\n",
              "    }\n",
              "\n",
              "    .dataframe tbody tr th {\n",
              "        vertical-align: top;\n",
              "    }\n",
              "\n",
              "    .dataframe thead th {\n",
              "        text-align: right;\n",
              "    }\n",
              "</style>\n",
              "<table border=\"1\" class=\"dataframe\">\n",
              "  <thead>\n",
              "    <tr style=\"text-align: right;\">\n",
              "      <th></th>\n",
              "      <th>Film_Id</th>\n",
              "      <th>Rating</th>\n",
              "      <th>Unixtime</th>\n",
              "      <th>Date_</th>\n",
              "    </tr>\n",
              "    <tr>\n",
              "      <th>User_Id</th>\n",
              "      <th></th>\n",
              "      <th></th>\n",
              "      <th></th>\n",
              "      <th></th>\n",
              "    </tr>\n",
              "  </thead>\n",
              "  <tbody>\n",
              "    <tr>\n",
              "      <th>405</th>\n",
              "      <td>737</td>\n",
              "      <td>737</td>\n",
              "      <td>737</td>\n",
              "      <td>737</td>\n",
              "    </tr>\n",
              "  </tbody>\n",
              "</table>\n",
              "</div>"
            ],
            "text/plain": [
              "         Film_Id  Rating  Unixtime  Date_\n",
              "User_Id                                  \n",
              "405          737     737       737    737"
            ]
          },
          "metadata": {
            "tags": []
          },
          "execution_count": 11
        }
      ]
    },
    {
      "cell_type": "markdown",
      "metadata": {
        "id": "14jIbTWR0hlo"
      },
      "source": [
        "3. Определение фильмов, оцененных самым активным пользователем"
      ]
    },
    {
      "cell_type": "code",
      "metadata": {
        "id": "Caq1W-PCXHTI"
      },
      "source": [
        "df_flt = df_ratings.loc[df_ratings['User_Id'] == 405]"
      ],
      "execution_count": null,
      "outputs": []
    },
    {
      "cell_type": "code",
      "metadata": {
        "colab": {
          "base_uri": "https://localhost:8080/"
        },
        "id": "psschNaHZm_g",
        "outputId": "aa8cc6eb-0437-4c83-ad95-60b617395a1a"
      },
      "source": [
        "df_merged = pd.merge(df_flt, df_movies, how = 'inner', left_on= 'Film_Id', right_index= True)\n",
        "df_merged.columns"
      ],
      "execution_count": null,
      "outputs": [
        {
          "output_type": "execute_result",
          "data": {
            "text/plain": [
              "Index(['Film_Id', 'User_Id', 'Film_Id_x', 'Rating', 'Unixtime', 'Date_',\n",
              "       'Film_Id_y', 'Film_name', 'Release_date', 'Year', 'VHS_date',\n",
              "       'IMDb_URL', 'unknown', 'Action', 'Adventure', 'Animation', 'Children`s',\n",
              "       'Comedy', 'Crime', 'Documentary', 'Drama', 'Fantasy', 'Film-Noir',\n",
              "       'Horror', 'Musical', 'Mystery', 'Romance', 'Sci-fi', 'Thriller', 'War',\n",
              "       'Western'],\n",
              "      dtype='object')"
            ]
          },
          "metadata": {
            "tags": []
          },
          "execution_count": 13
        }
      ]
    },
    {
      "cell_type": "code",
      "metadata": {
        "colab": {
          "base_uri": "https://localhost:8080/",
          "height": 355
        },
        "id": "LPyccMWjimih",
        "outputId": "8e6c93be-bb57-4f3f-a684-43bdea7b00d7"
      },
      "source": [
        "df_new = df_merged[['User_Id', 'Film_Id', 'Rating', 'Film_name', 'Release_date', 'unknown', 'Action', 'Adventure', 'Animation', 'Children`s',\n",
        "       'Comedy', 'Crime', 'Documentary', 'Drama', 'Fantasy', 'Film-Noir',\n",
        "       'Horror', 'Musical', 'Mystery', 'Romance', 'Sci-fi', 'Thriller', 'War',\n",
        "       'Western']]\n",
        "df_new.head()"
      ],
      "execution_count": null,
      "outputs": [
        {
          "output_type": "execute_result",
          "data": {
            "text/html": [
              "<div>\n",
              "<style scoped>\n",
              "    .dataframe tbody tr th:only-of-type {\n",
              "        vertical-align: middle;\n",
              "    }\n",
              "\n",
              "    .dataframe tbody tr th {\n",
              "        vertical-align: top;\n",
              "    }\n",
              "\n",
              "    .dataframe thead th {\n",
              "        text-align: right;\n",
              "    }\n",
              "</style>\n",
              "<table border=\"1\" class=\"dataframe\">\n",
              "  <thead>\n",
              "    <tr style=\"text-align: right;\">\n",
              "      <th></th>\n",
              "      <th>User_Id</th>\n",
              "      <th>Film_Id</th>\n",
              "      <th>Rating</th>\n",
              "      <th>Film_name</th>\n",
              "      <th>Release_date</th>\n",
              "      <th>unknown</th>\n",
              "      <th>Action</th>\n",
              "      <th>Adventure</th>\n",
              "      <th>Animation</th>\n",
              "      <th>Children`s</th>\n",
              "      <th>Comedy</th>\n",
              "      <th>Crime</th>\n",
              "      <th>Documentary</th>\n",
              "      <th>Drama</th>\n",
              "      <th>Fantasy</th>\n",
              "      <th>Film-Noir</th>\n",
              "      <th>Horror</th>\n",
              "      <th>Musical</th>\n",
              "      <th>Mystery</th>\n",
              "      <th>Romance</th>\n",
              "      <th>Sci-fi</th>\n",
              "      <th>Thriller</th>\n",
              "      <th>War</th>\n",
              "      <th>Western</th>\n",
              "    </tr>\n",
              "  </thead>\n",
              "  <tbody>\n",
              "    <tr>\n",
              "      <th>12275</th>\n",
              "      <td>405</td>\n",
              "      <td>56</td>\n",
              "      <td>4</td>\n",
              "      <td>Priest (1994)</td>\n",
              "      <td>1994-01-01</td>\n",
              "      <td>0</td>\n",
              "      <td>0</td>\n",
              "      <td>0</td>\n",
              "      <td>0</td>\n",
              "      <td>0</td>\n",
              "      <td>0</td>\n",
              "      <td>0</td>\n",
              "      <td>0</td>\n",
              "      <td>1</td>\n",
              "      <td>0</td>\n",
              "      <td>0</td>\n",
              "      <td>0</td>\n",
              "      <td>0</td>\n",
              "      <td>0</td>\n",
              "      <td>0</td>\n",
              "      <td>0</td>\n",
              "      <td>0</td>\n",
              "      <td>0</td>\n",
              "      <td>0</td>\n",
              "    </tr>\n",
              "    <tr>\n",
              "      <th>12382</th>\n",
              "      <td>405</td>\n",
              "      <td>592</td>\n",
              "      <td>1</td>\n",
              "      <td>Stalingrad (1993)</td>\n",
              "      <td>1993-01-01</td>\n",
              "      <td>0</td>\n",
              "      <td>0</td>\n",
              "      <td>0</td>\n",
              "      <td>0</td>\n",
              "      <td>0</td>\n",
              "      <td>0</td>\n",
              "      <td>0</td>\n",
              "      <td>0</td>\n",
              "      <td>0</td>\n",
              "      <td>0</td>\n",
              "      <td>0</td>\n",
              "      <td>0</td>\n",
              "      <td>0</td>\n",
              "      <td>0</td>\n",
              "      <td>0</td>\n",
              "      <td>0</td>\n",
              "      <td>0</td>\n",
              "      <td>1</td>\n",
              "      <td>0</td>\n",
              "    </tr>\n",
              "    <tr>\n",
              "      <th>12429</th>\n",
              "      <td>405</td>\n",
              "      <td>1582</td>\n",
              "      <td>1</td>\n",
              "      <td>Invitation, The (Zaproszenie) (1986)</td>\n",
              "      <td>1986-01-01</td>\n",
              "      <td>0</td>\n",
              "      <td>0</td>\n",
              "      <td>0</td>\n",
              "      <td>0</td>\n",
              "      <td>0</td>\n",
              "      <td>0</td>\n",
              "      <td>0</td>\n",
              "      <td>0</td>\n",
              "      <td>1</td>\n",
              "      <td>0</td>\n",
              "      <td>0</td>\n",
              "      <td>0</td>\n",
              "      <td>0</td>\n",
              "      <td>0</td>\n",
              "      <td>0</td>\n",
              "      <td>0</td>\n",
              "      <td>0</td>\n",
              "      <td>0</td>\n",
              "      <td>0</td>\n",
              "    </tr>\n",
              "    <tr>\n",
              "      <th>12448</th>\n",
              "      <td>405</td>\n",
              "      <td>171</td>\n",
              "      <td>1</td>\n",
              "      <td>Empire Strikes Back, The (1980)</td>\n",
              "      <td>1980-01-01</td>\n",
              "      <td>0</td>\n",
              "      <td>1</td>\n",
              "      <td>1</td>\n",
              "      <td>0</td>\n",
              "      <td>0</td>\n",
              "      <td>0</td>\n",
              "      <td>0</td>\n",
              "      <td>0</td>\n",
              "      <td>1</td>\n",
              "      <td>0</td>\n",
              "      <td>0</td>\n",
              "      <td>0</td>\n",
              "      <td>0</td>\n",
              "      <td>0</td>\n",
              "      <td>1</td>\n",
              "      <td>1</td>\n",
              "      <td>0</td>\n",
              "      <td>1</td>\n",
              "      <td>0</td>\n",
              "    </tr>\n",
              "    <tr>\n",
              "      <th>12459</th>\n",
              "      <td>405</td>\n",
              "      <td>580</td>\n",
              "      <td>1</td>\n",
              "      <td>Kalifornia (1993)</td>\n",
              "      <td>1993-01-01</td>\n",
              "      <td>0</td>\n",
              "      <td>0</td>\n",
              "      <td>0</td>\n",
              "      <td>0</td>\n",
              "      <td>0</td>\n",
              "      <td>0</td>\n",
              "      <td>0</td>\n",
              "      <td>0</td>\n",
              "      <td>1</td>\n",
              "      <td>0</td>\n",
              "      <td>0</td>\n",
              "      <td>0</td>\n",
              "      <td>0</td>\n",
              "      <td>0</td>\n",
              "      <td>0</td>\n",
              "      <td>0</td>\n",
              "      <td>1</td>\n",
              "      <td>0</td>\n",
              "      <td>0</td>\n",
              "    </tr>\n",
              "  </tbody>\n",
              "</table>\n",
              "</div>"
            ],
            "text/plain": [
              "       User_Id  Film_Id  Rating  ... Thriller War  Western\n",
              "12275      405       56       4  ...        0   0        0\n",
              "12382      405      592       1  ...        0   1        0\n",
              "12429      405     1582       1  ...        0   0        0\n",
              "12448      405      171       1  ...        0   1        0\n",
              "12459      405      580       1  ...        1   0        0\n",
              "\n",
              "[5 rows x 24 columns]"
            ]
          },
          "metadata": {
            "tags": []
          },
          "execution_count": 14
        }
      ]
    },
    {
      "cell_type": "code",
      "metadata": {
        "id": "9lG0P-CrKVxj"
      },
      "source": [
        "##Необходимо извлечь год из даты релиза фильма"
      ],
      "execution_count": null,
      "outputs": []
    },
    {
      "cell_type": "code",
      "metadata": {
        "colab": {
          "base_uri": "https://localhost:8080/"
        },
        "id": "c5BQA6nyKjB5",
        "outputId": "dbd934ac-7a93-432d-e3fa-6347aa37510a"
      },
      "source": [
        "df_new['Year'] = pd.DatetimeIndex(df_new['Release_date']).year"
      ],
      "execution_count": null,
      "outputs": [
        {
          "output_type": "stream",
          "text": [
            "/usr/local/lib/python3.7/dist-packages/ipykernel_launcher.py:1: SettingWithCopyWarning: \n",
            "A value is trying to be set on a copy of a slice from a DataFrame.\n",
            "Try using .loc[row_indexer,col_indexer] = value instead\n",
            "\n",
            "See the caveats in the documentation: https://pandas.pydata.org/pandas-docs/stable/user_guide/indexing.html#returning-a-view-versus-a-copy\n",
            "  \"\"\"Entry point for launching an IPython kernel.\n"
          ],
          "name": "stderr"
        }
      ]
    },
    {
      "cell_type": "code",
      "metadata": {
        "colab": {
          "base_uri": "https://localhost:8080/"
        },
        "id": "B-GpD_EU473k",
        "outputId": "4d09fc37-b237-4831-eaf7-fc685db67d5e"
      },
      "source": [
        "df_new.shape"
      ],
      "execution_count": null,
      "outputs": [
        {
          "output_type": "execute_result",
          "data": {
            "text/plain": [
              "(737, 25)"
            ]
          },
          "metadata": {
            "tags": []
          },
          "execution_count": 16
        }
      ]
    },
    {
      "cell_type": "code",
      "metadata": {
        "colab": {
          "base_uri": "https://localhost:8080/"
        },
        "id": "JByBKkm4kfZA",
        "outputId": "fee75f7b-3a06-4071-d7f0-a1d26400ad89"
      },
      "source": [
        "print(df_new)"
      ],
      "execution_count": null,
      "outputs": [
        {
          "output_type": "stream",
          "text": [
            "       User_Id  Film_Id  Rating  ... War Western  Year\n",
            "12275      405       56       4  ...   0       0  1994\n",
            "12382      405      592       1  ...   1       0  1993\n",
            "12429      405     1582       1  ...   0       0  1986\n",
            "12448      405      171       1  ...   1       0  1980\n",
            "12459      405      580       1  ...   0       0  1993\n",
            "...        ...      ...     ...  ...  ..     ...   ...\n",
            "98955      405      375       1  ...   0       0  1994\n",
            "98977      405      445       4  ...   0       0  1976\n",
            "99147      405     1246       1  ...   0       1  1994\n",
            "99464      405      196       1  ...   0       0  1967\n",
            "99755      405      958       1  ...   0       0  1993\n",
            "\n",
            "[737 rows x 25 columns]\n"
          ],
          "name": "stdout"
        }
      ]
    },
    {
      "cell_type": "markdown",
      "metadata": {
        "id": "nPBTH70C8lU5"
      },
      "source": [
        "4. Добавление столбцов с суммарными оценками"
      ]
    },
    {
      "cell_type": "code",
      "metadata": {
        "colab": {
          "base_uri": "https://localhost:8080/",
          "height": 202
        },
        "id": "j0mldfPgmo0b",
        "outputId": "46b0c4ca-c9fa-486e-f67f-89b0b4006934"
      },
      "source": [
        "df_ratings.head()"
      ],
      "execution_count": null,
      "outputs": [
        {
          "output_type": "execute_result",
          "data": {
            "text/html": [
              "<div>\n",
              "<style scoped>\n",
              "    .dataframe tbody tr th:only-of-type {\n",
              "        vertical-align: middle;\n",
              "    }\n",
              "\n",
              "    .dataframe tbody tr th {\n",
              "        vertical-align: top;\n",
              "    }\n",
              "\n",
              "    .dataframe thead th {\n",
              "        text-align: right;\n",
              "    }\n",
              "</style>\n",
              "<table border=\"1\" class=\"dataframe\">\n",
              "  <thead>\n",
              "    <tr style=\"text-align: right;\">\n",
              "      <th></th>\n",
              "      <th>User_Id</th>\n",
              "      <th>Film_Id</th>\n",
              "      <th>Rating</th>\n",
              "      <th>Unixtime</th>\n",
              "      <th>Date_</th>\n",
              "    </tr>\n",
              "  </thead>\n",
              "  <tbody>\n",
              "    <tr>\n",
              "      <th>0</th>\n",
              "      <td>186</td>\n",
              "      <td>302</td>\n",
              "      <td>3</td>\n",
              "      <td>891717742</td>\n",
              "      <td>04.04.1998</td>\n",
              "    </tr>\n",
              "    <tr>\n",
              "      <th>1</th>\n",
              "      <td>22</td>\n",
              "      <td>377</td>\n",
              "      <td>1</td>\n",
              "      <td>878887116</td>\n",
              "      <td>07.11.1997</td>\n",
              "    </tr>\n",
              "    <tr>\n",
              "      <th>2</th>\n",
              "      <td>244</td>\n",
              "      <td>51</td>\n",
              "      <td>2</td>\n",
              "      <td>880606923</td>\n",
              "      <td>27.11.1997</td>\n",
              "    </tr>\n",
              "    <tr>\n",
              "      <th>3</th>\n",
              "      <td>166</td>\n",
              "      <td>346</td>\n",
              "      <td>1</td>\n",
              "      <td>886397596</td>\n",
              "      <td>02.02.1998</td>\n",
              "    </tr>\n",
              "    <tr>\n",
              "      <th>4</th>\n",
              "      <td>298</td>\n",
              "      <td>474</td>\n",
              "      <td>4</td>\n",
              "      <td>884182806</td>\n",
              "      <td>07.01.1998</td>\n",
              "    </tr>\n",
              "  </tbody>\n",
              "</table>\n",
              "</div>"
            ],
            "text/plain": [
              "   User_Id  Film_Id  Rating   Unixtime       Date_\n",
              "0      186      302       3  891717742  04.04.1998\n",
              "1       22      377       1  878887116  07.11.1997\n",
              "2      244       51       2  880606923  27.11.1997\n",
              "3      166      346       1  886397596  02.02.1998\n",
              "4      298      474       4  884182806  07.01.1998"
            ]
          },
          "metadata": {
            "tags": []
          },
          "execution_count": 18
        }
      ]
    },
    {
      "cell_type": "code",
      "metadata": {
        "colab": {
          "base_uri": "https://localhost:8080/",
          "height": 405
        },
        "id": "cODjLasXrG3g",
        "outputId": "0deb3f4a-dbf9-4c46-af45-f0658f161bf3"
      },
      "source": [
        "df_merged_large = pd.merge(df_ratings, df_movies, how = 'inner', left_on= 'Film_Id', right_index= True)\n",
        "df_merged_large.head()"
      ],
      "execution_count": null,
      "outputs": [
        {
          "output_type": "execute_result",
          "data": {
            "text/html": [
              "<div>\n",
              "<style scoped>\n",
              "    .dataframe tbody tr th:only-of-type {\n",
              "        vertical-align: middle;\n",
              "    }\n",
              "\n",
              "    .dataframe tbody tr th {\n",
              "        vertical-align: top;\n",
              "    }\n",
              "\n",
              "    .dataframe thead th {\n",
              "        text-align: right;\n",
              "    }\n",
              "</style>\n",
              "<table border=\"1\" class=\"dataframe\">\n",
              "  <thead>\n",
              "    <tr style=\"text-align: right;\">\n",
              "      <th></th>\n",
              "      <th>Film_Id</th>\n",
              "      <th>User_Id</th>\n",
              "      <th>Film_Id_x</th>\n",
              "      <th>Rating</th>\n",
              "      <th>Unixtime</th>\n",
              "      <th>Date_</th>\n",
              "      <th>Film_Id_y</th>\n",
              "      <th>Film_name</th>\n",
              "      <th>Release_date</th>\n",
              "      <th>Year</th>\n",
              "      <th>VHS_date</th>\n",
              "      <th>IMDb_URL</th>\n",
              "      <th>unknown</th>\n",
              "      <th>Action</th>\n",
              "      <th>Adventure</th>\n",
              "      <th>Animation</th>\n",
              "      <th>Children`s</th>\n",
              "      <th>Comedy</th>\n",
              "      <th>Crime</th>\n",
              "      <th>Documentary</th>\n",
              "      <th>Drama</th>\n",
              "      <th>Fantasy</th>\n",
              "      <th>Film-Noir</th>\n",
              "      <th>Horror</th>\n",
              "      <th>Musical</th>\n",
              "      <th>Mystery</th>\n",
              "      <th>Romance</th>\n",
              "      <th>Sci-fi</th>\n",
              "      <th>Thriller</th>\n",
              "      <th>War</th>\n",
              "      <th>Western</th>\n",
              "    </tr>\n",
              "  </thead>\n",
              "  <tbody>\n",
              "    <tr>\n",
              "      <th>0</th>\n",
              "      <td>302</td>\n",
              "      <td>186</td>\n",
              "      <td>302</td>\n",
              "      <td>3</td>\n",
              "      <td>891717742</td>\n",
              "      <td>04.04.1998</td>\n",
              "      <td>303</td>\n",
              "      <td>Ulee's Gold (1997)</td>\n",
              "      <td>1997-01-01</td>\n",
              "      <td>NaN</td>\n",
              "      <td>NaN</td>\n",
              "      <td>http://us.imdb.com/M/title-exact?Ulee%27s+Gold...</td>\n",
              "      <td>0</td>\n",
              "      <td>0</td>\n",
              "      <td>0</td>\n",
              "      <td>0</td>\n",
              "      <td>0</td>\n",
              "      <td>0</td>\n",
              "      <td>0</td>\n",
              "      <td>0</td>\n",
              "      <td>1</td>\n",
              "      <td>0</td>\n",
              "      <td>0</td>\n",
              "      <td>0</td>\n",
              "      <td>0</td>\n",
              "      <td>0</td>\n",
              "      <td>0</td>\n",
              "      <td>0</td>\n",
              "      <td>0</td>\n",
              "      <td>0</td>\n",
              "      <td>0</td>\n",
              "    </tr>\n",
              "    <tr>\n",
              "      <th>364</th>\n",
              "      <td>302</td>\n",
              "      <td>191</td>\n",
              "      <td>302</td>\n",
              "      <td>4</td>\n",
              "      <td>891560253</td>\n",
              "      <td>02.04.1998</td>\n",
              "      <td>303</td>\n",
              "      <td>Ulee's Gold (1997)</td>\n",
              "      <td>1997-01-01</td>\n",
              "      <td>NaN</td>\n",
              "      <td>NaN</td>\n",
              "      <td>http://us.imdb.com/M/title-exact?Ulee%27s+Gold...</td>\n",
              "      <td>0</td>\n",
              "      <td>0</td>\n",
              "      <td>0</td>\n",
              "      <td>0</td>\n",
              "      <td>0</td>\n",
              "      <td>0</td>\n",
              "      <td>0</td>\n",
              "      <td>0</td>\n",
              "      <td>1</td>\n",
              "      <td>0</td>\n",
              "      <td>0</td>\n",
              "      <td>0</td>\n",
              "      <td>0</td>\n",
              "      <td>0</td>\n",
              "      <td>0</td>\n",
              "      <td>0</td>\n",
              "      <td>0</td>\n",
              "      <td>0</td>\n",
              "      <td>0</td>\n",
              "    </tr>\n",
              "    <tr>\n",
              "      <th>701</th>\n",
              "      <td>302</td>\n",
              "      <td>49</td>\n",
              "      <td>302</td>\n",
              "      <td>4</td>\n",
              "      <td>888065432</td>\n",
              "      <td>21.02.1998</td>\n",
              "      <td>303</td>\n",
              "      <td>Ulee's Gold (1997)</td>\n",
              "      <td>1997-01-01</td>\n",
              "      <td>NaN</td>\n",
              "      <td>NaN</td>\n",
              "      <td>http://us.imdb.com/M/title-exact?Ulee%27s+Gold...</td>\n",
              "      <td>0</td>\n",
              "      <td>0</td>\n",
              "      <td>0</td>\n",
              "      <td>0</td>\n",
              "      <td>0</td>\n",
              "      <td>0</td>\n",
              "      <td>0</td>\n",
              "      <td>0</td>\n",
              "      <td>1</td>\n",
              "      <td>0</td>\n",
              "      <td>0</td>\n",
              "      <td>0</td>\n",
              "      <td>0</td>\n",
              "      <td>0</td>\n",
              "      <td>0</td>\n",
              "      <td>0</td>\n",
              "      <td>0</td>\n",
              "      <td>0</td>\n",
              "      <td>0</td>\n",
              "    </tr>\n",
              "    <tr>\n",
              "      <th>805</th>\n",
              "      <td>302</td>\n",
              "      <td>54</td>\n",
              "      <td>302</td>\n",
              "      <td>4</td>\n",
              "      <td>880928519</td>\n",
              "      <td>30.11.1997</td>\n",
              "      <td>303</td>\n",
              "      <td>Ulee's Gold (1997)</td>\n",
              "      <td>1997-01-01</td>\n",
              "      <td>NaN</td>\n",
              "      <td>NaN</td>\n",
              "      <td>http://us.imdb.com/M/title-exact?Ulee%27s+Gold...</td>\n",
              "      <td>0</td>\n",
              "      <td>0</td>\n",
              "      <td>0</td>\n",
              "      <td>0</td>\n",
              "      <td>0</td>\n",
              "      <td>0</td>\n",
              "      <td>0</td>\n",
              "      <td>0</td>\n",
              "      <td>1</td>\n",
              "      <td>0</td>\n",
              "      <td>0</td>\n",
              "      <td>0</td>\n",
              "      <td>0</td>\n",
              "      <td>0</td>\n",
              "      <td>0</td>\n",
              "      <td>0</td>\n",
              "      <td>0</td>\n",
              "      <td>0</td>\n",
              "      <td>0</td>\n",
              "    </tr>\n",
              "    <tr>\n",
              "      <th>1102</th>\n",
              "      <td>302</td>\n",
              "      <td>62</td>\n",
              "      <td>302</td>\n",
              "      <td>3</td>\n",
              "      <td>879371909</td>\n",
              "      <td>12.11.1997</td>\n",
              "      <td>303</td>\n",
              "      <td>Ulee's Gold (1997)</td>\n",
              "      <td>1997-01-01</td>\n",
              "      <td>NaN</td>\n",
              "      <td>NaN</td>\n",
              "      <td>http://us.imdb.com/M/title-exact?Ulee%27s+Gold...</td>\n",
              "      <td>0</td>\n",
              "      <td>0</td>\n",
              "      <td>0</td>\n",
              "      <td>0</td>\n",
              "      <td>0</td>\n",
              "      <td>0</td>\n",
              "      <td>0</td>\n",
              "      <td>0</td>\n",
              "      <td>1</td>\n",
              "      <td>0</td>\n",
              "      <td>0</td>\n",
              "      <td>0</td>\n",
              "      <td>0</td>\n",
              "      <td>0</td>\n",
              "      <td>0</td>\n",
              "      <td>0</td>\n",
              "      <td>0</td>\n",
              "      <td>0</td>\n",
              "      <td>0</td>\n",
              "    </tr>\n",
              "  </tbody>\n",
              "</table>\n",
              "</div>"
            ],
            "text/plain": [
              "      Film_Id  User_Id  Film_Id_x  Rating  ...  Sci-fi Thriller  War Western\n",
              "0         302      186        302       3  ...       0        0    0       0\n",
              "364       302      191        302       4  ...       0        0    0       0\n",
              "701       302       49        302       4  ...       0        0    0       0\n",
              "805       302       54        302       4  ...       0        0    0       0\n",
              "1102      302       62        302       3  ...       0        0    0       0\n",
              "\n",
              "[5 rows x 31 columns]"
            ]
          },
          "metadata": {
            "tags": []
          },
          "execution_count": 19
        }
      ]
    },
    {
      "cell_type": "code",
      "metadata": {
        "colab": {
          "base_uri": "https://localhost:8080/"
        },
        "id": "Vqn_4DZ-xcmg",
        "outputId": "5e6bb867-4ada-4c4e-d3ba-bb5db9c7524d"
      },
      "source": [
        "df_merged_large.shape"
      ],
      "execution_count": null,
      "outputs": [
        {
          "output_type": "execute_result",
          "data": {
            "text/plain": [
              "(99998, 31)"
            ]
          },
          "metadata": {
            "tags": []
          },
          "execution_count": 20
        }
      ]
    },
    {
      "cell_type": "code",
      "metadata": {
        "colab": {
          "base_uri": "https://localhost:8080/"
        },
        "id": "_URLXWfNsAul",
        "outputId": "09de9dfc-fa32-4dd4-c3fe-c618d6d55eca"
      },
      "source": [
        "df_merged_large_ct = df_merged_large.groupby('Film_Id').count()\n",
        "df_merged_large_ct.shape"
      ],
      "execution_count": null,
      "outputs": [
        {
          "output_type": "execute_result",
          "data": {
            "text/plain": [
              "(1681, 30)"
            ]
          },
          "metadata": {
            "tags": []
          },
          "execution_count": 21
        }
      ]
    },
    {
      "cell_type": "code",
      "metadata": {
        "colab": {
          "base_uri": "https://localhost:8080/"
        },
        "id": "-an9txnu0186",
        "outputId": "e998b9e9-39dc-4fac-8788-19a63ea65e00"
      },
      "source": [
        "print(df_merged_large_ct)"
      ],
      "execution_count": null,
      "outputs": [
        {
          "output_type": "stream",
          "text": [
            "         User_Id  Film_Id_x  Rating  Unixtime  ...  Sci-fi  Thriller  War  Western\n",
            "Film_Id                                        ...                                \n",
            "1            452        452     452       452  ...     452       452  452      452\n",
            "2            131        131     131       131  ...     131       131  131      131\n",
            "3             90         90      90        90  ...      90        90   90       90\n",
            "4            209        209     209       209  ...     209       209  209      209\n",
            "5             86         86      86        86  ...      86        86   86       86\n",
            "...          ...        ...     ...       ...  ...     ...       ...  ...      ...\n",
            "1677           1          1       1         1  ...       1         1    1        1\n",
            "1678           1          1       1         1  ...       1         1    1        1\n",
            "1679           1          1       1         1  ...       1         1    1        1\n",
            "1680           1          1       1         1  ...       1         1    1        1\n",
            "1681           1          1       1         1  ...       1         1    1        1\n",
            "\n",
            "[1681 rows x 30 columns]\n"
          ],
          "name": "stdout"
        }
      ]
    },
    {
      "cell_type": "code",
      "metadata": {
        "colab": {
          "base_uri": "https://localhost:8080/"
        },
        "id": "DRjCVDSehC5b",
        "outputId": "9b6bf0f1-9fc4-42a5-e036-d7fc36253811"
      },
      "source": [
        "df_merged_large_ct = df_merged_large_ct.rename(columns={'Rating': 'Rating_count'})\n",
        "print(df_merged_large_ct)"
      ],
      "execution_count": null,
      "outputs": [
        {
          "output_type": "stream",
          "text": [
            "         User_Id  Film_Id_x  Rating_count  ...  Thriller  War  Western\n",
            "Film_Id                                    ...                        \n",
            "1            452        452           452  ...       452  452      452\n",
            "2            131        131           131  ...       131  131      131\n",
            "3             90         90            90  ...        90   90       90\n",
            "4            209        209           209  ...       209  209      209\n",
            "5             86         86            86  ...        86   86       86\n",
            "...          ...        ...           ...  ...       ...  ...      ...\n",
            "1677           1          1             1  ...         1    1        1\n",
            "1678           1          1             1  ...         1    1        1\n",
            "1679           1          1             1  ...         1    1        1\n",
            "1680           1          1             1  ...         1    1        1\n",
            "1681           1          1             1  ...         1    1        1\n",
            "\n",
            "[1681 rows x 30 columns]\n"
          ],
          "name": "stdout"
        }
      ]
    },
    {
      "cell_type": "code",
      "metadata": {
        "colab": {
          "base_uri": "https://localhost:8080/"
        },
        "id": "dU2IudvmyhXN",
        "outputId": "4d7d2617-a6b1-462d-cce8-9256a62893ec"
      },
      "source": [
        "df_merged_large_sm = df_merged_large.groupby('Film_Id').sum('Rating')\n",
        "df_merged_large_sm.shape"
      ],
      "execution_count": null,
      "outputs": [
        {
          "output_type": "execute_result",
          "data": {
            "text/plain": [
              "(1681, 26)"
            ]
          },
          "metadata": {
            "tags": []
          },
          "execution_count": 24
        }
      ]
    },
    {
      "cell_type": "code",
      "metadata": {
        "colab": {
          "base_uri": "https://localhost:8080/"
        },
        "id": "S5rGRZKHzRH4",
        "outputId": "19c5a6b2-fe16-443e-94d4-4ef387e9b963"
      },
      "source": [
        "print(df_merged_large_sm)"
      ],
      "execution_count": null,
      "outputs": [
        {
          "output_type": "stream",
          "text": [
            "         User_Id  Film_Id_x  Rating  ...  Thriller  War  Western\n",
            "Film_Id                              ...                        \n",
            "1         215609        452    1753  ...       452    0        0\n",
            "2          64453        262     420  ...       131    0        0\n",
            "3          41322        270     273  ...         0    0        0\n",
            "4          98125        836     742  ...       209    0        0\n",
            "5          37786        430     284  ...         0    0        0\n",
            "...          ...        ...     ...  ...       ...  ...      ...\n",
            "1677         854       1677       3  ...         0    0        0\n",
            "1678         863       1678       1  ...         1    0        0\n",
            "1679         863       1679       3  ...         0    0        0\n",
            "1680         863       1680       2  ...         0    0        0\n",
            "1681         896       1681       3  ...         0    0        0\n",
            "\n",
            "[1681 rows x 26 columns]\n"
          ],
          "name": "stdout"
        }
      ]
    },
    {
      "cell_type": "code",
      "metadata": {
        "colab": {
          "base_uri": "https://localhost:8080/"
        },
        "id": "ua2jStUHiTv4",
        "outputId": "9b57b202-896c-4f69-a374-94776304cc60"
      },
      "source": [
        "df_merged_large_sm = df_merged_large_sm.rename(columns={'Rating': 'Rating_sum'})\n",
        "print(df_merged_large_sm)"
      ],
      "execution_count": null,
      "outputs": [
        {
          "output_type": "stream",
          "text": [
            "         User_Id  Film_Id_x  Rating_sum  ...  Thriller  War  Western\n",
            "Film_Id                                  ...                        \n",
            "1         215609        452        1753  ...       452    0        0\n",
            "2          64453        262         420  ...       131    0        0\n",
            "3          41322        270         273  ...         0    0        0\n",
            "4          98125        836         742  ...       209    0        0\n",
            "5          37786        430         284  ...         0    0        0\n",
            "...          ...        ...         ...  ...       ...  ...      ...\n",
            "1677         854       1677           3  ...         0    0        0\n",
            "1678         863       1678           1  ...         1    0        0\n",
            "1679         863       1679           3  ...         0    0        0\n",
            "1680         863       1680           2  ...         0    0        0\n",
            "1681         896       1681           3  ...         0    0        0\n",
            "\n",
            "[1681 rows x 26 columns]\n"
          ],
          "name": "stdout"
        }
      ]
    },
    {
      "cell_type": "code",
      "metadata": {
        "id": "DJDo4hPokFD3"
      },
      "source": [
        "df_new = pd.merge(df_new[['Film_Id', 'Film_name', 'Year', 'Rating', 'unknown', 'Action', 'Adventure', 'Animation', 'Children`s',\n",
        "       'Comedy', 'Crime', 'Documentary', 'Drama', 'Fantasy', 'Film-Noir',\n",
        "       'Horror', 'Musical', 'Mystery', 'Romance', 'Sci-fi', 'Thriller', 'War',\n",
        "       'Western']], df_merged_large_ct['Rating_count'], on= 'Film_Id')\n"
      ],
      "execution_count": null,
      "outputs": []
    },
    {
      "cell_type": "code",
      "metadata": {
        "id": "5ZbcjWV9Pqe7"
      },
      "source": [
        "df_new = pd.merge(df_new[['Film_Id', 'Film_name', 'Year', 'Rating', 'unknown', 'Action', 'Adventure', 'Animation', 'Children`s',\n",
        "       'Comedy', 'Crime', 'Documentary', 'Drama', 'Fantasy', 'Film-Noir',\n",
        "       'Horror', 'Musical', 'Mystery', 'Romance', 'Sci-fi', 'Thriller', 'War',\n",
        "       'Western', 'Rating_count']], df_merged_large_sm['Rating_sum'], on= 'Film_Id')"
      ],
      "execution_count": null,
      "outputs": []
    },
    {
      "cell_type": "code",
      "metadata": {
        "colab": {
          "base_uri": "https://localhost:8080/"
        },
        "id": "k-XHuoL4cHwr",
        "outputId": "b678906c-6aad-480e-be51-5959521603a0"
      },
      "source": [
        "df_new.columns"
      ],
      "execution_count": null,
      "outputs": [
        {
          "output_type": "execute_result",
          "data": {
            "text/plain": [
              "Index(['Film_Id', 'Film_name', 'Year', 'Rating', 'unknown', 'Action',\n",
              "       'Adventure', 'Animation', 'Children`s', 'Comedy', 'Crime',\n",
              "       'Documentary', 'Drama', 'Fantasy', 'Film-Noir', 'Horror', 'Musical',\n",
              "       'Mystery', 'Romance', 'Sci-fi', 'Thriller', 'War', 'Western',\n",
              "       'Rating_count', 'Rating_sum'],\n",
              "      dtype='object')"
            ]
          },
          "metadata": {
            "tags": []
          },
          "execution_count": 29
        }
      ]
    },
    {
      "cell_type": "code",
      "metadata": {
        "colab": {
          "base_uri": "https://localhost:8080/"
        },
        "id": "VGqqMP7u2Ajh",
        "outputId": "bb91ab14-ef3f-45b6-b0c0-77ece7cfe525"
      },
      "source": [
        "print(df_new)"
      ],
      "execution_count": null,
      "outputs": [
        {
          "output_type": "stream",
          "text": [
            "     Film_Id                             Film_name  ...  Rating_count  Rating_sum\n",
            "0         56                         Priest (1994)  ...           394        1600\n",
            "1        592                     Stalingrad (1993)  ...             9          30\n",
            "2       1582  Invitation, The (Zaproszenie) (1986)  ...             1           1\n",
            "3        171       Empire Strikes Back, The (1980)  ...            65         252\n",
            "4        580                     Kalifornia (1993)  ...            32         108\n",
            "..       ...                                   ...  ...           ...         ...\n",
            "732      375                     Houseguest (1994)  ...            23          45\n",
            "733      445                Burnt Offerings (1976)  ...            22          77\n",
            "734     1246                      Bad Girls (1994)  ...             7          11\n",
            "735      196                  Graduate, The (1967)  ...           251         983\n",
            "736      958             Dazed and Confused (1993)  ...            14          53\n",
            "\n",
            "[737 rows x 25 columns]\n"
          ],
          "name": "stdout"
        }
      ]
    },
    {
      "cell_type": "markdown",
      "metadata": {
        "id": "10vt9-iiRROT"
      },
      "source": [
        "Построение модели"
      ]
    },
    {
      "cell_type": "markdown",
      "metadata": {
        "id": "A_x5VvqgRlEl"
      },
      "source": [
        "6. Обучающая и тестовая выборка"
      ]
    },
    {
      "cell_type": "code",
      "metadata": {
        "id": "GZXvjZYMdJdd"
      },
      "source": [
        "from sklearn.model_selection import train_test_split"
      ],
      "execution_count": null,
      "outputs": []
    },
    {
      "cell_type": "code",
      "metadata": {
        "id": "5-DJzEtJf1Mw"
      },
      "source": [
        "X, y = df_new[['Film_Id', 'Year','unknown', 'Action', 'Adventure', 'Animation', 'Children`s',\n",
        "       'Comedy', 'Crime', 'Documentary', 'Drama', 'Fantasy', 'Film-Noir',\n",
        "       'Horror', 'Musical', 'Mystery', 'Romance', 'Sci-fi', 'Thriller', 'War',\n",
        "       'Western', 'Rating_count', 'Rating_sum']], df_new['Rating']"
      ],
      "execution_count": null,
      "outputs": []
    },
    {
      "cell_type": "code",
      "metadata": {
        "id": "8LQarktV28dt"
      },
      "source": [
        "X_train, X_test, y_train, y_test = train_test_split(X, y, test_size=0.2)"
      ],
      "execution_count": null,
      "outputs": []
    },
    {
      "cell_type": "code",
      "metadata": {
        "colab": {
          "base_uri": "https://localhost:8080/",
          "height": 238
        },
        "id": "miTF9eDR3Cwg",
        "outputId": "3b80e7e3-16bd-480a-e34e-9da92a68d8ce"
      },
      "source": [
        "X_train.head()"
      ],
      "execution_count": null,
      "outputs": [
        {
          "output_type": "execute_result",
          "data": {
            "text/html": [
              "<div>\n",
              "<style scoped>\n",
              "    .dataframe tbody tr th:only-of-type {\n",
              "        vertical-align: middle;\n",
              "    }\n",
              "\n",
              "    .dataframe tbody tr th {\n",
              "        vertical-align: top;\n",
              "    }\n",
              "\n",
              "    .dataframe thead th {\n",
              "        text-align: right;\n",
              "    }\n",
              "</style>\n",
              "<table border=\"1\" class=\"dataframe\">\n",
              "  <thead>\n",
              "    <tr style=\"text-align: right;\">\n",
              "      <th></th>\n",
              "      <th>Film_Id</th>\n",
              "      <th>Year</th>\n",
              "      <th>unknown</th>\n",
              "      <th>Action</th>\n",
              "      <th>Adventure</th>\n",
              "      <th>Animation</th>\n",
              "      <th>Children`s</th>\n",
              "      <th>Comedy</th>\n",
              "      <th>Crime</th>\n",
              "      <th>Documentary</th>\n",
              "      <th>Drama</th>\n",
              "      <th>Fantasy</th>\n",
              "      <th>Film-Noir</th>\n",
              "      <th>Horror</th>\n",
              "      <th>Musical</th>\n",
              "      <th>Mystery</th>\n",
              "      <th>Romance</th>\n",
              "      <th>Sci-fi</th>\n",
              "      <th>Thriller</th>\n",
              "      <th>War</th>\n",
              "      <th>Western</th>\n",
              "      <th>Rating_count</th>\n",
              "      <th>Rating_sum</th>\n",
              "    </tr>\n",
              "  </thead>\n",
              "  <tbody>\n",
              "    <tr>\n",
              "      <th>358</th>\n",
              "      <td>403</td>\n",
              "      <td>1940</td>\n",
              "      <td>0</td>\n",
              "      <td>0</td>\n",
              "      <td>0</td>\n",
              "      <td>1</td>\n",
              "      <td>1</td>\n",
              "      <td>0</td>\n",
              "      <td>0</td>\n",
              "      <td>0</td>\n",
              "      <td>0</td>\n",
              "      <td>0</td>\n",
              "      <td>0</td>\n",
              "      <td>0</td>\n",
              "      <td>0</td>\n",
              "      <td>0</td>\n",
              "      <td>0</td>\n",
              "      <td>0</td>\n",
              "      <td>0</td>\n",
              "      <td>0</td>\n",
              "      <td>0</td>\n",
              "      <td>201</td>\n",
              "      <td>689</td>\n",
              "    </tr>\n",
              "    <tr>\n",
              "      <th>95</th>\n",
              "      <td>1113</td>\n",
              "      <td>1996</td>\n",
              "      <td>0</td>\n",
              "      <td>0</td>\n",
              "      <td>0</td>\n",
              "      <td>0</td>\n",
              "      <td>0</td>\n",
              "      <td>1</td>\n",
              "      <td>0</td>\n",
              "      <td>0</td>\n",
              "      <td>0</td>\n",
              "      <td>0</td>\n",
              "      <td>0</td>\n",
              "      <td>0</td>\n",
              "      <td>0</td>\n",
              "      <td>0</td>\n",
              "      <td>0</td>\n",
              "      <td>0</td>\n",
              "      <td>0</td>\n",
              "      <td>0</td>\n",
              "      <td>0</td>\n",
              "      <td>22</td>\n",
              "      <td>72</td>\n",
              "    </tr>\n",
              "    <tr>\n",
              "      <th>403</th>\n",
              "      <td>347</td>\n",
              "      <td>1998</td>\n",
              "      <td>0</td>\n",
              "      <td>0</td>\n",
              "      <td>0</td>\n",
              "      <td>0</td>\n",
              "      <td>0</td>\n",
              "      <td>0</td>\n",
              "      <td>1</td>\n",
              "      <td>0</td>\n",
              "      <td>1</td>\n",
              "      <td>0</td>\n",
              "      <td>0</td>\n",
              "      <td>0</td>\n",
              "      <td>0</td>\n",
              "      <td>0</td>\n",
              "      <td>0</td>\n",
              "      <td>0</td>\n",
              "      <td>1</td>\n",
              "      <td>0</td>\n",
              "      <td>0</td>\n",
              "      <td>137</td>\n",
              "      <td>481</td>\n",
              "    </tr>\n",
              "    <tr>\n",
              "      <th>415</th>\n",
              "      <td>1474</td>\n",
              "      <td>1993</td>\n",
              "      <td>0</td>\n",
              "      <td>0</td>\n",
              "      <td>0</td>\n",
              "      <td>0</td>\n",
              "      <td>0</td>\n",
              "      <td>1</td>\n",
              "      <td>0</td>\n",
              "      <td>0</td>\n",
              "      <td>1</td>\n",
              "      <td>0</td>\n",
              "      <td>0</td>\n",
              "      <td>0</td>\n",
              "      <td>0</td>\n",
              "      <td>0</td>\n",
              "      <td>0</td>\n",
              "      <td>0</td>\n",
              "      <td>0</td>\n",
              "      <td>0</td>\n",
              "      <td>0</td>\n",
              "      <td>6</td>\n",
              "      <td>17</td>\n",
              "    </tr>\n",
              "    <tr>\n",
              "      <th>724</th>\n",
              "      <td>576</td>\n",
              "      <td>1993</td>\n",
              "      <td>0</td>\n",
              "      <td>0</td>\n",
              "      <td>0</td>\n",
              "      <td>0</td>\n",
              "      <td>0</td>\n",
              "      <td>1</td>\n",
              "      <td>0</td>\n",
              "      <td>0</td>\n",
              "      <td>0</td>\n",
              "      <td>0</td>\n",
              "      <td>0</td>\n",
              "      <td>0</td>\n",
              "      <td>0</td>\n",
              "      <td>0</td>\n",
              "      <td>0</td>\n",
              "      <td>1</td>\n",
              "      <td>0</td>\n",
              "      <td>0</td>\n",
              "      <td>0</td>\n",
              "      <td>93</td>\n",
              "      <td>281</td>\n",
              "    </tr>\n",
              "  </tbody>\n",
              "</table>\n",
              "</div>"
            ],
            "text/plain": [
              "     Film_Id  Year  unknown  Action  ...  War  Western  Rating_count  Rating_sum\n",
              "358      403  1940        0       0  ...    0        0           201         689\n",
              "95      1113  1996        0       0  ...    0        0            22          72\n",
              "403      347  1998        0       0  ...    0        0           137         481\n",
              "415     1474  1993        0       0  ...    0        0             6          17\n",
              "724      576  1993        0       0  ...    0        0            93         281\n",
              "\n",
              "[5 rows x 23 columns]"
            ]
          },
          "metadata": {
            "tags": []
          },
          "execution_count": 34
        }
      ]
    },
    {
      "cell_type": "markdown",
      "metadata": {
        "id": "i2WAL-kcSTjJ"
      },
      "source": [
        "6. Модель линейной регресии"
      ]
    },
    {
      "cell_type": "code",
      "metadata": {
        "id": "s9nZWmsx32EM"
      },
      "source": [
        "from sklearn.linear_model import LinearRegression"
      ],
      "execution_count": null,
      "outputs": []
    },
    {
      "cell_type": "code",
      "metadata": {
        "id": "zz3WZyFk36Ss"
      },
      "source": [
        "model_1 = LinearRegression()"
      ],
      "execution_count": null,
      "outputs": []
    },
    {
      "cell_type": "code",
      "metadata": {
        "colab": {
          "base_uri": "https://localhost:8080/"
        },
        "id": "_HL1RRs94Be2",
        "outputId": "12992578-f173-4d17-cb1d-e521352fb576"
      },
      "source": [
        "model_1.fit(X_train, y_train)"
      ],
      "execution_count": null,
      "outputs": [
        {
          "output_type": "execute_result",
          "data": {
            "text/plain": [
              "LinearRegression(copy_X=True, fit_intercept=True, n_jobs=None, normalize=False)"
            ]
          },
          "metadata": {
            "tags": []
          },
          "execution_count": 37
        }
      ]
    },
    {
      "cell_type": "code",
      "metadata": {
        "colab": {
          "base_uri": "https://localhost:8080/"
        },
        "id": "iV_-GVJI6zVv",
        "outputId": "85a9f9bd-67cb-4068-e9f3-355bfbc66c43"
      },
      "source": [
        "y_predict = model_1.predict(X_test)\n",
        "y_predict"
      ],
      "execution_count": null,
      "outputs": [
        {
          "output_type": "execute_result",
          "data": {
            "text/plain": [
              "array([1.60217189, 1.19828421, 1.79492811, 1.49813477, 1.76759439,\n",
              "       2.80243672, 3.67144379, 2.27799403, 1.19796208, 1.19795904,\n",
              "       1.63645714, 4.42896062, 1.66111892, 1.10587818, 2.39069518,\n",
              "       1.52737296, 1.2054499 , 1.13836132, 4.11476723, 1.2164264 ,\n",
              "       1.96128317, 1.05938775, 1.2591579 , 1.36395751, 2.09659737,\n",
              "       1.54116293, 1.40050209, 1.80093672, 1.47005822, 1.48798431,\n",
              "       1.74441977, 1.09326583, 1.32619669, 1.02857896, 1.24978099,\n",
              "       1.05266725, 1.15122995, 1.76330768, 1.05576972, 1.05937394,\n",
              "       1.67414639, 1.09537802, 1.1403971 , 1.59477152, 2.62302147,\n",
              "       2.54699728, 1.42002682, 1.20451718, 2.46493732, 1.54056066,\n",
              "       1.22947765, 1.35945556, 2.23783359, 3.07437901, 3.09179021,\n",
              "       2.72891862, 1.26499493, 1.20328912, 1.44877722, 1.49526142,\n",
              "       2.4393008 , 1.17386877, 1.1379877 , 1.74350278, 1.15391041,\n",
              "       1.72066685, 1.20669478, 1.13328839, 1.14235916, 1.33419517,\n",
              "       2.26714799, 1.59529902, 1.26370761, 3.3290689 , 1.87765801,\n",
              "       1.52169672, 1.35383657, 3.90637905, 1.60723436, 1.28973852,\n",
              "       1.09575472, 1.80430462, 1.25874667, 1.15694871, 1.78284313,\n",
              "       6.08737243, 1.24332424, 1.50383377, 1.92152223, 1.61888821,\n",
              "       1.48249169, 1.83580477, 2.40838829, 1.19520051, 1.99409057,\n",
              "       1.06705206, 1.18387458, 1.85529547, 2.60295993, 1.19628467,\n",
              "       1.86056373, 1.86682223, 3.00907395, 1.1804342 , 0.63670477,\n",
              "       1.25373785, 1.50052703, 1.34670251, 2.23697634, 1.75685309,\n",
              "       1.04226519, 2.16764429, 1.20141009, 2.60510658, 1.52541617,\n",
              "       1.81911955, 3.88661954, 1.16329951, 1.28217832, 1.64184646,\n",
              "       2.53926766, 4.66667742, 1.94382455, 1.59956571, 1.22462121,\n",
              "       1.36774346, 1.46117461, 1.52763042, 1.01450092, 1.13121486,\n",
              "       1.7597352 , 1.52689043, 3.44642942, 1.2556602 , 1.44162675,\n",
              "       1.13747472, 2.61508904, 1.93691049, 1.5025121 , 1.16435081,\n",
              "       1.32939679, 1.66475035, 0.772187  , 1.72644605, 1.77534161,\n",
              "       1.39977107, 1.33230914, 3.54337012])"
            ]
          },
          "metadata": {
            "tags": []
          },
          "execution_count": 38
        }
      ]
    },
    {
      "cell_type": "markdown",
      "metadata": {
        "id": "1VFJftFsR2BP"
      },
      "source": [
        "7. Оценка качества модели линейной регрессии методом MSE"
      ]
    },
    {
      "cell_type": "code",
      "metadata": {
        "id": "dN_r2pUE65c1"
      },
      "source": [
        "from sklearn.metrics import mean_squared_error"
      ],
      "execution_count": null,
      "outputs": []
    },
    {
      "cell_type": "code",
      "metadata": {
        "colab": {
          "base_uri": "https://localhost:8080/"
        },
        "id": "8evpr7UA6977",
        "outputId": "46c24ecc-695a-46c4-e234-84b1d4a4ec1a"
      },
      "source": [
        "mean_squared_error(y_train, model_1.predict(X_train))"
      ],
      "execution_count": null,
      "outputs": [
        {
          "output_type": "execute_result",
          "data": {
            "text/plain": [
              "1.205688635726331"
            ]
          },
          "metadata": {
            "tags": []
          },
          "execution_count": 40
        }
      ]
    },
    {
      "cell_type": "code",
      "metadata": {
        "colab": {
          "base_uri": "https://localhost:8080/"
        },
        "id": "qs0UdOW77FQo",
        "outputId": "231738f0-b193-41c9-da59-0359a3601907"
      },
      "source": [
        "mean_squared_error(y_test, model_1.predict(X_test))"
      ],
      "execution_count": null,
      "outputs": [
        {
          "output_type": "execute_result",
          "data": {
            "text/plain": [
              "1.2863591944525898"
            ]
          },
          "metadata": {
            "tags": []
          },
          "execution_count": 41
        }
      ]
    },
    {
      "cell_type": "markdown",
      "metadata": {
        "id": "SZQf_al4WwJX"
      },
      "source": [
        "Часть 2. Pyspark"
      ]
    },
    {
      "cell_type": "code",
      "metadata": {
        "colab": {
          "base_uri": "https://localhost:8080/"
        },
        "id": "iYk6Kpn7XEQd",
        "outputId": "90541371-fa98-47f2-d38b-7e065a34f465"
      },
      "source": [
        "!apt-get update"
      ],
      "execution_count": null,
      "outputs": [
        {
          "output_type": "stream",
          "text": [
            "\r0% [Working]\r            \rGet:1 http://security.ubuntu.com/ubuntu bionic-security InRelease [88.7 kB]\n",
            "\r0% [Connecting to archive.ubuntu.com (91.189.88.152)] [1 InRelease 14.2 kB/88.7\r                                                                               \rGet:2 https://cloud.r-project.org/bin/linux/ubuntu bionic-cran40/ InRelease [3,626 B]\n",
            "\r0% [Connecting to archive.ubuntu.com (91.189.88.152)] [1 InRelease 14.2 kB/88.7\r0% [Connecting to archive.ubuntu.com (91.189.88.152)] [1 InRelease 43.1 kB/88.7\r0% [2 InRelease gpgv 3,626 B] [Connecting to archive.ubuntu.com (91.189.88.152)\r0% [2 InRelease gpgv 3,626 B] [Connecting to archive.ubuntu.com (91.189.88.152)\r                                                                               \rGet:3 http://ppa.launchpad.net/c2d4u.team/c2d4u4.0+/ubuntu bionic InRelease [15.9 kB]\n",
            "Hit:4 http://archive.ubuntu.com/ubuntu bionic InRelease\n",
            "Ign:5 https://developer.download.nvidia.com/compute/cuda/repos/ubuntu1804/x86_64  InRelease\n",
            "Get:6 http://archive.ubuntu.com/ubuntu bionic-updates InRelease [88.7 kB]\n",
            "Ign:7 https://developer.download.nvidia.com/compute/machine-learning/repos/ubuntu1804/x86_64  InRelease\n",
            "Get:8 https://developer.download.nvidia.com/compute/cuda/repos/ubuntu1804/x86_64  Release [697 B]\n",
            "Hit:9 https://developer.download.nvidia.com/compute/machine-learning/repos/ubuntu1804/x86_64  Release\n",
            "Get:10 https://developer.download.nvidia.com/compute/cuda/repos/ubuntu1804/x86_64  Release.gpg [836 B]\n",
            "Hit:11 http://ppa.launchpad.net/cran/libgit2/ubuntu bionic InRelease\n",
            "Get:12 http://archive.ubuntu.com/ubuntu bionic-backports InRelease [74.6 kB]\n",
            "Get:13 http://security.ubuntu.com/ubuntu bionic-security/main amd64 Packages [2,221 kB]\n",
            "Get:14 http://ppa.launchpad.net/deadsnakes/ppa/ubuntu bionic InRelease [15.9 kB]\n",
            "Get:15 http://security.ubuntu.com/ubuntu bionic-security/restricted amd64 Packages [473 kB]\n",
            "Get:16 http://security.ubuntu.com/ubuntu bionic-security/universe amd64 Packages [1,418 kB]\n",
            "Get:17 http://ppa.launchpad.net/graphics-drivers/ppa/ubuntu bionic InRelease [21.3 kB]\n",
            "Get:18 http://ppa.launchpad.net/c2d4u.team/c2d4u4.0+/ubuntu bionic/main Sources [1,780 kB]\n",
            "Ign:20 https://developer.download.nvidia.com/compute/cuda/repos/ubuntu1804/x86_64  Packages\n",
            "Get:20 https://developer.download.nvidia.com/compute/cuda/repos/ubuntu1804/x86_64  Packages [634 kB]\n",
            "Get:21 http://ppa.launchpad.net/c2d4u.team/c2d4u4.0+/ubuntu bionic/main amd64 Packages [910 kB]\n",
            "Get:22 http://archive.ubuntu.com/ubuntu bionic-updates/universe amd64 Packages [2,188 kB]\n",
            "Get:23 http://archive.ubuntu.com/ubuntu bionic-updates/restricted amd64 Packages [506 kB]\n",
            "Get:24 http://archive.ubuntu.com/ubuntu bionic-updates/main amd64 Packages [2,657 kB]\n",
            "Get:25 http://ppa.launchpad.net/deadsnakes/ppa/ubuntu bionic/main amd64 Packages [40.8 kB]\n",
            "Get:26 http://ppa.launchpad.net/graphics-drivers/ppa/ubuntu bionic/main amd64 Packages [41.5 kB]\n",
            "Fetched 13.2 MB in 3s (4,311 kB/s)\n",
            "Reading package lists... Done\n"
          ],
          "name": "stdout"
        }
      ]
    },
    {
      "cell_type": "code",
      "metadata": {
        "id": "PEIclac-XKgL"
      },
      "source": [
        "!apt-get install openjdk-8-jdk-headless -qq > /dev/null"
      ],
      "execution_count": null,
      "outputs": []
    },
    {
      "cell_type": "code",
      "metadata": {
        "id": "TFhFJWe_XVlZ"
      },
      "source": [
        "!wget -q www-us.apache.org/dist/spark/spark-2.4.8/spark-2.4.8-bin-hadoop2.7.tgz"
      ],
      "execution_count": null,
      "outputs": []
    },
    {
      "cell_type": "code",
      "metadata": {
        "colab": {
          "base_uri": "https://localhost:8080/"
        },
        "id": "qmQROhFqXb-E",
        "outputId": "d1df2f73-3ec9-43a2-db68-eb616b1891f0"
      },
      "source": [
        "!tar -xvf spark-2.4.8-bin-hadoop2.7.tgz"
      ],
      "execution_count": null,
      "outputs": [
        {
          "output_type": "stream",
          "text": [
            "spark-2.4.8-bin-hadoop2.7/\n",
            "spark-2.4.8-bin-hadoop2.7/LICENSE\n",
            "spark-2.4.8-bin-hadoop2.7/NOTICE\n",
            "spark-2.4.8-bin-hadoop2.7/R/\n",
            "spark-2.4.8-bin-hadoop2.7/R/lib/\n",
            "spark-2.4.8-bin-hadoop2.7/R/lib/SparkR/\n",
            "spark-2.4.8-bin-hadoop2.7/R/lib/SparkR/DESCRIPTION\n",
            "spark-2.4.8-bin-hadoop2.7/R/lib/SparkR/INDEX\n",
            "spark-2.4.8-bin-hadoop2.7/R/lib/SparkR/Meta/\n",
            "spark-2.4.8-bin-hadoop2.7/R/lib/SparkR/Meta/Rd.rds\n",
            "spark-2.4.8-bin-hadoop2.7/R/lib/SparkR/Meta/features.rds\n",
            "spark-2.4.8-bin-hadoop2.7/R/lib/SparkR/Meta/hsearch.rds\n",
            "spark-2.4.8-bin-hadoop2.7/R/lib/SparkR/Meta/links.rds\n",
            "spark-2.4.8-bin-hadoop2.7/R/lib/SparkR/Meta/nsInfo.rds\n",
            "spark-2.4.8-bin-hadoop2.7/R/lib/SparkR/Meta/package.rds\n",
            "spark-2.4.8-bin-hadoop2.7/R/lib/SparkR/NAMESPACE\n",
            "spark-2.4.8-bin-hadoop2.7/R/lib/SparkR/R/\n",
            "spark-2.4.8-bin-hadoop2.7/R/lib/SparkR/R/SparkR\n",
            "spark-2.4.8-bin-hadoop2.7/R/lib/SparkR/R/SparkR.rdb\n",
            "spark-2.4.8-bin-hadoop2.7/R/lib/SparkR/R/SparkR.rdx\n",
            "spark-2.4.8-bin-hadoop2.7/R/lib/SparkR/help/\n",
            "spark-2.4.8-bin-hadoop2.7/R/lib/SparkR/help/AnIndex\n",
            "spark-2.4.8-bin-hadoop2.7/R/lib/SparkR/help/SparkR.rdb\n",
            "spark-2.4.8-bin-hadoop2.7/R/lib/SparkR/help/SparkR.rdx\n",
            "spark-2.4.8-bin-hadoop2.7/R/lib/SparkR/help/aliases.rds\n",
            "spark-2.4.8-bin-hadoop2.7/R/lib/SparkR/help/paths.rds\n",
            "spark-2.4.8-bin-hadoop2.7/R/lib/SparkR/html/\n",
            "spark-2.4.8-bin-hadoop2.7/R/lib/SparkR/html/00Index.html\n",
            "spark-2.4.8-bin-hadoop2.7/R/lib/SparkR/html/R.css\n",
            "spark-2.4.8-bin-hadoop2.7/R/lib/SparkR/profile/\n",
            "spark-2.4.8-bin-hadoop2.7/R/lib/SparkR/profile/general.R\n",
            "spark-2.4.8-bin-hadoop2.7/R/lib/SparkR/profile/shell.R\n",
            "spark-2.4.8-bin-hadoop2.7/R/lib/SparkR/tests/\n",
            "spark-2.4.8-bin-hadoop2.7/R/lib/SparkR/tests/testthat/\n",
            "spark-2.4.8-bin-hadoop2.7/R/lib/SparkR/tests/testthat/test_basic.R\n",
            "spark-2.4.8-bin-hadoop2.7/R/lib/SparkR/worker/\n",
            "spark-2.4.8-bin-hadoop2.7/R/lib/SparkR/worker/daemon.R\n",
            "spark-2.4.8-bin-hadoop2.7/R/lib/SparkR/worker/worker.R\n",
            "spark-2.4.8-bin-hadoop2.7/R/lib/sparkr.zip\n",
            "spark-2.4.8-bin-hadoop2.7/README.md\n",
            "spark-2.4.8-bin-hadoop2.7/RELEASE\n",
            "spark-2.4.8-bin-hadoop2.7/bin/\n",
            "spark-2.4.8-bin-hadoop2.7/bin/beeline\n",
            "spark-2.4.8-bin-hadoop2.7/bin/beeline.cmd\n",
            "spark-2.4.8-bin-hadoop2.7/bin/docker-image-tool.sh\n",
            "spark-2.4.8-bin-hadoop2.7/bin/find-spark-home\n",
            "spark-2.4.8-bin-hadoop2.7/bin/find-spark-home.cmd\n",
            "spark-2.4.8-bin-hadoop2.7/bin/load-spark-env.cmd\n",
            "spark-2.4.8-bin-hadoop2.7/bin/load-spark-env.sh\n",
            "spark-2.4.8-bin-hadoop2.7/bin/pyspark\n",
            "spark-2.4.8-bin-hadoop2.7/bin/pyspark.cmd\n",
            "spark-2.4.8-bin-hadoop2.7/bin/pyspark2.cmd\n",
            "spark-2.4.8-bin-hadoop2.7/bin/run-example\n",
            "spark-2.4.8-bin-hadoop2.7/bin/run-example.cmd\n",
            "spark-2.4.8-bin-hadoop2.7/bin/spark-class\n",
            "spark-2.4.8-bin-hadoop2.7/bin/spark-class.cmd\n",
            "spark-2.4.8-bin-hadoop2.7/bin/spark-class2.cmd\n",
            "spark-2.4.8-bin-hadoop2.7/bin/spark-shell\n",
            "spark-2.4.8-bin-hadoop2.7/bin/spark-shell.cmd\n",
            "spark-2.4.8-bin-hadoop2.7/bin/spark-shell2.cmd\n",
            "spark-2.4.8-bin-hadoop2.7/bin/spark-sql\n",
            "spark-2.4.8-bin-hadoop2.7/bin/spark-sql.cmd\n",
            "spark-2.4.8-bin-hadoop2.7/bin/spark-sql2.cmd\n",
            "spark-2.4.8-bin-hadoop2.7/bin/spark-submit\n",
            "spark-2.4.8-bin-hadoop2.7/bin/spark-submit.cmd\n",
            "spark-2.4.8-bin-hadoop2.7/bin/spark-submit2.cmd\n",
            "spark-2.4.8-bin-hadoop2.7/bin/sparkR\n",
            "spark-2.4.8-bin-hadoop2.7/bin/sparkR.cmd\n",
            "spark-2.4.8-bin-hadoop2.7/bin/sparkR2.cmd\n",
            "spark-2.4.8-bin-hadoop2.7/conf/\n",
            "spark-2.4.8-bin-hadoop2.7/conf/docker.properties.template\n",
            "spark-2.4.8-bin-hadoop2.7/conf/fairscheduler.xml.template\n",
            "spark-2.4.8-bin-hadoop2.7/conf/log4j.properties.template\n",
            "spark-2.4.8-bin-hadoop2.7/conf/metrics.properties.template\n",
            "spark-2.4.8-bin-hadoop2.7/conf/slaves.template\n",
            "spark-2.4.8-bin-hadoop2.7/conf/spark-defaults.conf.template\n",
            "spark-2.4.8-bin-hadoop2.7/conf/spark-env.sh.template\n",
            "spark-2.4.8-bin-hadoop2.7/data/\n",
            "spark-2.4.8-bin-hadoop2.7/data/graphx/\n",
            "spark-2.4.8-bin-hadoop2.7/data/graphx/followers.txt\n",
            "spark-2.4.8-bin-hadoop2.7/data/graphx/users.txt\n",
            "spark-2.4.8-bin-hadoop2.7/data/mllib/\n",
            "spark-2.4.8-bin-hadoop2.7/data/mllib/als/\n",
            "spark-2.4.8-bin-hadoop2.7/data/mllib/als/sample_movielens_ratings.txt\n",
            "spark-2.4.8-bin-hadoop2.7/data/mllib/als/test.data\n",
            "spark-2.4.8-bin-hadoop2.7/data/mllib/gmm_data.txt\n",
            "spark-2.4.8-bin-hadoop2.7/data/mllib/images/\n",
            "spark-2.4.8-bin-hadoop2.7/data/mllib/images/license.txt\n",
            "spark-2.4.8-bin-hadoop2.7/data/mllib/images/origin/\n",
            "spark-2.4.8-bin-hadoop2.7/data/mllib/images/origin/kittens/\n",
            "spark-2.4.8-bin-hadoop2.7/data/mllib/images/origin/kittens/29.5.a_b_EGDP022204.jpg\n",
            "spark-2.4.8-bin-hadoop2.7/data/mllib/images/origin/kittens/54893.jpg\n",
            "spark-2.4.8-bin-hadoop2.7/data/mllib/images/origin/kittens/DP153539.jpg\n",
            "spark-2.4.8-bin-hadoop2.7/data/mllib/images/origin/kittens/DP802813.jpg\n",
            "spark-2.4.8-bin-hadoop2.7/data/mllib/images/origin/kittens/not-image.txt\n",
            "spark-2.4.8-bin-hadoop2.7/data/mllib/images/origin/license.txt\n",
            "spark-2.4.8-bin-hadoop2.7/data/mllib/images/origin/multi-channel/\n",
            "spark-2.4.8-bin-hadoop2.7/data/mllib/images/origin/multi-channel/BGRA.png\n",
            "spark-2.4.8-bin-hadoop2.7/data/mllib/images/origin/multi-channel/BGRA_alpha_60.png\n",
            "spark-2.4.8-bin-hadoop2.7/data/mllib/images/origin/multi-channel/chr30.4.184.jpg\n",
            "spark-2.4.8-bin-hadoop2.7/data/mllib/images/origin/multi-channel/grayscale.jpg\n",
            "spark-2.4.8-bin-hadoop2.7/data/mllib/images/partitioned/\n",
            "spark-2.4.8-bin-hadoop2.7/data/mllib/images/partitioned/cls=kittens/\n",
            "spark-2.4.8-bin-hadoop2.7/data/mllib/images/partitioned/cls=kittens/date=2018-01/\n",
            "spark-2.4.8-bin-hadoop2.7/data/mllib/images/partitioned/cls=kittens/date=2018-01/29.5.a_b_EGDP022204.jpg\n",
            "spark-2.4.8-bin-hadoop2.7/data/mllib/images/partitioned/cls=kittens/date=2018-01/not-image.txt\n",
            "spark-2.4.8-bin-hadoop2.7/data/mllib/images/partitioned/cls=kittens/date=2018-02/\n",
            "spark-2.4.8-bin-hadoop2.7/data/mllib/images/partitioned/cls=kittens/date=2018-02/54893.jpg\n",
            "spark-2.4.8-bin-hadoop2.7/data/mllib/images/partitioned/cls=kittens/date=2018-02/DP153539.jpg\n",
            "spark-2.4.8-bin-hadoop2.7/data/mllib/images/partitioned/cls=kittens/date=2018-02/DP802813.jpg\n",
            "spark-2.4.8-bin-hadoop2.7/data/mllib/images/partitioned/cls=multichannel/\n",
            "spark-2.4.8-bin-hadoop2.7/data/mllib/images/partitioned/cls=multichannel/date=2018-01/\n",
            "spark-2.4.8-bin-hadoop2.7/data/mllib/images/partitioned/cls=multichannel/date=2018-01/BGRA.png\n",
            "spark-2.4.8-bin-hadoop2.7/data/mllib/images/partitioned/cls=multichannel/date=2018-01/BGRA_alpha_60.png\n",
            "spark-2.4.8-bin-hadoop2.7/data/mllib/images/partitioned/cls=multichannel/date=2018-02/\n",
            "spark-2.4.8-bin-hadoop2.7/data/mllib/images/partitioned/cls=multichannel/date=2018-02/chr30.4.184.jpg\n",
            "spark-2.4.8-bin-hadoop2.7/data/mllib/images/partitioned/cls=multichannel/date=2018-02/grayscale.jpg\n",
            "spark-2.4.8-bin-hadoop2.7/data/mllib/iris_libsvm.txt\n",
            "spark-2.4.8-bin-hadoop2.7/data/mllib/kmeans_data.txt\n",
            "spark-2.4.8-bin-hadoop2.7/data/mllib/pagerank_data.txt\n",
            "spark-2.4.8-bin-hadoop2.7/data/mllib/pic_data.txt\n",
            "spark-2.4.8-bin-hadoop2.7/data/mllib/ridge-data/\n",
            "spark-2.4.8-bin-hadoop2.7/data/mllib/ridge-data/lpsa.data\n",
            "spark-2.4.8-bin-hadoop2.7/data/mllib/sample_binary_classification_data.txt\n",
            "spark-2.4.8-bin-hadoop2.7/data/mllib/sample_fpgrowth.txt\n",
            "spark-2.4.8-bin-hadoop2.7/data/mllib/sample_isotonic_regression_libsvm_data.txt\n",
            "spark-2.4.8-bin-hadoop2.7/data/mllib/sample_kmeans_data.txt\n",
            "spark-2.4.8-bin-hadoop2.7/data/mllib/sample_lda_data.txt\n",
            "spark-2.4.8-bin-hadoop2.7/data/mllib/sample_lda_libsvm_data.txt\n",
            "spark-2.4.8-bin-hadoop2.7/data/mllib/sample_libsvm_data.txt\n",
            "spark-2.4.8-bin-hadoop2.7/data/mllib/sample_linear_regression_data.txt\n",
            "spark-2.4.8-bin-hadoop2.7/data/mllib/sample_movielens_data.txt\n",
            "spark-2.4.8-bin-hadoop2.7/data/mllib/sample_multiclass_classification_data.txt\n",
            "spark-2.4.8-bin-hadoop2.7/data/mllib/sample_svm_data.txt\n",
            "spark-2.4.8-bin-hadoop2.7/data/mllib/streaming_kmeans_data_test.txt\n",
            "spark-2.4.8-bin-hadoop2.7/data/streaming/\n",
            "spark-2.4.8-bin-hadoop2.7/data/streaming/AFINN-111.txt\n",
            "spark-2.4.8-bin-hadoop2.7/examples/\n",
            "spark-2.4.8-bin-hadoop2.7/examples/jars/\n",
            "spark-2.4.8-bin-hadoop2.7/examples/jars/scopt_2.11-3.7.0.jar\n",
            "spark-2.4.8-bin-hadoop2.7/examples/jars/spark-examples_2.11-2.4.8.jar\n",
            "spark-2.4.8-bin-hadoop2.7/examples/src/\n",
            "spark-2.4.8-bin-hadoop2.7/examples/src/main/\n",
            "spark-2.4.8-bin-hadoop2.7/examples/src/main/java/\n",
            "spark-2.4.8-bin-hadoop2.7/examples/src/main/java/org/\n",
            "spark-2.4.8-bin-hadoop2.7/examples/src/main/java/org/apache/\n",
            "spark-2.4.8-bin-hadoop2.7/examples/src/main/java/org/apache/spark/\n",
            "spark-2.4.8-bin-hadoop2.7/examples/src/main/java/org/apache/spark/examples/\n",
            "spark-2.4.8-bin-hadoop2.7/examples/src/main/java/org/apache/spark/examples/JavaHdfsLR.java\n",
            "spark-2.4.8-bin-hadoop2.7/examples/src/main/java/org/apache/spark/examples/JavaLogQuery.java\n",
            "spark-2.4.8-bin-hadoop2.7/examples/src/main/java/org/apache/spark/examples/JavaPageRank.java\n",
            "spark-2.4.8-bin-hadoop2.7/examples/src/main/java/org/apache/spark/examples/JavaSparkPi.java\n",
            "spark-2.4.8-bin-hadoop2.7/examples/src/main/java/org/apache/spark/examples/JavaStatusTrackerDemo.java\n",
            "spark-2.4.8-bin-hadoop2.7/examples/src/main/java/org/apache/spark/examples/JavaTC.java\n",
            "spark-2.4.8-bin-hadoop2.7/examples/src/main/java/org/apache/spark/examples/JavaWordCount.java\n",
            "spark-2.4.8-bin-hadoop2.7/examples/src/main/java/org/apache/spark/examples/ml/\n",
            "spark-2.4.8-bin-hadoop2.7/examples/src/main/java/org/apache/spark/examples/ml/JavaAFTSurvivalRegressionExample.java\n",
            "spark-2.4.8-bin-hadoop2.7/examples/src/main/java/org/apache/spark/examples/ml/JavaALSExample.java\n",
            "spark-2.4.8-bin-hadoop2.7/examples/src/main/java/org/apache/spark/examples/ml/JavaBinarizerExample.java\n",
            "spark-2.4.8-bin-hadoop2.7/examples/src/main/java/org/apache/spark/examples/ml/JavaBisectingKMeansExample.java\n",
            "spark-2.4.8-bin-hadoop2.7/examples/src/main/java/org/apache/spark/examples/ml/JavaBucketedRandomProjectionLSHExample.java\n",
            "spark-2.4.8-bin-hadoop2.7/examples/src/main/java/org/apache/spark/examples/ml/JavaBucketizerExample.java\n",
            "spark-2.4.8-bin-hadoop2.7/examples/src/main/java/org/apache/spark/examples/ml/JavaChiSqSelectorExample.java\n",
            "spark-2.4.8-bin-hadoop2.7/examples/src/main/java/org/apache/spark/examples/ml/JavaChiSquareTestExample.java\n",
            "spark-2.4.8-bin-hadoop2.7/examples/src/main/java/org/apache/spark/examples/ml/JavaCorrelationExample.java\n",
            "spark-2.4.8-bin-hadoop2.7/examples/src/main/java/org/apache/spark/examples/ml/JavaCountVectorizerExample.java\n",
            "spark-2.4.8-bin-hadoop2.7/examples/src/main/java/org/apache/spark/examples/ml/JavaDCTExample.java\n",
            "spark-2.4.8-bin-hadoop2.7/examples/src/main/java/org/apache/spark/examples/ml/JavaDecisionTreeClassificationExample.java\n",
            "spark-2.4.8-bin-hadoop2.7/examples/src/main/java/org/apache/spark/examples/ml/JavaDecisionTreeRegressionExample.java\n",
            "spark-2.4.8-bin-hadoop2.7/examples/src/main/java/org/apache/spark/examples/ml/JavaDocument.java\n",
            "spark-2.4.8-bin-hadoop2.7/examples/src/main/java/org/apache/spark/examples/ml/JavaElementwiseProductExample.java\n",
            "spark-2.4.8-bin-hadoop2.7/examples/src/main/java/org/apache/spark/examples/ml/JavaEstimatorTransformerParamExample.java\n",
            "spark-2.4.8-bin-hadoop2.7/examples/src/main/java/org/apache/spark/examples/ml/JavaFPGrowthExample.java\n",
            "spark-2.4.8-bin-hadoop2.7/examples/src/main/java/org/apache/spark/examples/ml/JavaFeatureHasherExample.java\n",
            "spark-2.4.8-bin-hadoop2.7/examples/src/main/java/org/apache/spark/examples/ml/JavaGaussianMixtureExample.java\n",
            "spark-2.4.8-bin-hadoop2.7/examples/src/main/java/org/apache/spark/examples/ml/JavaGeneralizedLinearRegressionExample.java\n",
            "spark-2.4.8-bin-hadoop2.7/examples/src/main/java/org/apache/spark/examples/ml/JavaGradientBoostedTreeClassifierExample.java\n",
            "spark-2.4.8-bin-hadoop2.7/examples/src/main/java/org/apache/spark/examples/ml/JavaGradientBoostedTreeRegressorExample.java\n",
            "spark-2.4.8-bin-hadoop2.7/examples/src/main/java/org/apache/spark/examples/ml/JavaImputerExample.java\n",
            "spark-2.4.8-bin-hadoop2.7/examples/src/main/java/org/apache/spark/examples/ml/JavaIndexToStringExample.java\n",
            "spark-2.4.8-bin-hadoop2.7/examples/src/main/java/org/apache/spark/examples/ml/JavaInteractionExample.java\n",
            "spark-2.4.8-bin-hadoop2.7/examples/src/main/java/org/apache/spark/examples/ml/JavaIsotonicRegressionExample.java\n",
            "spark-2.4.8-bin-hadoop2.7/examples/src/main/java/org/apache/spark/examples/ml/JavaKMeansExample.java\n",
            "spark-2.4.8-bin-hadoop2.7/examples/src/main/java/org/apache/spark/examples/ml/JavaLDAExample.java\n",
            "spark-2.4.8-bin-hadoop2.7/examples/src/main/java/org/apache/spark/examples/ml/JavaLabeledDocument.java\n",
            "spark-2.4.8-bin-hadoop2.7/examples/src/main/java/org/apache/spark/examples/ml/JavaLinearRegressionWithElasticNetExample.java\n",
            "spark-2.4.8-bin-hadoop2.7/examples/src/main/java/org/apache/spark/examples/ml/JavaLinearSVCExample.java\n",
            "spark-2.4.8-bin-hadoop2.7/examples/src/main/java/org/apache/spark/examples/ml/JavaLogisticRegressionSummaryExample.java\n",
            "spark-2.4.8-bin-hadoop2.7/examples/src/main/java/org/apache/spark/examples/ml/JavaLogisticRegressionWithElasticNetExample.java\n",
            "spark-2.4.8-bin-hadoop2.7/examples/src/main/java/org/apache/spark/examples/ml/JavaMaxAbsScalerExample.java\n",
            "spark-2.4.8-bin-hadoop2.7/examples/src/main/java/org/apache/spark/examples/ml/JavaMinHashLSHExample.java\n",
            "spark-2.4.8-bin-hadoop2.7/examples/src/main/java/org/apache/spark/examples/ml/JavaMinMaxScalerExample.java\n",
            "spark-2.4.8-bin-hadoop2.7/examples/src/main/java/org/apache/spark/examples/ml/JavaModelSelectionViaCrossValidationExample.java\n",
            "spark-2.4.8-bin-hadoop2.7/examples/src/main/java/org/apache/spark/examples/ml/JavaModelSelectionViaTrainValidationSplitExample.java\n",
            "spark-2.4.8-bin-hadoop2.7/examples/src/main/java/org/apache/spark/examples/ml/JavaMulticlassLogisticRegressionWithElasticNetExample.java\n",
            "spark-2.4.8-bin-hadoop2.7/examples/src/main/java/org/apache/spark/examples/ml/JavaMultilayerPerceptronClassifierExample.java\n",
            "spark-2.4.8-bin-hadoop2.7/examples/src/main/java/org/apache/spark/examples/ml/JavaNGramExample.java\n",
            "spark-2.4.8-bin-hadoop2.7/examples/src/main/java/org/apache/spark/examples/ml/JavaNaiveBayesExample.java\n",
            "spark-2.4.8-bin-hadoop2.7/examples/src/main/java/org/apache/spark/examples/ml/JavaNormalizerExample.java\n",
            "spark-2.4.8-bin-hadoop2.7/examples/src/main/java/org/apache/spark/examples/ml/JavaOneHotEncoderEstimatorExample.java\n",
            "spark-2.4.8-bin-hadoop2.7/examples/src/main/java/org/apache/spark/examples/ml/JavaOneVsRestExample.java\n",
            "spark-2.4.8-bin-hadoop2.7/examples/src/main/java/org/apache/spark/examples/ml/JavaPCAExample.java\n",
            "spark-2.4.8-bin-hadoop2.7/examples/src/main/java/org/apache/spark/examples/ml/JavaPipelineExample.java\n",
            "spark-2.4.8-bin-hadoop2.7/examples/src/main/java/org/apache/spark/examples/ml/JavaPolynomialExpansionExample.java\n",
            "spark-2.4.8-bin-hadoop2.7/examples/src/main/java/org/apache/spark/examples/ml/JavaPowerIterationClusteringExample.java\n",
            "spark-2.4.8-bin-hadoop2.7/examples/src/main/java/org/apache/spark/examples/ml/JavaPrefixSpanExample.java\n",
            "spark-2.4.8-bin-hadoop2.7/examples/src/main/java/org/apache/spark/examples/ml/JavaQuantileDiscretizerExample.java\n",
            "spark-2.4.8-bin-hadoop2.7/examples/src/main/java/org/apache/spark/examples/ml/JavaRFormulaExample.java\n",
            "spark-2.4.8-bin-hadoop2.7/examples/src/main/java/org/apache/spark/examples/ml/JavaRandomForestClassifierExample.java\n",
            "spark-2.4.8-bin-hadoop2.7/examples/src/main/java/org/apache/spark/examples/ml/JavaRandomForestRegressorExample.java\n",
            "spark-2.4.8-bin-hadoop2.7/examples/src/main/java/org/apache/spark/examples/ml/JavaSQLTransformerExample.java\n",
            "spark-2.4.8-bin-hadoop2.7/examples/src/main/java/org/apache/spark/examples/ml/JavaStandardScalerExample.java\n",
            "spark-2.4.8-bin-hadoop2.7/examples/src/main/java/org/apache/spark/examples/ml/JavaStopWordsRemoverExample.java\n",
            "spark-2.4.8-bin-hadoop2.7/examples/src/main/java/org/apache/spark/examples/ml/JavaStringIndexerExample.java\n",
            "spark-2.4.8-bin-hadoop2.7/examples/src/main/java/org/apache/spark/examples/ml/JavaSummarizerExample.java\n",
            "spark-2.4.8-bin-hadoop2.7/examples/src/main/java/org/apache/spark/examples/ml/JavaTfIdfExample.java\n",
            "spark-2.4.8-bin-hadoop2.7/examples/src/main/java/org/apache/spark/examples/ml/JavaTokenizerExample.java\n",
            "spark-2.4.8-bin-hadoop2.7/examples/src/main/java/org/apache/spark/examples/ml/JavaVectorAssemblerExample.java\n",
            "spark-2.4.8-bin-hadoop2.7/examples/src/main/java/org/apache/spark/examples/ml/JavaVectorIndexerExample.java\n",
            "spark-2.4.8-bin-hadoop2.7/examples/src/main/java/org/apache/spark/examples/ml/JavaVectorSizeHintExample.java\n",
            "spark-2.4.8-bin-hadoop2.7/examples/src/main/java/org/apache/spark/examples/ml/JavaVectorSlicerExample.java\n",
            "spark-2.4.8-bin-hadoop2.7/examples/src/main/java/org/apache/spark/examples/ml/JavaWord2VecExample.java\n",
            "spark-2.4.8-bin-hadoop2.7/examples/src/main/java/org/apache/spark/examples/mllib/\n",
            "spark-2.4.8-bin-hadoop2.7/examples/src/main/java/org/apache/spark/examples/mllib/JavaALS.java\n",
            "spark-2.4.8-bin-hadoop2.7/examples/src/main/java/org/apache/spark/examples/mllib/JavaAssociationRulesExample.java\n",
            "spark-2.4.8-bin-hadoop2.7/examples/src/main/java/org/apache/spark/examples/mllib/JavaBinaryClassificationMetricsExample.java\n",
            "spark-2.4.8-bin-hadoop2.7/examples/src/main/java/org/apache/spark/examples/mllib/JavaBisectingKMeansExample.java\n",
            "spark-2.4.8-bin-hadoop2.7/examples/src/main/java/org/apache/spark/examples/mllib/JavaChiSqSelectorExample.java\n",
            "spark-2.4.8-bin-hadoop2.7/examples/src/main/java/org/apache/spark/examples/mllib/JavaCorrelationsExample.java\n",
            "spark-2.4.8-bin-hadoop2.7/examples/src/main/java/org/apache/spark/examples/mllib/JavaDecisionTreeClassificationExample.java\n",
            "spark-2.4.8-bin-hadoop2.7/examples/src/main/java/org/apache/spark/examples/mllib/JavaDecisionTreeRegressionExample.java\n",
            "spark-2.4.8-bin-hadoop2.7/examples/src/main/java/org/apache/spark/examples/mllib/JavaElementwiseProductExample.java\n",
            "spark-2.4.8-bin-hadoop2.7/examples/src/main/java/org/apache/spark/examples/mllib/JavaGaussianMixtureExample.java\n",
            "spark-2.4.8-bin-hadoop2.7/examples/src/main/java/org/apache/spark/examples/mllib/JavaGradientBoostingClassificationExample.java\n",
            "spark-2.4.8-bin-hadoop2.7/examples/src/main/java/org/apache/spark/examples/mllib/JavaGradientBoostingRegressionExample.java\n",
            "spark-2.4.8-bin-hadoop2.7/examples/src/main/java/org/apache/spark/examples/mllib/JavaHypothesisTestingExample.java\n",
            "spark-2.4.8-bin-hadoop2.7/examples/src/main/java/org/apache/spark/examples/mllib/JavaHypothesisTestingKolmogorovSmirnovTestExample.java\n",
            "spark-2.4.8-bin-hadoop2.7/examples/src/main/java/org/apache/spark/examples/mllib/JavaIsotonicRegressionExample.java\n",
            "spark-2.4.8-bin-hadoop2.7/examples/src/main/java/org/apache/spark/examples/mllib/JavaKMeansExample.java\n",
            "spark-2.4.8-bin-hadoop2.7/examples/src/main/java/org/apache/spark/examples/mllib/JavaKernelDensityEstimationExample.java\n",
            "spark-2.4.8-bin-hadoop2.7/examples/src/main/java/org/apache/spark/examples/mllib/JavaLBFGSExample.java\n",
            "spark-2.4.8-bin-hadoop2.7/examples/src/main/java/org/apache/spark/examples/mllib/JavaLatentDirichletAllocationExample.java\n",
            "spark-2.4.8-bin-hadoop2.7/examples/src/main/java/org/apache/spark/examples/mllib/JavaLinearRegressionWithSGDExample.java\n",
            "spark-2.4.8-bin-hadoop2.7/examples/src/main/java/org/apache/spark/examples/mllib/JavaLogisticRegressionWithLBFGSExample.java\n",
            "spark-2.4.8-bin-hadoop2.7/examples/src/main/java/org/apache/spark/examples/mllib/JavaMultiLabelClassificationMetricsExample.java\n",
            "spark-2.4.8-bin-hadoop2.7/examples/src/main/java/org/apache/spark/examples/mllib/JavaMulticlassClassificationMetricsExample.java\n",
            "spark-2.4.8-bin-hadoop2.7/examples/src/main/java/org/apache/spark/examples/mllib/JavaNaiveBayesExample.java\n",
            "spark-2.4.8-bin-hadoop2.7/examples/src/main/java/org/apache/spark/examples/mllib/JavaPCAExample.java\n",
            "spark-2.4.8-bin-hadoop2.7/examples/src/main/java/org/apache/spark/examples/mllib/JavaPowerIterationClusteringExample.java\n",
            "spark-2.4.8-bin-hadoop2.7/examples/src/main/java/org/apache/spark/examples/mllib/JavaPrefixSpanExample.java\n",
            "spark-2.4.8-bin-hadoop2.7/examples/src/main/java/org/apache/spark/examples/mllib/JavaRandomForestClassificationExample.java\n",
            "spark-2.4.8-bin-hadoop2.7/examples/src/main/java/org/apache/spark/examples/mllib/JavaRandomForestRegressionExample.java\n",
            "spark-2.4.8-bin-hadoop2.7/examples/src/main/java/org/apache/spark/examples/mllib/JavaRankingMetricsExample.java\n",
            "spark-2.4.8-bin-hadoop2.7/examples/src/main/java/org/apache/spark/examples/mllib/JavaRecommendationExample.java\n",
            "spark-2.4.8-bin-hadoop2.7/examples/src/main/java/org/apache/spark/examples/mllib/JavaRegressionMetricsExample.java\n",
            "spark-2.4.8-bin-hadoop2.7/examples/src/main/java/org/apache/spark/examples/mllib/JavaSVDExample.java\n",
            "spark-2.4.8-bin-hadoop2.7/examples/src/main/java/org/apache/spark/examples/mllib/JavaSVMWithSGDExample.java\n",
            "spark-2.4.8-bin-hadoop2.7/examples/src/main/java/org/apache/spark/examples/mllib/JavaSimpleFPGrowth.java\n",
            "spark-2.4.8-bin-hadoop2.7/examples/src/main/java/org/apache/spark/examples/mllib/JavaStratifiedSamplingExample.java\n",
            "spark-2.4.8-bin-hadoop2.7/examples/src/main/java/org/apache/spark/examples/mllib/JavaStreamingTestExample.java\n",
            "spark-2.4.8-bin-hadoop2.7/examples/src/main/java/org/apache/spark/examples/mllib/JavaSummaryStatisticsExample.java\n",
            "spark-2.4.8-bin-hadoop2.7/examples/src/main/java/org/apache/spark/examples/sql/\n",
            "spark-2.4.8-bin-hadoop2.7/examples/src/main/java/org/apache/spark/examples/sql/JavaSQLDataSourceExample.java\n",
            "spark-2.4.8-bin-hadoop2.7/examples/src/main/java/org/apache/spark/examples/sql/JavaSparkSQLExample.java\n",
            "spark-2.4.8-bin-hadoop2.7/examples/src/main/java/org/apache/spark/examples/sql/JavaUserDefinedTypedAggregation.java\n",
            "spark-2.4.8-bin-hadoop2.7/examples/src/main/java/org/apache/spark/examples/sql/JavaUserDefinedUntypedAggregation.java\n",
            "spark-2.4.8-bin-hadoop2.7/examples/src/main/java/org/apache/spark/examples/sql/hive/\n",
            "spark-2.4.8-bin-hadoop2.7/examples/src/main/java/org/apache/spark/examples/sql/hive/JavaSparkHiveExample.java\n",
            "spark-2.4.8-bin-hadoop2.7/examples/src/main/java/org/apache/spark/examples/sql/streaming/\n",
            "spark-2.4.8-bin-hadoop2.7/examples/src/main/java/org/apache/spark/examples/sql/streaming/JavaStructuredKafkaWordCount.java\n",
            "spark-2.4.8-bin-hadoop2.7/examples/src/main/java/org/apache/spark/examples/sql/streaming/JavaStructuredNetworkWordCount.java\n",
            "spark-2.4.8-bin-hadoop2.7/examples/src/main/java/org/apache/spark/examples/sql/streaming/JavaStructuredNetworkWordCountWindowed.java\n",
            "spark-2.4.8-bin-hadoop2.7/examples/src/main/java/org/apache/spark/examples/sql/streaming/JavaStructuredSessionization.java\n",
            "spark-2.4.8-bin-hadoop2.7/examples/src/main/java/org/apache/spark/examples/streaming/\n",
            "spark-2.4.8-bin-hadoop2.7/examples/src/main/java/org/apache/spark/examples/streaming/JavaCustomReceiver.java\n",
            "spark-2.4.8-bin-hadoop2.7/examples/src/main/java/org/apache/spark/examples/streaming/JavaDirectKafkaWordCount.java\n",
            "spark-2.4.8-bin-hadoop2.7/examples/src/main/java/org/apache/spark/examples/streaming/JavaNetworkWordCount.java\n",
            "spark-2.4.8-bin-hadoop2.7/examples/src/main/java/org/apache/spark/examples/streaming/JavaQueueStream.java\n",
            "spark-2.4.8-bin-hadoop2.7/examples/src/main/java/org/apache/spark/examples/streaming/JavaRecord.java\n",
            "spark-2.4.8-bin-hadoop2.7/examples/src/main/java/org/apache/spark/examples/streaming/JavaRecoverableNetworkWordCount.java\n",
            "spark-2.4.8-bin-hadoop2.7/examples/src/main/java/org/apache/spark/examples/streaming/JavaSqlNetworkWordCount.java\n",
            "spark-2.4.8-bin-hadoop2.7/examples/src/main/java/org/apache/spark/examples/streaming/JavaStatefulNetworkWordCount.java\n",
            "spark-2.4.8-bin-hadoop2.7/examples/src/main/python/\n",
            "spark-2.4.8-bin-hadoop2.7/examples/src/main/python/als.py\n",
            "spark-2.4.8-bin-hadoop2.7/examples/src/main/python/avro_inputformat.py\n",
            "spark-2.4.8-bin-hadoop2.7/examples/src/main/python/kmeans.py\n",
            "spark-2.4.8-bin-hadoop2.7/examples/src/main/python/logistic_regression.py\n",
            "spark-2.4.8-bin-hadoop2.7/examples/src/main/python/ml/\n",
            "spark-2.4.8-bin-hadoop2.7/examples/src/main/python/ml/aft_survival_regression.py\n",
            "spark-2.4.8-bin-hadoop2.7/examples/src/main/python/ml/als_example.py\n",
            "spark-2.4.8-bin-hadoop2.7/examples/src/main/python/ml/binarizer_example.py\n",
            "spark-2.4.8-bin-hadoop2.7/examples/src/main/python/ml/bisecting_k_means_example.py\n",
            "spark-2.4.8-bin-hadoop2.7/examples/src/main/python/ml/bucketed_random_projection_lsh_example.py\n",
            "spark-2.4.8-bin-hadoop2.7/examples/src/main/python/ml/bucketizer_example.py\n",
            "spark-2.4.8-bin-hadoop2.7/examples/src/main/python/ml/chi_square_test_example.py\n",
            "spark-2.4.8-bin-hadoop2.7/examples/src/main/python/ml/chisq_selector_example.py\n",
            "spark-2.4.8-bin-hadoop2.7/examples/src/main/python/ml/correlation_example.py\n",
            "spark-2.4.8-bin-hadoop2.7/examples/src/main/python/ml/count_vectorizer_example.py\n",
            "spark-2.4.8-bin-hadoop2.7/examples/src/main/python/ml/cross_validator.py\n",
            "spark-2.4.8-bin-hadoop2.7/examples/src/main/python/ml/dataframe_example.py\n",
            "spark-2.4.8-bin-hadoop2.7/examples/src/main/python/ml/dct_example.py\n",
            "spark-2.4.8-bin-hadoop2.7/examples/src/main/python/ml/decision_tree_classification_example.py\n",
            "spark-2.4.8-bin-hadoop2.7/examples/src/main/python/ml/decision_tree_regression_example.py\n",
            "spark-2.4.8-bin-hadoop2.7/examples/src/main/python/ml/elementwise_product_example.py\n",
            "spark-2.4.8-bin-hadoop2.7/examples/src/main/python/ml/estimator_transformer_param_example.py\n",
            "spark-2.4.8-bin-hadoop2.7/examples/src/main/python/ml/feature_hasher_example.py\n",
            "spark-2.4.8-bin-hadoop2.7/examples/src/main/python/ml/fpgrowth_example.py\n",
            "spark-2.4.8-bin-hadoop2.7/examples/src/main/python/ml/gaussian_mixture_example.py\n",
            "spark-2.4.8-bin-hadoop2.7/examples/src/main/python/ml/generalized_linear_regression_example.py\n",
            "spark-2.4.8-bin-hadoop2.7/examples/src/main/python/ml/gradient_boosted_tree_classifier_example.py\n",
            "spark-2.4.8-bin-hadoop2.7/examples/src/main/python/ml/gradient_boosted_tree_regressor_example.py\n",
            "spark-2.4.8-bin-hadoop2.7/examples/src/main/python/ml/imputer_example.py\n",
            "spark-2.4.8-bin-hadoop2.7/examples/src/main/python/ml/index_to_string_example.py\n",
            "spark-2.4.8-bin-hadoop2.7/examples/src/main/python/ml/isotonic_regression_example.py\n",
            "spark-2.4.8-bin-hadoop2.7/examples/src/main/python/ml/kmeans_example.py\n",
            "spark-2.4.8-bin-hadoop2.7/examples/src/main/python/ml/lda_example.py\n",
            "spark-2.4.8-bin-hadoop2.7/examples/src/main/python/ml/linear_regression_with_elastic_net.py\n",
            "spark-2.4.8-bin-hadoop2.7/examples/src/main/python/ml/linearsvc.py\n",
            "spark-2.4.8-bin-hadoop2.7/examples/src/main/python/ml/logistic_regression_summary_example.py\n",
            "spark-2.4.8-bin-hadoop2.7/examples/src/main/python/ml/logistic_regression_with_elastic_net.py\n",
            "spark-2.4.8-bin-hadoop2.7/examples/src/main/python/ml/max_abs_scaler_example.py\n",
            "spark-2.4.8-bin-hadoop2.7/examples/src/main/python/ml/min_hash_lsh_example.py\n",
            "spark-2.4.8-bin-hadoop2.7/examples/src/main/python/ml/min_max_scaler_example.py\n",
            "spark-2.4.8-bin-hadoop2.7/examples/src/main/python/ml/multiclass_logistic_regression_with_elastic_net.py\n",
            "spark-2.4.8-bin-hadoop2.7/examples/src/main/python/ml/multilayer_perceptron_classification.py\n",
            "spark-2.4.8-bin-hadoop2.7/examples/src/main/python/ml/n_gram_example.py\n",
            "spark-2.4.8-bin-hadoop2.7/examples/src/main/python/ml/naive_bayes_example.py\n",
            "spark-2.4.8-bin-hadoop2.7/examples/src/main/python/ml/normalizer_example.py\n",
            "spark-2.4.8-bin-hadoop2.7/examples/src/main/python/ml/one_vs_rest_example.py\n",
            "spark-2.4.8-bin-hadoop2.7/examples/src/main/python/ml/onehot_encoder_estimator_example.py\n",
            "spark-2.4.8-bin-hadoop2.7/examples/src/main/python/ml/pca_example.py\n",
            "spark-2.4.8-bin-hadoop2.7/examples/src/main/python/ml/pipeline_example.py\n",
            "spark-2.4.8-bin-hadoop2.7/examples/src/main/python/ml/polynomial_expansion_example.py\n",
            "spark-2.4.8-bin-hadoop2.7/examples/src/main/python/ml/prefixspan_example.py\n",
            "spark-2.4.8-bin-hadoop2.7/examples/src/main/python/ml/quantile_discretizer_example.py\n",
            "spark-2.4.8-bin-hadoop2.7/examples/src/main/python/ml/random_forest_classifier_example.py\n",
            "spark-2.4.8-bin-hadoop2.7/examples/src/main/python/ml/random_forest_regressor_example.py\n",
            "spark-2.4.8-bin-hadoop2.7/examples/src/main/python/ml/rformula_example.py\n",
            "spark-2.4.8-bin-hadoop2.7/examples/src/main/python/ml/sql_transformer.py\n",
            "spark-2.4.8-bin-hadoop2.7/examples/src/main/python/ml/standard_scaler_example.py\n",
            "spark-2.4.8-bin-hadoop2.7/examples/src/main/python/ml/stopwords_remover_example.py\n",
            "spark-2.4.8-bin-hadoop2.7/examples/src/main/python/ml/string_indexer_example.py\n",
            "spark-2.4.8-bin-hadoop2.7/examples/src/main/python/ml/summarizer_example.py\n",
            "spark-2.4.8-bin-hadoop2.7/examples/src/main/python/ml/tf_idf_example.py\n",
            "spark-2.4.8-bin-hadoop2.7/examples/src/main/python/ml/tokenizer_example.py\n",
            "spark-2.4.8-bin-hadoop2.7/examples/src/main/python/ml/train_validation_split.py\n",
            "spark-2.4.8-bin-hadoop2.7/examples/src/main/python/ml/vector_assembler_example.py\n",
            "spark-2.4.8-bin-hadoop2.7/examples/src/main/python/ml/vector_indexer_example.py\n",
            "spark-2.4.8-bin-hadoop2.7/examples/src/main/python/ml/vector_size_hint_example.py\n",
            "spark-2.4.8-bin-hadoop2.7/examples/src/main/python/ml/vector_slicer_example.py\n",
            "spark-2.4.8-bin-hadoop2.7/examples/src/main/python/ml/word2vec_example.py\n",
            "spark-2.4.8-bin-hadoop2.7/examples/src/main/python/mllib/\n",
            "spark-2.4.8-bin-hadoop2.7/examples/src/main/python/mllib/binary_classification_metrics_example.py\n",
            "spark-2.4.8-bin-hadoop2.7/examples/src/main/python/mllib/bisecting_k_means_example.py\n",
            "spark-2.4.8-bin-hadoop2.7/examples/src/main/python/mllib/correlations.py\n",
            "spark-2.4.8-bin-hadoop2.7/examples/src/main/python/mllib/correlations_example.py\n",
            "spark-2.4.8-bin-hadoop2.7/examples/src/main/python/mllib/decision_tree_classification_example.py\n",
            "spark-2.4.8-bin-hadoop2.7/examples/src/main/python/mllib/decision_tree_regression_example.py\n",
            "spark-2.4.8-bin-hadoop2.7/examples/src/main/python/mllib/elementwise_product_example.py\n",
            "spark-2.4.8-bin-hadoop2.7/examples/src/main/python/mllib/fpgrowth_example.py\n",
            "spark-2.4.8-bin-hadoop2.7/examples/src/main/python/mllib/gaussian_mixture_example.py\n",
            "spark-2.4.8-bin-hadoop2.7/examples/src/main/python/mllib/gaussian_mixture_model.py\n",
            "spark-2.4.8-bin-hadoop2.7/examples/src/main/python/mllib/gradient_boosting_classification_example.py\n",
            "spark-2.4.8-bin-hadoop2.7/examples/src/main/python/mllib/gradient_boosting_regression_example.py\n",
            "spark-2.4.8-bin-hadoop2.7/examples/src/main/python/mllib/hypothesis_testing_example.py\n",
            "spark-2.4.8-bin-hadoop2.7/examples/src/main/python/mllib/hypothesis_testing_kolmogorov_smirnov_test_example.py\n",
            "spark-2.4.8-bin-hadoop2.7/examples/src/main/python/mllib/isotonic_regression_example.py\n",
            "spark-2.4.8-bin-hadoop2.7/examples/src/main/python/mllib/k_means_example.py\n",
            "spark-2.4.8-bin-hadoop2.7/examples/src/main/python/mllib/kernel_density_estimation_example.py\n",
            "spark-2.4.8-bin-hadoop2.7/examples/src/main/python/mllib/kmeans.py\n",
            "spark-2.4.8-bin-hadoop2.7/examples/src/main/python/mllib/latent_dirichlet_allocation_example.py\n",
            "spark-2.4.8-bin-hadoop2.7/examples/src/main/python/mllib/linear_regression_with_sgd_example.py\n",
            "spark-2.4.8-bin-hadoop2.7/examples/src/main/python/mllib/logistic_regression.py\n",
            "spark-2.4.8-bin-hadoop2.7/examples/src/main/python/mllib/logistic_regression_with_lbfgs_example.py\n",
            "spark-2.4.8-bin-hadoop2.7/examples/src/main/python/mllib/multi_class_metrics_example.py\n",
            "spark-2.4.8-bin-hadoop2.7/examples/src/main/python/mllib/multi_label_metrics_example.py\n",
            "spark-2.4.8-bin-hadoop2.7/examples/src/main/python/mllib/naive_bayes_example.py\n",
            "spark-2.4.8-bin-hadoop2.7/examples/src/main/python/mllib/normalizer_example.py\n",
            "spark-2.4.8-bin-hadoop2.7/examples/src/main/python/mllib/pca_rowmatrix_example.py\n",
            "spark-2.4.8-bin-hadoop2.7/examples/src/main/python/mllib/power_iteration_clustering_example.py\n",
            "spark-2.4.8-bin-hadoop2.7/examples/src/main/python/mllib/random_forest_classification_example.py\n",
            "spark-2.4.8-bin-hadoop2.7/examples/src/main/python/mllib/random_forest_regression_example.py\n",
            "spark-2.4.8-bin-hadoop2.7/examples/src/main/python/mllib/random_rdd_generation.py\n",
            "spark-2.4.8-bin-hadoop2.7/examples/src/main/python/mllib/ranking_metrics_example.py\n",
            "spark-2.4.8-bin-hadoop2.7/examples/src/main/python/mllib/recommendation_example.py\n",
            "spark-2.4.8-bin-hadoop2.7/examples/src/main/python/mllib/regression_metrics_example.py\n",
            "spark-2.4.8-bin-hadoop2.7/examples/src/main/python/mllib/sampled_rdds.py\n",
            "spark-2.4.8-bin-hadoop2.7/examples/src/main/python/mllib/standard_scaler_example.py\n",
            "spark-2.4.8-bin-hadoop2.7/examples/src/main/python/mllib/stratified_sampling_example.py\n",
            "spark-2.4.8-bin-hadoop2.7/examples/src/main/python/mllib/streaming_k_means_example.py\n",
            "spark-2.4.8-bin-hadoop2.7/examples/src/main/python/mllib/streaming_linear_regression_example.py\n",
            "spark-2.4.8-bin-hadoop2.7/examples/src/main/python/mllib/summary_statistics_example.py\n",
            "spark-2.4.8-bin-hadoop2.7/examples/src/main/python/mllib/svd_example.py\n",
            "spark-2.4.8-bin-hadoop2.7/examples/src/main/python/mllib/svm_with_sgd_example.py\n",
            "spark-2.4.8-bin-hadoop2.7/examples/src/main/python/mllib/tf_idf_example.py\n",
            "spark-2.4.8-bin-hadoop2.7/examples/src/main/python/mllib/word2vec.py\n",
            "spark-2.4.8-bin-hadoop2.7/examples/src/main/python/mllib/word2vec_example.py\n",
            "spark-2.4.8-bin-hadoop2.7/examples/src/main/python/pagerank.py\n",
            "spark-2.4.8-bin-hadoop2.7/examples/src/main/python/parquet_inputformat.py\n",
            "spark-2.4.8-bin-hadoop2.7/examples/src/main/python/pi.py\n",
            "spark-2.4.8-bin-hadoop2.7/examples/src/main/python/sort.py\n",
            "spark-2.4.8-bin-hadoop2.7/examples/src/main/python/sql/\n",
            "spark-2.4.8-bin-hadoop2.7/examples/src/main/python/sql/arrow.py\n",
            "spark-2.4.8-bin-hadoop2.7/examples/src/main/python/sql/basic.py\n",
            "spark-2.4.8-bin-hadoop2.7/examples/src/main/python/sql/datasource.py\n",
            "spark-2.4.8-bin-hadoop2.7/examples/src/main/python/sql/hive.py\n",
            "spark-2.4.8-bin-hadoop2.7/examples/src/main/python/sql/streaming/\n",
            "spark-2.4.8-bin-hadoop2.7/examples/src/main/python/sql/streaming/structured_kafka_wordcount.py\n",
            "spark-2.4.8-bin-hadoop2.7/examples/src/main/python/sql/streaming/structured_network_wordcount.py\n",
            "spark-2.4.8-bin-hadoop2.7/examples/src/main/python/sql/streaming/structured_network_wordcount_windowed.py\n",
            "spark-2.4.8-bin-hadoop2.7/examples/src/main/python/status_api_demo.py\n",
            "spark-2.4.8-bin-hadoop2.7/examples/src/main/python/streaming/\n",
            "spark-2.4.8-bin-hadoop2.7/examples/src/main/python/streaming/direct_kafka_wordcount.py\n",
            "spark-2.4.8-bin-hadoop2.7/examples/src/main/python/streaming/flume_wordcount.py\n",
            "spark-2.4.8-bin-hadoop2.7/examples/src/main/python/streaming/hdfs_wordcount.py\n",
            "spark-2.4.8-bin-hadoop2.7/examples/src/main/python/streaming/kafka_wordcount.py\n",
            "spark-2.4.8-bin-hadoop2.7/examples/src/main/python/streaming/network_wordcount.py\n",
            "spark-2.4.8-bin-hadoop2.7/examples/src/main/python/streaming/network_wordjoinsentiments.py\n",
            "spark-2.4.8-bin-hadoop2.7/examples/src/main/python/streaming/queue_stream.py\n",
            "spark-2.4.8-bin-hadoop2.7/examples/src/main/python/streaming/recoverable_network_wordcount.py\n",
            "spark-2.4.8-bin-hadoop2.7/examples/src/main/python/streaming/sql_network_wordcount.py\n",
            "spark-2.4.8-bin-hadoop2.7/examples/src/main/python/streaming/stateful_network_wordcount.py\n",
            "spark-2.4.8-bin-hadoop2.7/examples/src/main/python/transitive_closure.py\n",
            "spark-2.4.8-bin-hadoop2.7/examples/src/main/python/wordcount.py\n",
            "spark-2.4.8-bin-hadoop2.7/examples/src/main/r/\n",
            "spark-2.4.8-bin-hadoop2.7/examples/src/main/r/RSparkSQLExample.R\n",
            "spark-2.4.8-bin-hadoop2.7/examples/src/main/r/data-manipulation.R\n",
            "spark-2.4.8-bin-hadoop2.7/examples/src/main/r/dataframe.R\n",
            "spark-2.4.8-bin-hadoop2.7/examples/src/main/r/ml/\n",
            "spark-2.4.8-bin-hadoop2.7/examples/src/main/r/ml/als.R\n",
            "spark-2.4.8-bin-hadoop2.7/examples/src/main/r/ml/bisectingKmeans.R\n",
            "spark-2.4.8-bin-hadoop2.7/examples/src/main/r/ml/decisionTree.R\n",
            "spark-2.4.8-bin-hadoop2.7/examples/src/main/r/ml/fpm.R\n",
            "spark-2.4.8-bin-hadoop2.7/examples/src/main/r/ml/gaussianMixture.R\n",
            "spark-2.4.8-bin-hadoop2.7/examples/src/main/r/ml/gbt.R\n",
            "spark-2.4.8-bin-hadoop2.7/examples/src/main/r/ml/glm.R\n",
            "spark-2.4.8-bin-hadoop2.7/examples/src/main/r/ml/isoreg.R\n",
            "spark-2.4.8-bin-hadoop2.7/examples/src/main/r/ml/kmeans.R\n",
            "spark-2.4.8-bin-hadoop2.7/examples/src/main/r/ml/kstest.R\n",
            "spark-2.4.8-bin-hadoop2.7/examples/src/main/r/ml/lda.R\n",
            "spark-2.4.8-bin-hadoop2.7/examples/src/main/r/ml/logit.R\n",
            "spark-2.4.8-bin-hadoop2.7/examples/src/main/r/ml/ml.R\n",
            "spark-2.4.8-bin-hadoop2.7/examples/src/main/r/ml/mlp.R\n",
            "spark-2.4.8-bin-hadoop2.7/examples/src/main/r/ml/naiveBayes.R\n",
            "spark-2.4.8-bin-hadoop2.7/examples/src/main/r/ml/randomForest.R\n",
            "spark-2.4.8-bin-hadoop2.7/examples/src/main/r/ml/survreg.R\n",
            "spark-2.4.8-bin-hadoop2.7/examples/src/main/r/ml/svmLinear.R\n",
            "spark-2.4.8-bin-hadoop2.7/examples/src/main/r/streaming/\n",
            "spark-2.4.8-bin-hadoop2.7/examples/src/main/r/streaming/structured_network_wordcount.R\n",
            "spark-2.4.8-bin-hadoop2.7/examples/src/main/resources/\n",
            "spark-2.4.8-bin-hadoop2.7/examples/src/main/resources/employees.json\n",
            "spark-2.4.8-bin-hadoop2.7/examples/src/main/resources/full_user.avsc\n",
            "spark-2.4.8-bin-hadoop2.7/examples/src/main/resources/kv1.txt\n",
            "spark-2.4.8-bin-hadoop2.7/examples/src/main/resources/people.csv\n",
            "spark-2.4.8-bin-hadoop2.7/examples/src/main/resources/people.json\n",
            "spark-2.4.8-bin-hadoop2.7/examples/src/main/resources/people.txt\n",
            "spark-2.4.8-bin-hadoop2.7/examples/src/main/resources/user.avsc\n",
            "spark-2.4.8-bin-hadoop2.7/examples/src/main/resources/users.avro\n",
            "spark-2.4.8-bin-hadoop2.7/examples/src/main/resources/users.orc\n",
            "spark-2.4.8-bin-hadoop2.7/examples/src/main/resources/users.parquet\n",
            "spark-2.4.8-bin-hadoop2.7/examples/src/main/scala/\n",
            "spark-2.4.8-bin-hadoop2.7/examples/src/main/scala/org/\n",
            "spark-2.4.8-bin-hadoop2.7/examples/src/main/scala/org/apache/\n",
            "spark-2.4.8-bin-hadoop2.7/examples/src/main/scala/org/apache/spark/\n",
            "spark-2.4.8-bin-hadoop2.7/examples/src/main/scala/org/apache/spark/examples/\n",
            "spark-2.4.8-bin-hadoop2.7/examples/src/main/scala/org/apache/spark/examples/BroadcastTest.scala\n",
            "spark-2.4.8-bin-hadoop2.7/examples/src/main/scala/org/apache/spark/examples/DFSReadWriteTest.scala\n",
            "spark-2.4.8-bin-hadoop2.7/examples/src/main/scala/org/apache/spark/examples/DriverSubmissionTest.scala\n",
            "spark-2.4.8-bin-hadoop2.7/examples/src/main/scala/org/apache/spark/examples/ExceptionHandlingTest.scala\n",
            "spark-2.4.8-bin-hadoop2.7/examples/src/main/scala/org/apache/spark/examples/GroupByTest.scala\n",
            "spark-2.4.8-bin-hadoop2.7/examples/src/main/scala/org/apache/spark/examples/HdfsTest.scala\n",
            "spark-2.4.8-bin-hadoop2.7/examples/src/main/scala/org/apache/spark/examples/LocalALS.scala\n",
            "spark-2.4.8-bin-hadoop2.7/examples/src/main/scala/org/apache/spark/examples/LocalFileLR.scala\n",
            "spark-2.4.8-bin-hadoop2.7/examples/src/main/scala/org/apache/spark/examples/LocalKMeans.scala\n",
            "spark-2.4.8-bin-hadoop2.7/examples/src/main/scala/org/apache/spark/examples/LocalLR.scala\n",
            "spark-2.4.8-bin-hadoop2.7/examples/src/main/scala/org/apache/spark/examples/LocalPi.scala\n",
            "spark-2.4.8-bin-hadoop2.7/examples/src/main/scala/org/apache/spark/examples/LogQuery.scala\n",
            "spark-2.4.8-bin-hadoop2.7/examples/src/main/scala/org/apache/spark/examples/MultiBroadcastTest.scala\n",
            "spark-2.4.8-bin-hadoop2.7/examples/src/main/scala/org/apache/spark/examples/SimpleSkewedGroupByTest.scala\n",
            "spark-2.4.8-bin-hadoop2.7/examples/src/main/scala/org/apache/spark/examples/SkewedGroupByTest.scala\n",
            "spark-2.4.8-bin-hadoop2.7/examples/src/main/scala/org/apache/spark/examples/SparkALS.scala\n",
            "spark-2.4.8-bin-hadoop2.7/examples/src/main/scala/org/apache/spark/examples/SparkHdfsLR.scala\n",
            "spark-2.4.8-bin-hadoop2.7/examples/src/main/scala/org/apache/spark/examples/SparkKMeans.scala\n",
            "spark-2.4.8-bin-hadoop2.7/examples/src/main/scala/org/apache/spark/examples/SparkLR.scala\n",
            "spark-2.4.8-bin-hadoop2.7/examples/src/main/scala/org/apache/spark/examples/SparkPageRank.scala\n",
            "spark-2.4.8-bin-hadoop2.7/examples/src/main/scala/org/apache/spark/examples/SparkPi.scala\n",
            "spark-2.4.8-bin-hadoop2.7/examples/src/main/scala/org/apache/spark/examples/SparkRemoteFileTest.scala\n",
            "spark-2.4.8-bin-hadoop2.7/examples/src/main/scala/org/apache/spark/examples/SparkTC.scala\n",
            "spark-2.4.8-bin-hadoop2.7/examples/src/main/scala/org/apache/spark/examples/graphx/\n",
            "spark-2.4.8-bin-hadoop2.7/examples/src/main/scala/org/apache/spark/examples/graphx/AggregateMessagesExample.scala\n",
            "spark-2.4.8-bin-hadoop2.7/examples/src/main/scala/org/apache/spark/examples/graphx/Analytics.scala\n",
            "spark-2.4.8-bin-hadoop2.7/examples/src/main/scala/org/apache/spark/examples/graphx/ComprehensiveExample.scala\n",
            "spark-2.4.8-bin-hadoop2.7/examples/src/main/scala/org/apache/spark/examples/graphx/ConnectedComponentsExample.scala\n",
            "spark-2.4.8-bin-hadoop2.7/examples/src/main/scala/org/apache/spark/examples/graphx/LiveJournalPageRank.scala\n",
            "spark-2.4.8-bin-hadoop2.7/examples/src/main/scala/org/apache/spark/examples/graphx/PageRankExample.scala\n",
            "spark-2.4.8-bin-hadoop2.7/examples/src/main/scala/org/apache/spark/examples/graphx/SSSPExample.scala\n",
            "spark-2.4.8-bin-hadoop2.7/examples/src/main/scala/org/apache/spark/examples/graphx/SynthBenchmark.scala\n",
            "spark-2.4.8-bin-hadoop2.7/examples/src/main/scala/org/apache/spark/examples/graphx/TriangleCountingExample.scala\n",
            "spark-2.4.8-bin-hadoop2.7/examples/src/main/scala/org/apache/spark/examples/ml/\n",
            "spark-2.4.8-bin-hadoop2.7/examples/src/main/scala/org/apache/spark/examples/ml/AFTSurvivalRegressionExample.scala\n",
            "spark-2.4.8-bin-hadoop2.7/examples/src/main/scala/org/apache/spark/examples/ml/ALSExample.scala\n",
            "spark-2.4.8-bin-hadoop2.7/examples/src/main/scala/org/apache/spark/examples/ml/BinarizerExample.scala\n",
            "spark-2.4.8-bin-hadoop2.7/examples/src/main/scala/org/apache/spark/examples/ml/BisectingKMeansExample.scala\n",
            "spark-2.4.8-bin-hadoop2.7/examples/src/main/scala/org/apache/spark/examples/ml/BucketedRandomProjectionLSHExample.scala\n",
            "spark-2.4.8-bin-hadoop2.7/examples/src/main/scala/org/apache/spark/examples/ml/BucketizerExample.scala\n",
            "spark-2.4.8-bin-hadoop2.7/examples/src/main/scala/org/apache/spark/examples/ml/ChiSqSelectorExample.scala\n",
            "spark-2.4.8-bin-hadoop2.7/examples/src/main/scala/org/apache/spark/examples/ml/ChiSquareTestExample.scala\n",
            "spark-2.4.8-bin-hadoop2.7/examples/src/main/scala/org/apache/spark/examples/ml/CorrelationExample.scala\n",
            "spark-2.4.8-bin-hadoop2.7/examples/src/main/scala/org/apache/spark/examples/ml/CountVectorizerExample.scala\n",
            "spark-2.4.8-bin-hadoop2.7/examples/src/main/scala/org/apache/spark/examples/ml/DCTExample.scala\n",
            "spark-2.4.8-bin-hadoop2.7/examples/src/main/scala/org/apache/spark/examples/ml/DataFrameExample.scala\n",
            "spark-2.4.8-bin-hadoop2.7/examples/src/main/scala/org/apache/spark/examples/ml/DecisionTreeClassificationExample.scala\n",
            "spark-2.4.8-bin-hadoop2.7/examples/src/main/scala/org/apache/spark/examples/ml/DecisionTreeExample.scala\n",
            "spark-2.4.8-bin-hadoop2.7/examples/src/main/scala/org/apache/spark/examples/ml/DecisionTreeRegressionExample.scala\n",
            "spark-2.4.8-bin-hadoop2.7/examples/src/main/scala/org/apache/spark/examples/ml/DeveloperApiExample.scala\n",
            "spark-2.4.8-bin-hadoop2.7/examples/src/main/scala/org/apache/spark/examples/ml/ElementwiseProductExample.scala\n",
            "spark-2.4.8-bin-hadoop2.7/examples/src/main/scala/org/apache/spark/examples/ml/EstimatorTransformerParamExample.scala\n",
            "spark-2.4.8-bin-hadoop2.7/examples/src/main/scala/org/apache/spark/examples/ml/FPGrowthExample.scala\n",
            "spark-2.4.8-bin-hadoop2.7/examples/src/main/scala/org/apache/spark/examples/ml/FeatureHasherExample.scala\n",
            "spark-2.4.8-bin-hadoop2.7/examples/src/main/scala/org/apache/spark/examples/ml/GBTExample.scala\n",
            "spark-2.4.8-bin-hadoop2.7/examples/src/main/scala/org/apache/spark/examples/ml/GaussianMixtureExample.scala\n",
            "spark-2.4.8-bin-hadoop2.7/examples/src/main/scala/org/apache/spark/examples/ml/GeneralizedLinearRegressionExample.scala\n",
            "spark-2.4.8-bin-hadoop2.7/examples/src/main/scala/org/apache/spark/examples/ml/GradientBoostedTreeClassifierExample.scala\n",
            "spark-2.4.8-bin-hadoop2.7/examples/src/main/scala/org/apache/spark/examples/ml/GradientBoostedTreeRegressorExample.scala\n",
            "spark-2.4.8-bin-hadoop2.7/examples/src/main/scala/org/apache/spark/examples/ml/ImputerExample.scala\n",
            "spark-2.4.8-bin-hadoop2.7/examples/src/main/scala/org/apache/spark/examples/ml/IndexToStringExample.scala\n",
            "spark-2.4.8-bin-hadoop2.7/examples/src/main/scala/org/apache/spark/examples/ml/InteractionExample.scala\n",
            "spark-2.4.8-bin-hadoop2.7/examples/src/main/scala/org/apache/spark/examples/ml/IsotonicRegressionExample.scala\n",
            "spark-2.4.8-bin-hadoop2.7/examples/src/main/scala/org/apache/spark/examples/ml/KMeansExample.scala\n",
            "spark-2.4.8-bin-hadoop2.7/examples/src/main/scala/org/apache/spark/examples/ml/LDAExample.scala\n",
            "spark-2.4.8-bin-hadoop2.7/examples/src/main/scala/org/apache/spark/examples/ml/LinearRegressionExample.scala\n",
            "spark-2.4.8-bin-hadoop2.7/examples/src/main/scala/org/apache/spark/examples/ml/LinearRegressionWithElasticNetExample.scala\n",
            "spark-2.4.8-bin-hadoop2.7/examples/src/main/scala/org/apache/spark/examples/ml/LinearSVCExample.scala\n",
            "spark-2.4.8-bin-hadoop2.7/examples/src/main/scala/org/apache/spark/examples/ml/LogisticRegressionExample.scala\n",
            "spark-2.4.8-bin-hadoop2.7/examples/src/main/scala/org/apache/spark/examples/ml/LogisticRegressionSummaryExample.scala\n",
            "spark-2.4.8-bin-hadoop2.7/examples/src/main/scala/org/apache/spark/examples/ml/LogisticRegressionWithElasticNetExample.scala\n",
            "spark-2.4.8-bin-hadoop2.7/examples/src/main/scala/org/apache/spark/examples/ml/MaxAbsScalerExample.scala\n",
            "spark-2.4.8-bin-hadoop2.7/examples/src/main/scala/org/apache/spark/examples/ml/MinHashLSHExample.scala\n",
            "spark-2.4.8-bin-hadoop2.7/examples/src/main/scala/org/apache/spark/examples/ml/MinMaxScalerExample.scala\n",
            "spark-2.4.8-bin-hadoop2.7/examples/src/main/scala/org/apache/spark/examples/ml/ModelSelectionViaCrossValidationExample.scala\n",
            "spark-2.4.8-bin-hadoop2.7/examples/src/main/scala/org/apache/spark/examples/ml/ModelSelectionViaTrainValidationSplitExample.scala\n",
            "spark-2.4.8-bin-hadoop2.7/examples/src/main/scala/org/apache/spark/examples/ml/MulticlassLogisticRegressionWithElasticNetExample.scala\n",
            "spark-2.4.8-bin-hadoop2.7/examples/src/main/scala/org/apache/spark/examples/ml/MultilayerPerceptronClassifierExample.scala\n",
            "spark-2.4.8-bin-hadoop2.7/examples/src/main/scala/org/apache/spark/examples/ml/NGramExample.scala\n",
            "spark-2.4.8-bin-hadoop2.7/examples/src/main/scala/org/apache/spark/examples/ml/NaiveBayesExample.scala\n",
            "spark-2.4.8-bin-hadoop2.7/examples/src/main/scala/org/apache/spark/examples/ml/NormalizerExample.scala\n",
            "spark-2.4.8-bin-hadoop2.7/examples/src/main/scala/org/apache/spark/examples/ml/OneHotEncoderEstimatorExample.scala\n",
            "spark-2.4.8-bin-hadoop2.7/examples/src/main/scala/org/apache/spark/examples/ml/OneVsRestExample.scala\n",
            "spark-2.4.8-bin-hadoop2.7/examples/src/main/scala/org/apache/spark/examples/ml/PCAExample.scala\n",
            "spark-2.4.8-bin-hadoop2.7/examples/src/main/scala/org/apache/spark/examples/ml/PipelineExample.scala\n",
            "spark-2.4.8-bin-hadoop2.7/examples/src/main/scala/org/apache/spark/examples/ml/PolynomialExpansionExample.scala\n",
            "spark-2.4.8-bin-hadoop2.7/examples/src/main/scala/org/apache/spark/examples/ml/PowerIterationClusteringExample.scala\n",
            "spark-2.4.8-bin-hadoop2.7/examples/src/main/scala/org/apache/spark/examples/ml/PrefixSpanExample.scala\n",
            "spark-2.4.8-bin-hadoop2.7/examples/src/main/scala/org/apache/spark/examples/ml/QuantileDiscretizerExample.scala\n",
            "spark-2.4.8-bin-hadoop2.7/examples/src/main/scala/org/apache/spark/examples/ml/RFormulaExample.scala\n",
            "spark-2.4.8-bin-hadoop2.7/examples/src/main/scala/org/apache/spark/examples/ml/RandomForestClassifierExample.scala\n",
            "spark-2.4.8-bin-hadoop2.7/examples/src/main/scala/org/apache/spark/examples/ml/RandomForestExample.scala\n",
            "spark-2.4.8-bin-hadoop2.7/examples/src/main/scala/org/apache/spark/examples/ml/RandomForestRegressorExample.scala\n",
            "spark-2.4.8-bin-hadoop2.7/examples/src/main/scala/org/apache/spark/examples/ml/SQLTransformerExample.scala\n",
            "spark-2.4.8-bin-hadoop2.7/examples/src/main/scala/org/apache/spark/examples/ml/StandardScalerExample.scala\n",
            "spark-2.4.8-bin-hadoop2.7/examples/src/main/scala/org/apache/spark/examples/ml/StopWordsRemoverExample.scala\n",
            "spark-2.4.8-bin-hadoop2.7/examples/src/main/scala/org/apache/spark/examples/ml/StringIndexerExample.scala\n",
            "spark-2.4.8-bin-hadoop2.7/examples/src/main/scala/org/apache/spark/examples/ml/SummarizerExample.scala\n",
            "spark-2.4.8-bin-hadoop2.7/examples/src/main/scala/org/apache/spark/examples/ml/TfIdfExample.scala\n",
            "spark-2.4.8-bin-hadoop2.7/examples/src/main/scala/org/apache/spark/examples/ml/TokenizerExample.scala\n",
            "spark-2.4.8-bin-hadoop2.7/examples/src/main/scala/org/apache/spark/examples/ml/UnaryTransformerExample.scala\n",
            "spark-2.4.8-bin-hadoop2.7/examples/src/main/scala/org/apache/spark/examples/ml/VectorAssemblerExample.scala\n",
            "spark-2.4.8-bin-hadoop2.7/examples/src/main/scala/org/apache/spark/examples/ml/VectorIndexerExample.scala\n",
            "spark-2.4.8-bin-hadoop2.7/examples/src/main/scala/org/apache/spark/examples/ml/VectorSizeHintExample.scala\n",
            "spark-2.4.8-bin-hadoop2.7/examples/src/main/scala/org/apache/spark/examples/ml/VectorSlicerExample.scala\n",
            "spark-2.4.8-bin-hadoop2.7/examples/src/main/scala/org/apache/spark/examples/ml/Word2VecExample.scala\n",
            "spark-2.4.8-bin-hadoop2.7/examples/src/main/scala/org/apache/spark/examples/mllib/\n",
            "spark-2.4.8-bin-hadoop2.7/examples/src/main/scala/org/apache/spark/examples/mllib/AbstractParams.scala\n",
            "spark-2.4.8-bin-hadoop2.7/examples/src/main/scala/org/apache/spark/examples/mllib/AssociationRulesExample.scala\n",
            "spark-2.4.8-bin-hadoop2.7/examples/src/main/scala/org/apache/spark/examples/mllib/BinaryClassification.scala\n",
            "spark-2.4.8-bin-hadoop2.7/examples/src/main/scala/org/apache/spark/examples/mllib/BinaryClassificationMetricsExample.scala\n",
            "spark-2.4.8-bin-hadoop2.7/examples/src/main/scala/org/apache/spark/examples/mllib/BisectingKMeansExample.scala\n",
            "spark-2.4.8-bin-hadoop2.7/examples/src/main/scala/org/apache/spark/examples/mllib/ChiSqSelectorExample.scala\n",
            "spark-2.4.8-bin-hadoop2.7/examples/src/main/scala/org/apache/spark/examples/mllib/Correlations.scala\n",
            "spark-2.4.8-bin-hadoop2.7/examples/src/main/scala/org/apache/spark/examples/mllib/CorrelationsExample.scala\n",
            "spark-2.4.8-bin-hadoop2.7/examples/src/main/scala/org/apache/spark/examples/mllib/CosineSimilarity.scala\n",
            "spark-2.4.8-bin-hadoop2.7/examples/src/main/scala/org/apache/spark/examples/mllib/DecisionTreeClassificationExample.scala\n",
            "spark-2.4.8-bin-hadoop2.7/examples/src/main/scala/org/apache/spark/examples/mllib/DecisionTreeRegressionExample.scala\n",
            "spark-2.4.8-bin-hadoop2.7/examples/src/main/scala/org/apache/spark/examples/mllib/DecisionTreeRunner.scala\n",
            "spark-2.4.8-bin-hadoop2.7/examples/src/main/scala/org/apache/spark/examples/mllib/DenseKMeans.scala\n",
            "spark-2.4.8-bin-hadoop2.7/examples/src/main/scala/org/apache/spark/examples/mllib/ElementwiseProductExample.scala\n",
            "spark-2.4.8-bin-hadoop2.7/examples/src/main/scala/org/apache/spark/examples/mllib/FPGrowthExample.scala\n",
            "spark-2.4.8-bin-hadoop2.7/examples/src/main/scala/org/apache/spark/examples/mllib/GaussianMixtureExample.scala\n",
            "spark-2.4.8-bin-hadoop2.7/examples/src/main/scala/org/apache/spark/examples/mllib/GradientBoostedTreesRunner.scala\n",
            "spark-2.4.8-bin-hadoop2.7/examples/src/main/scala/org/apache/spark/examples/mllib/GradientBoostingClassificationExample.scala\n",
            "spark-2.4.8-bin-hadoop2.7/examples/src/main/scala/org/apache/spark/examples/mllib/GradientBoostingRegressionExample.scala\n",
            "spark-2.4.8-bin-hadoop2.7/examples/src/main/scala/org/apache/spark/examples/mllib/HypothesisTestingExample.scala\n",
            "spark-2.4.8-bin-hadoop2.7/examples/src/main/scala/org/apache/spark/examples/mllib/HypothesisTestingKolmogorovSmirnovTestExample.scala\n",
            "spark-2.4.8-bin-hadoop2.7/examples/src/main/scala/org/apache/spark/examples/mllib/IsotonicRegressionExample.scala\n",
            "spark-2.4.8-bin-hadoop2.7/examples/src/main/scala/org/apache/spark/examples/mllib/KMeansExample.scala\n",
            "spark-2.4.8-bin-hadoop2.7/examples/src/main/scala/org/apache/spark/examples/mllib/KernelDensityEstimationExample.scala\n",
            "spark-2.4.8-bin-hadoop2.7/examples/src/main/scala/org/apache/spark/examples/mllib/LBFGSExample.scala\n",
            "spark-2.4.8-bin-hadoop2.7/examples/src/main/scala/org/apache/spark/examples/mllib/LDAExample.scala\n",
            "spark-2.4.8-bin-hadoop2.7/examples/src/main/scala/org/apache/spark/examples/mllib/LatentDirichletAllocationExample.scala\n",
            "spark-2.4.8-bin-hadoop2.7/examples/src/main/scala/org/apache/spark/examples/mllib/LinearRegression.scala\n",
            "spark-2.4.8-bin-hadoop2.7/examples/src/main/scala/org/apache/spark/examples/mllib/LinearRegressionWithSGDExample.scala\n",
            "spark-2.4.8-bin-hadoop2.7/examples/src/main/scala/org/apache/spark/examples/mllib/LogisticRegressionWithLBFGSExample.scala\n",
            "spark-2.4.8-bin-hadoop2.7/examples/src/main/scala/org/apache/spark/examples/mllib/MovieLensALS.scala\n",
            "spark-2.4.8-bin-hadoop2.7/examples/src/main/scala/org/apache/spark/examples/mllib/MultiLabelMetricsExample.scala\n",
            "spark-2.4.8-bin-hadoop2.7/examples/src/main/scala/org/apache/spark/examples/mllib/MulticlassMetricsExample.scala\n",
            "spark-2.4.8-bin-hadoop2.7/examples/src/main/scala/org/apache/spark/examples/mllib/MultivariateSummarizer.scala\n",
            "spark-2.4.8-bin-hadoop2.7/examples/src/main/scala/org/apache/spark/examples/mllib/NaiveBayesExample.scala\n",
            "spark-2.4.8-bin-hadoop2.7/examples/src/main/scala/org/apache/spark/examples/mllib/NormalizerExample.scala\n",
            "spark-2.4.8-bin-hadoop2.7/examples/src/main/scala/org/apache/spark/examples/mllib/PCAExample.scala\n",
            "spark-2.4.8-bin-hadoop2.7/examples/src/main/scala/org/apache/spark/examples/mllib/PCAOnRowMatrixExample.scala\n",
            "spark-2.4.8-bin-hadoop2.7/examples/src/main/scala/org/apache/spark/examples/mllib/PCAOnSourceVectorExample.scala\n",
            "spark-2.4.8-bin-hadoop2.7/examples/src/main/scala/org/apache/spark/examples/mllib/PMMLModelExportExample.scala\n",
            "spark-2.4.8-bin-hadoop2.7/examples/src/main/scala/org/apache/spark/examples/mllib/PowerIterationClusteringExample.scala\n",
            "spark-2.4.8-bin-hadoop2.7/examples/src/main/scala/org/apache/spark/examples/mllib/PrefixSpanExample.scala\n",
            "spark-2.4.8-bin-hadoop2.7/examples/src/main/scala/org/apache/spark/examples/mllib/RandomForestClassificationExample.scala\n",
            "spark-2.4.8-bin-hadoop2.7/examples/src/main/scala/org/apache/spark/examples/mllib/RandomForestRegressionExample.scala\n",
            "spark-2.4.8-bin-hadoop2.7/examples/src/main/scala/org/apache/spark/examples/mllib/RandomRDDGeneration.scala\n",
            "spark-2.4.8-bin-hadoop2.7/examples/src/main/scala/org/apache/spark/examples/mllib/RankingMetricsExample.scala\n",
            "spark-2.4.8-bin-hadoop2.7/examples/src/main/scala/org/apache/spark/examples/mllib/RecommendationExample.scala\n",
            "spark-2.4.8-bin-hadoop2.7/examples/src/main/scala/org/apache/spark/examples/mllib/RegressionMetricsExample.scala\n",
            "spark-2.4.8-bin-hadoop2.7/examples/src/main/scala/org/apache/spark/examples/mllib/SVDExample.scala\n",
            "spark-2.4.8-bin-hadoop2.7/examples/src/main/scala/org/apache/spark/examples/mllib/SVMWithSGDExample.scala\n",
            "spark-2.4.8-bin-hadoop2.7/examples/src/main/scala/org/apache/spark/examples/mllib/SampledRDDs.scala\n",
            "spark-2.4.8-bin-hadoop2.7/examples/src/main/scala/org/apache/spark/examples/mllib/SimpleFPGrowth.scala\n",
            "spark-2.4.8-bin-hadoop2.7/examples/src/main/scala/org/apache/spark/examples/mllib/SparseNaiveBayes.scala\n",
            "spark-2.4.8-bin-hadoop2.7/examples/src/main/scala/org/apache/spark/examples/mllib/StandardScalerExample.scala\n",
            "spark-2.4.8-bin-hadoop2.7/examples/src/main/scala/org/apache/spark/examples/mllib/StratifiedSamplingExample.scala\n",
            "spark-2.4.8-bin-hadoop2.7/examples/src/main/scala/org/apache/spark/examples/mllib/StreamingKMeansExample.scala\n",
            "spark-2.4.8-bin-hadoop2.7/examples/src/main/scala/org/apache/spark/examples/mllib/StreamingLinearRegressionExample.scala\n",
            "spark-2.4.8-bin-hadoop2.7/examples/src/main/scala/org/apache/spark/examples/mllib/StreamingLogisticRegression.scala\n",
            "spark-2.4.8-bin-hadoop2.7/examples/src/main/scala/org/apache/spark/examples/mllib/StreamingTestExample.scala\n",
            "spark-2.4.8-bin-hadoop2.7/examples/src/main/scala/org/apache/spark/examples/mllib/SummaryStatisticsExample.scala\n",
            "spark-2.4.8-bin-hadoop2.7/examples/src/main/scala/org/apache/spark/examples/mllib/TFIDFExample.scala\n",
            "spark-2.4.8-bin-hadoop2.7/examples/src/main/scala/org/apache/spark/examples/mllib/TallSkinnyPCA.scala\n",
            "spark-2.4.8-bin-hadoop2.7/examples/src/main/scala/org/apache/spark/examples/mllib/TallSkinnySVD.scala\n",
            "spark-2.4.8-bin-hadoop2.7/examples/src/main/scala/org/apache/spark/examples/mllib/Word2VecExample.scala\n",
            "spark-2.4.8-bin-hadoop2.7/examples/src/main/scala/org/apache/spark/examples/pythonconverters/\n",
            "spark-2.4.8-bin-hadoop2.7/examples/src/main/scala/org/apache/spark/examples/pythonconverters/AvroConverters.scala\n",
            "spark-2.4.8-bin-hadoop2.7/examples/src/main/scala/org/apache/spark/examples/sql/\n",
            "spark-2.4.8-bin-hadoop2.7/examples/src/main/scala/org/apache/spark/examples/sql/RDDRelation.scala\n",
            "spark-2.4.8-bin-hadoop2.7/examples/src/main/scala/org/apache/spark/examples/sql/SQLDataSourceExample.scala\n",
            "spark-2.4.8-bin-hadoop2.7/examples/src/main/scala/org/apache/spark/examples/sql/SparkSQLExample.scala\n",
            "spark-2.4.8-bin-hadoop2.7/examples/src/main/scala/org/apache/spark/examples/sql/UserDefinedTypedAggregation.scala\n",
            "spark-2.4.8-bin-hadoop2.7/examples/src/main/scala/org/apache/spark/examples/sql/UserDefinedUntypedAggregation.scala\n",
            "spark-2.4.8-bin-hadoop2.7/examples/src/main/scala/org/apache/spark/examples/sql/hive/\n",
            "spark-2.4.8-bin-hadoop2.7/examples/src/main/scala/org/apache/spark/examples/sql/hive/SparkHiveExample.scala\n",
            "spark-2.4.8-bin-hadoop2.7/examples/src/main/scala/org/apache/spark/examples/sql/streaming/\n",
            "spark-2.4.8-bin-hadoop2.7/examples/src/main/scala/org/apache/spark/examples/sql/streaming/StructuredKafkaWordCount.scala\n",
            "spark-2.4.8-bin-hadoop2.7/examples/src/main/scala/org/apache/spark/examples/sql/streaming/StructuredNetworkWordCount.scala\n",
            "spark-2.4.8-bin-hadoop2.7/examples/src/main/scala/org/apache/spark/examples/sql/streaming/StructuredNetworkWordCountWindowed.scala\n",
            "spark-2.4.8-bin-hadoop2.7/examples/src/main/scala/org/apache/spark/examples/sql/streaming/StructuredSessionization.scala\n",
            "spark-2.4.8-bin-hadoop2.7/examples/src/main/scala/org/apache/spark/examples/streaming/\n",
            "spark-2.4.8-bin-hadoop2.7/examples/src/main/scala/org/apache/spark/examples/streaming/CustomReceiver.scala\n",
            "spark-2.4.8-bin-hadoop2.7/examples/src/main/scala/org/apache/spark/examples/streaming/DirectKafkaWordCount.scala\n",
            "spark-2.4.8-bin-hadoop2.7/examples/src/main/scala/org/apache/spark/examples/streaming/HdfsWordCount.scala\n",
            "spark-2.4.8-bin-hadoop2.7/examples/src/main/scala/org/apache/spark/examples/streaming/NetworkWordCount.scala\n",
            "spark-2.4.8-bin-hadoop2.7/examples/src/main/scala/org/apache/spark/examples/streaming/QueueStream.scala\n",
            "spark-2.4.8-bin-hadoop2.7/examples/src/main/scala/org/apache/spark/examples/streaming/RawNetworkGrep.scala\n",
            "spark-2.4.8-bin-hadoop2.7/examples/src/main/scala/org/apache/spark/examples/streaming/RecoverableNetworkWordCount.scala\n",
            "spark-2.4.8-bin-hadoop2.7/examples/src/main/scala/org/apache/spark/examples/streaming/SqlNetworkWordCount.scala\n",
            "spark-2.4.8-bin-hadoop2.7/examples/src/main/scala/org/apache/spark/examples/streaming/StatefulNetworkWordCount.scala\n",
            "spark-2.4.8-bin-hadoop2.7/examples/src/main/scala/org/apache/spark/examples/streaming/StreamingExamples.scala\n",
            "spark-2.4.8-bin-hadoop2.7/examples/src/main/scala/org/apache/spark/examples/streaming/clickstream/\n",
            "spark-2.4.8-bin-hadoop2.7/examples/src/main/scala/org/apache/spark/examples/streaming/clickstream/PageViewGenerator.scala\n",
            "spark-2.4.8-bin-hadoop2.7/examples/src/main/scala/org/apache/spark/examples/streaming/clickstream/PageViewStream.scala\n",
            "spark-2.4.8-bin-hadoop2.7/jars/\n",
            "spark-2.4.8-bin-hadoop2.7/jars/JavaEWAH-0.3.2.jar\n",
            "spark-2.4.8-bin-hadoop2.7/jars/RoaringBitmap-0.7.45.jar\n",
            "spark-2.4.8-bin-hadoop2.7/jars/ST4-4.0.4.jar\n",
            "spark-2.4.8-bin-hadoop2.7/jars/activation-1.1.1.jar\n",
            "spark-2.4.8-bin-hadoop2.7/jars/aircompressor-0.10.jar\n",
            "spark-2.4.8-bin-hadoop2.7/jars/antlr-2.7.7.jar\n",
            "spark-2.4.8-bin-hadoop2.7/jars/antlr-runtime-3.4.jar\n",
            "spark-2.4.8-bin-hadoop2.7/jars/antlr4-runtime-4.7.jar\n",
            "spark-2.4.8-bin-hadoop2.7/jars/aopalliance-1.0.jar\n",
            "spark-2.4.8-bin-hadoop2.7/jars/aopalliance-repackaged-2.4.0-b34.jar\n",
            "spark-2.4.8-bin-hadoop2.7/jars/apache-log4j-extras-1.2.17.jar\n",
            "spark-2.4.8-bin-hadoop2.7/jars/apacheds-i18n-2.0.0-M15.jar\n",
            "spark-2.4.8-bin-hadoop2.7/jars/apacheds-kerberos-codec-2.0.0-M15.jar\n",
            "spark-2.4.8-bin-hadoop2.7/jars/api-asn1-api-1.0.0-M20.jar\n",
            "spark-2.4.8-bin-hadoop2.7/jars/api-util-1.0.0-M20.jar\n",
            "spark-2.4.8-bin-hadoop2.7/jars/arpack_combined_all-0.1.jar\n",
            "spark-2.4.8-bin-hadoop2.7/jars/arrow-format-0.10.0.jar\n",
            "spark-2.4.8-bin-hadoop2.7/jars/arrow-memory-0.10.0.jar\n",
            "spark-2.4.8-bin-hadoop2.7/jars/arrow-vector-0.10.0.jar\n",
            "spark-2.4.8-bin-hadoop2.7/jars/automaton-1.11-8.jar\n",
            "spark-2.4.8-bin-hadoop2.7/jars/avro-1.8.2.jar\n",
            "spark-2.4.8-bin-hadoop2.7/jars/avro-ipc-1.8.2.jar\n",
            "spark-2.4.8-bin-hadoop2.7/jars/avro-mapred-1.8.2-hadoop2.jar\n",
            "spark-2.4.8-bin-hadoop2.7/jars/bonecp-0.8.0.RELEASE.jar\n",
            "spark-2.4.8-bin-hadoop2.7/jars/breeze-macros_2.11-0.13.2.jar\n",
            "spark-2.4.8-bin-hadoop2.7/jars/breeze_2.11-0.13.2.jar\n",
            "spark-2.4.8-bin-hadoop2.7/jars/calcite-avatica-1.2.0-incubating.jar\n",
            "spark-2.4.8-bin-hadoop2.7/jars/calcite-core-1.2.0-incubating.jar\n",
            "spark-2.4.8-bin-hadoop2.7/jars/calcite-linq4j-1.2.0-incubating.jar\n",
            "spark-2.4.8-bin-hadoop2.7/jars/chill-java-0.9.3.jar\n",
            "spark-2.4.8-bin-hadoop2.7/jars/chill_2.11-0.9.3.jar\n",
            "spark-2.4.8-bin-hadoop2.7/jars/commons-beanutils-1.9.4.jar\n",
            "spark-2.4.8-bin-hadoop2.7/jars/commons-cli-1.2.jar\n",
            "spark-2.4.8-bin-hadoop2.7/jars/commons-codec-1.10.jar\n",
            "spark-2.4.8-bin-hadoop2.7/jars/commons-collections-3.2.2.jar\n",
            "spark-2.4.8-bin-hadoop2.7/jars/commons-compiler-3.0.16.jar\n",
            "spark-2.4.8-bin-hadoop2.7/jars/commons-compress-1.20.jar\n",
            "spark-2.4.8-bin-hadoop2.7/jars/commons-configuration-1.6.jar\n",
            "spark-2.4.8-bin-hadoop2.7/jars/commons-crypto-1.0.0.jar\n",
            "spark-2.4.8-bin-hadoop2.7/jars/commons-dbcp-1.4.jar\n",
            "spark-2.4.8-bin-hadoop2.7/jars/commons-digester-1.8.jar\n",
            "spark-2.4.8-bin-hadoop2.7/jars/commons-httpclient-3.1.jar\n",
            "spark-2.4.8-bin-hadoop2.7/jars/commons-io-2.4.jar\n",
            "spark-2.4.8-bin-hadoop2.7/jars/commons-lang-2.6.jar\n",
            "spark-2.4.8-bin-hadoop2.7/jars/commons-lang3-3.5.jar\n",
            "spark-2.4.8-bin-hadoop2.7/jars/commons-logging-1.1.3.jar\n",
            "spark-2.4.8-bin-hadoop2.7/jars/commons-math3-3.4.1.jar\n",
            "spark-2.4.8-bin-hadoop2.7/jars/commons-net-3.1.jar\n",
            "spark-2.4.8-bin-hadoop2.7/jars/commons-pool-1.5.4.jar\n",
            "spark-2.4.8-bin-hadoop2.7/jars/compress-lzf-1.0.3.jar\n",
            "spark-2.4.8-bin-hadoop2.7/jars/core-1.1.2.jar\n",
            "spark-2.4.8-bin-hadoop2.7/jars/curator-client-2.7.1.jar\n",
            "spark-2.4.8-bin-hadoop2.7/jars/curator-framework-2.7.1.jar\n",
            "spark-2.4.8-bin-hadoop2.7/jars/curator-recipes-2.7.1.jar\n",
            "spark-2.4.8-bin-hadoop2.7/jars/datanucleus-api-jdo-3.2.6.jar\n",
            "spark-2.4.8-bin-hadoop2.7/jars/datanucleus-core-3.2.10.jar\n",
            "spark-2.4.8-bin-hadoop2.7/jars/datanucleus-rdbms-3.2.9.jar\n",
            "spark-2.4.8-bin-hadoop2.7/jars/derby-10.12.1.1.jar\n",
            "spark-2.4.8-bin-hadoop2.7/jars/eigenbase-properties-1.1.5.jar\n",
            "spark-2.4.8-bin-hadoop2.7/jars/flatbuffers-1.2.0-3f79e055.jar\n",
            "spark-2.4.8-bin-hadoop2.7/jars/generex-1.0.2.jar\n",
            "spark-2.4.8-bin-hadoop2.7/jars/gson-2.2.4.jar\n",
            "spark-2.4.8-bin-hadoop2.7/jars/guava-14.0.1.jar\n",
            "spark-2.4.8-bin-hadoop2.7/jars/guice-3.0.jar\n",
            "spark-2.4.8-bin-hadoop2.7/jars/guice-servlet-3.0.jar\n",
            "spark-2.4.8-bin-hadoop2.7/jars/hadoop-annotations-2.7.3.jar\n",
            "spark-2.4.8-bin-hadoop2.7/jars/hadoop-auth-2.7.3.jar\n",
            "spark-2.4.8-bin-hadoop2.7/jars/hadoop-client-2.7.3.jar\n",
            "spark-2.4.8-bin-hadoop2.7/jars/hadoop-common-2.7.3.jar\n",
            "spark-2.4.8-bin-hadoop2.7/jars/hadoop-hdfs-2.7.3.jar\n",
            "spark-2.4.8-bin-hadoop2.7/jars/hadoop-mapreduce-client-app-2.7.3.jar\n",
            "spark-2.4.8-bin-hadoop2.7/jars/hadoop-mapreduce-client-common-2.7.3.jar\n",
            "spark-2.4.8-bin-hadoop2.7/jars/hadoop-mapreduce-client-core-2.7.3.jar\n",
            "spark-2.4.8-bin-hadoop2.7/jars/hadoop-mapreduce-client-jobclient-2.7.3.jar\n",
            "spark-2.4.8-bin-hadoop2.7/jars/hadoop-mapreduce-client-shuffle-2.7.3.jar\n",
            "spark-2.4.8-bin-hadoop2.7/jars/hadoop-yarn-api-2.7.3.jar\n",
            "spark-2.4.8-bin-hadoop2.7/jars/hadoop-yarn-client-2.7.3.jar\n",
            "spark-2.4.8-bin-hadoop2.7/jars/hadoop-yarn-common-2.7.3.jar\n",
            "spark-2.4.8-bin-hadoop2.7/jars/hadoop-yarn-server-common-2.7.3.jar\n",
            "spark-2.4.8-bin-hadoop2.7/jars/hadoop-yarn-server-web-proxy-2.7.3.jar\n",
            "spark-2.4.8-bin-hadoop2.7/jars/hive-beeline-1.2.1.spark2.jar\n",
            "spark-2.4.8-bin-hadoop2.7/jars/hive-cli-1.2.1.spark2.jar\n",
            "spark-2.4.8-bin-hadoop2.7/jars/hive-exec-1.2.1.spark2.jar\n",
            "spark-2.4.8-bin-hadoop2.7/jars/hive-jdbc-1.2.1.spark2.jar\n",
            "spark-2.4.8-bin-hadoop2.7/jars/hive-metastore-1.2.1.spark2.jar\n",
            "spark-2.4.8-bin-hadoop2.7/jars/hk2-api-2.4.0-b34.jar\n",
            "spark-2.4.8-bin-hadoop2.7/jars/hk2-locator-2.4.0-b34.jar\n",
            "spark-2.4.8-bin-hadoop2.7/jars/hk2-utils-2.4.0-b34.jar\n",
            "spark-2.4.8-bin-hadoop2.7/jars/hppc-0.7.2.jar\n",
            "spark-2.4.8-bin-hadoop2.7/jars/htrace-core-3.1.0-incubating.jar\n",
            "spark-2.4.8-bin-hadoop2.7/jars/httpclient-4.5.6.jar\n",
            "spark-2.4.8-bin-hadoop2.7/jars/httpcore-4.4.10.jar\n",
            "spark-2.4.8-bin-hadoop2.7/jars/ivy-2.4.0.jar\n",
            "spark-2.4.8-bin-hadoop2.7/jars/jackson-annotations-2.6.7.jar\n",
            "spark-2.4.8-bin-hadoop2.7/jars/jackson-core-2.6.7.jar\n",
            "spark-2.4.8-bin-hadoop2.7/jars/jackson-core-asl-1.9.13.jar\n",
            "spark-2.4.8-bin-hadoop2.7/jars/jackson-databind-2.6.7.3.jar\n",
            "spark-2.4.8-bin-hadoop2.7/jars/jackson-dataformat-yaml-2.6.7.jar\n",
            "spark-2.4.8-bin-hadoop2.7/jars/jackson-jaxrs-1.9.13.jar\n",
            "spark-2.4.8-bin-hadoop2.7/jars/jackson-mapper-asl-1.9.13.jar\n",
            "spark-2.4.8-bin-hadoop2.7/jars/jackson-module-jaxb-annotations-2.6.7.jar\n",
            "spark-2.4.8-bin-hadoop2.7/jars/jackson-module-paranamer-2.7.9.jar\n",
            "spark-2.4.8-bin-hadoop2.7/jars/jackson-module-scala_2.11-2.6.7.1.jar\n",
            "spark-2.4.8-bin-hadoop2.7/jars/jackson-xc-1.9.13.jar\n",
            "spark-2.4.8-bin-hadoop2.7/jars/janino-3.0.16.jar\n",
            "spark-2.4.8-bin-hadoop2.7/jars/javassist-3.18.1-GA.jar\n",
            "spark-2.4.8-bin-hadoop2.7/jars/javax.annotation-api-1.2.jar\n",
            "spark-2.4.8-bin-hadoop2.7/jars/javax.inject-1.jar\n",
            "spark-2.4.8-bin-hadoop2.7/jars/javax.inject-2.4.0-b34.jar\n",
            "spark-2.4.8-bin-hadoop2.7/jars/javax.servlet-api-3.1.0.jar\n",
            "spark-2.4.8-bin-hadoop2.7/jars/javax.ws.rs-api-2.0.1.jar\n",
            "spark-2.4.8-bin-hadoop2.7/jars/javolution-5.5.1.jar\n",
            "spark-2.4.8-bin-hadoop2.7/jars/jaxb-api-2.2.2.jar\n",
            "spark-2.4.8-bin-hadoop2.7/jars/jcl-over-slf4j-1.7.16.jar\n",
            "spark-2.4.8-bin-hadoop2.7/jars/jdo-api-3.0.1.jar\n",
            "spark-2.4.8-bin-hadoop2.7/jars/jersey-client-2.22.2.jar\n",
            "spark-2.4.8-bin-hadoop2.7/jars/jersey-common-2.22.2.jar\n",
            "spark-2.4.8-bin-hadoop2.7/jars/jersey-container-servlet-2.22.2.jar\n",
            "spark-2.4.8-bin-hadoop2.7/jars/jersey-container-servlet-core-2.22.2.jar\n",
            "spark-2.4.8-bin-hadoop2.7/jars/jersey-guava-2.22.2.jar\n",
            "spark-2.4.8-bin-hadoop2.7/jars/jersey-media-jaxb-2.22.2.jar\n",
            "spark-2.4.8-bin-hadoop2.7/jars/jersey-server-2.22.2.jar\n",
            "spark-2.4.8-bin-hadoop2.7/jars/jetty-6.1.26.jar\n",
            "spark-2.4.8-bin-hadoop2.7/jars/jetty-util-6.1.26.jar\n",
            "spark-2.4.8-bin-hadoop2.7/jars/jline-2.14.6.jar\n",
            "spark-2.4.8-bin-hadoop2.7/jars/joda-time-2.9.3.jar\n",
            "spark-2.4.8-bin-hadoop2.7/jars/jodd-core-3.5.2.jar\n",
            "spark-2.4.8-bin-hadoop2.7/jars/jpam-1.1.jar\n",
            "spark-2.4.8-bin-hadoop2.7/jars/json4s-ast_2.11-3.5.3.jar\n",
            "spark-2.4.8-bin-hadoop2.7/jars/json4s-core_2.11-3.5.3.jar\n",
            "spark-2.4.8-bin-hadoop2.7/jars/json4s-jackson_2.11-3.5.3.jar\n",
            "spark-2.4.8-bin-hadoop2.7/jars/json4s-scalap_2.11-3.5.3.jar\n",
            "spark-2.4.8-bin-hadoop2.7/jars/jsp-api-2.1.jar\n",
            "spark-2.4.8-bin-hadoop2.7/jars/jsr305-1.3.9.jar\n",
            "spark-2.4.8-bin-hadoop2.7/jars/jta-1.1.jar\n",
            "spark-2.4.8-bin-hadoop2.7/jars/jtransforms-2.4.0.jar\n",
            "spark-2.4.8-bin-hadoop2.7/jars/jul-to-slf4j-1.7.16.jar\n",
            "spark-2.4.8-bin-hadoop2.7/jars/kryo-shaded-4.0.2.jar\n",
            "spark-2.4.8-bin-hadoop2.7/jars/kubernetes-client-4.6.1.jar\n",
            "spark-2.4.8-bin-hadoop2.7/jars/kubernetes-model-4.6.1.jar\n",
            "spark-2.4.8-bin-hadoop2.7/jars/kubernetes-model-common-4.6.1.jar\n",
            "spark-2.4.8-bin-hadoop2.7/jars/leveldbjni-all-1.8.jar\n",
            "spark-2.4.8-bin-hadoop2.7/jars/libfb303-0.9.3.jar\n",
            "spark-2.4.8-bin-hadoop2.7/jars/libthrift-0.9.3.jar\n",
            "spark-2.4.8-bin-hadoop2.7/jars/log4j-1.2.17.jar\n",
            "spark-2.4.8-bin-hadoop2.7/jars/logging-interceptor-3.12.0.jar\n",
            "spark-2.4.8-bin-hadoop2.7/jars/lz4-java-1.4.0.jar\n",
            "spark-2.4.8-bin-hadoop2.7/jars/machinist_2.11-0.6.1.jar\n",
            "spark-2.4.8-bin-hadoop2.7/jars/macro-compat_2.11-1.1.1.jar\n",
            "spark-2.4.8-bin-hadoop2.7/jars/mesos-1.4.0-shaded-protobuf.jar\n",
            "spark-2.4.8-bin-hadoop2.7/jars/metrics-core-3.1.5.jar\n",
            "spark-2.4.8-bin-hadoop2.7/jars/metrics-graphite-3.1.5.jar\n",
            "spark-2.4.8-bin-hadoop2.7/jars/metrics-json-3.1.5.jar\n",
            "spark-2.4.8-bin-hadoop2.7/jars/metrics-jvm-3.1.5.jar\n",
            "spark-2.4.8-bin-hadoop2.7/jars/minlog-1.3.0.jar\n",
            "spark-2.4.8-bin-hadoop2.7/jars/netty-3.9.9.Final.jar\n",
            "spark-2.4.8-bin-hadoop2.7/jars/netty-all-4.1.47.Final.jar\n",
            "spark-2.4.8-bin-hadoop2.7/jars/objenesis-2.5.1.jar\n",
            "spark-2.4.8-bin-hadoop2.7/jars/okhttp-3.12.0.jar\n",
            "spark-2.4.8-bin-hadoop2.7/jars/okio-1.15.0.jar\n",
            "spark-2.4.8-bin-hadoop2.7/jars/opencsv-2.3.jar\n",
            "spark-2.4.8-bin-hadoop2.7/jars/orc-core-1.5.5-nohive.jar\n",
            "spark-2.4.8-bin-hadoop2.7/jars/orc-mapreduce-1.5.5-nohive.jar\n",
            "spark-2.4.8-bin-hadoop2.7/jars/orc-shims-1.5.5.jar\n",
            "spark-2.4.8-bin-hadoop2.7/jars/oro-2.0.8.jar\n",
            "spark-2.4.8-bin-hadoop2.7/jars/osgi-resource-locator-1.0.1.jar\n",
            "spark-2.4.8-bin-hadoop2.7/jars/paranamer-2.8.jar\n",
            "spark-2.4.8-bin-hadoop2.7/jars/parquet-column-1.10.1.jar\n",
            "spark-2.4.8-bin-hadoop2.7/jars/parquet-common-1.10.1.jar\n",
            "spark-2.4.8-bin-hadoop2.7/jars/parquet-encoding-1.10.1.jar\n",
            "spark-2.4.8-bin-hadoop2.7/jars/parquet-format-2.4.0.jar\n",
            "spark-2.4.8-bin-hadoop2.7/jars/parquet-hadoop-1.10.1.jar\n",
            "spark-2.4.8-bin-hadoop2.7/jars/parquet-hadoop-bundle-1.6.0.jar\n",
            "spark-2.4.8-bin-hadoop2.7/jars/parquet-jackson-1.10.1.jar\n",
            "spark-2.4.8-bin-hadoop2.7/jars/protobuf-java-2.5.0.jar\n",
            "spark-2.4.8-bin-hadoop2.7/jars/py4j-0.10.7.jar\n",
            "spark-2.4.8-bin-hadoop2.7/jars/pyrolite-4.13.jar\n",
            "spark-2.4.8-bin-hadoop2.7/jars/scala-compiler-2.11.12.jar\n",
            "spark-2.4.8-bin-hadoop2.7/jars/scala-library-2.11.12.jar\n",
            "spark-2.4.8-bin-hadoop2.7/jars/scala-parser-combinators_2.11-1.1.0.jar\n",
            "spark-2.4.8-bin-hadoop2.7/jars/scala-reflect-2.11.12.jar\n",
            "spark-2.4.8-bin-hadoop2.7/jars/scala-xml_2.11-1.0.5.jar\n",
            "spark-2.4.8-bin-hadoop2.7/jars/shapeless_2.11-2.3.2.jar\n",
            "spark-2.4.8-bin-hadoop2.7/jars/shims-0.7.45.jar\n",
            "spark-2.4.8-bin-hadoop2.7/jars/slf4j-api-1.7.16.jar\n",
            "spark-2.4.8-bin-hadoop2.7/jars/slf4j-log4j12-1.7.16.jar\n",
            "spark-2.4.8-bin-hadoop2.7/jars/snakeyaml-1.15.jar\n",
            "spark-2.4.8-bin-hadoop2.7/jars/snappy-0.2.jar\n",
            "spark-2.4.8-bin-hadoop2.7/jars/snappy-java-1.1.8.2.jar\n",
            "spark-2.4.8-bin-hadoop2.7/jars/spark-catalyst_2.11-2.4.8.jar\n",
            "spark-2.4.8-bin-hadoop2.7/jars/spark-core_2.11-2.4.8.jar\n",
            "spark-2.4.8-bin-hadoop2.7/jars/spark-graphx_2.11-2.4.8.jar\n",
            "spark-2.4.8-bin-hadoop2.7/jars/spark-hive-thriftserver_2.11-2.4.8.jar\n",
            "spark-2.4.8-bin-hadoop2.7/jars/spark-hive_2.11-2.4.8.jar\n",
            "spark-2.4.8-bin-hadoop2.7/jars/spark-kubernetes_2.11-2.4.8.jar\n",
            "spark-2.4.8-bin-hadoop2.7/jars/spark-kvstore_2.11-2.4.8.jar\n",
            "spark-2.4.8-bin-hadoop2.7/jars/spark-launcher_2.11-2.4.8.jar\n",
            "spark-2.4.8-bin-hadoop2.7/jars/spark-mesos_2.11-2.4.8.jar\n",
            "spark-2.4.8-bin-hadoop2.7/jars/spark-mllib-local_2.11-2.4.8.jar\n",
            "spark-2.4.8-bin-hadoop2.7/jars/spark-mllib_2.11-2.4.8.jar\n",
            "spark-2.4.8-bin-hadoop2.7/jars/spark-network-common_2.11-2.4.8.jar\n",
            "spark-2.4.8-bin-hadoop2.7/jars/spark-network-shuffle_2.11-2.4.8.jar\n",
            "spark-2.4.8-bin-hadoop2.7/jars/spark-repl_2.11-2.4.8.jar\n",
            "spark-2.4.8-bin-hadoop2.7/jars/spark-sketch_2.11-2.4.8.jar\n",
            "spark-2.4.8-bin-hadoop2.7/jars/spark-sql_2.11-2.4.8.jar\n",
            "spark-2.4.8-bin-hadoop2.7/jars/spark-streaming_2.11-2.4.8.jar\n",
            "spark-2.4.8-bin-hadoop2.7/jars/spark-tags_2.11-2.4.8-tests.jar\n",
            "spark-2.4.8-bin-hadoop2.7/jars/spark-tags_2.11-2.4.8.jar\n",
            "spark-2.4.8-bin-hadoop2.7/jars/spark-unsafe_2.11-2.4.8.jar\n",
            "spark-2.4.8-bin-hadoop2.7/jars/spark-yarn_2.11-2.4.8.jar\n",
            "spark-2.4.8-bin-hadoop2.7/jars/spire-macros_2.11-0.13.0.jar\n",
            "spark-2.4.8-bin-hadoop2.7/jars/spire_2.11-0.13.0.jar\n",
            "spark-2.4.8-bin-hadoop2.7/jars/stax-api-1.0-2.jar\n",
            "spark-2.4.8-bin-hadoop2.7/jars/stax-api-1.0.1.jar\n",
            "spark-2.4.8-bin-hadoop2.7/jars/stream-2.7.0.jar\n",
            "spark-2.4.8-bin-hadoop2.7/jars/stringtemplate-3.2.1.jar\n",
            "spark-2.4.8-bin-hadoop2.7/jars/super-csv-2.2.0.jar\n",
            "spark-2.4.8-bin-hadoop2.7/jars/univocity-parsers-2.7.3.jar\n",
            "spark-2.4.8-bin-hadoop2.7/jars/validation-api-1.1.0.Final.jar\n",
            "spark-2.4.8-bin-hadoop2.7/jars/xbean-asm6-shaded-4.8.jar\n",
            "spark-2.4.8-bin-hadoop2.7/jars/xercesImpl-2.9.1.jar\n",
            "spark-2.4.8-bin-hadoop2.7/jars/xmlenc-0.52.jar\n",
            "spark-2.4.8-bin-hadoop2.7/jars/xz-1.5.jar\n",
            "spark-2.4.8-bin-hadoop2.7/jars/zjsonpatch-0.3.0.jar\n",
            "spark-2.4.8-bin-hadoop2.7/jars/zookeeper-3.4.6.jar\n",
            "spark-2.4.8-bin-hadoop2.7/jars/zstd-jni-1.4.4-3.jar\n",
            "spark-2.4.8-bin-hadoop2.7/kubernetes/\n",
            "spark-2.4.8-bin-hadoop2.7/kubernetes/dockerfiles/\n",
            "spark-2.4.8-bin-hadoop2.7/kubernetes/dockerfiles/spark/\n",
            "spark-2.4.8-bin-hadoop2.7/kubernetes/dockerfiles/spark/Dockerfile\n",
            "spark-2.4.8-bin-hadoop2.7/kubernetes/dockerfiles/spark/bindings/\n",
            "spark-2.4.8-bin-hadoop2.7/kubernetes/dockerfiles/spark/bindings/R/\n",
            "spark-2.4.8-bin-hadoop2.7/kubernetes/dockerfiles/spark/bindings/R/Dockerfile\n",
            "spark-2.4.8-bin-hadoop2.7/kubernetes/dockerfiles/spark/bindings/python/\n",
            "spark-2.4.8-bin-hadoop2.7/kubernetes/dockerfiles/spark/bindings/python/Dockerfile\n",
            "spark-2.4.8-bin-hadoop2.7/kubernetes/dockerfiles/spark/entrypoint.sh\n",
            "spark-2.4.8-bin-hadoop2.7/kubernetes/tests/\n",
            "spark-2.4.8-bin-hadoop2.7/kubernetes/tests/py_container_checks.py\n",
            "spark-2.4.8-bin-hadoop2.7/kubernetes/tests/pyfiles.py\n",
            "spark-2.4.8-bin-hadoop2.7/kubernetes/tests/worker_memory_check.py\n",
            "spark-2.4.8-bin-hadoop2.7/licenses/\n",
            "spark-2.4.8-bin-hadoop2.7/licenses/LICENSE-AnchorJS.txt\n",
            "spark-2.4.8-bin-hadoop2.7/licenses/LICENSE-CC0.txt\n",
            "spark-2.4.8-bin-hadoop2.7/licenses/LICENSE-antlr.txt\n",
            "spark-2.4.8-bin-hadoop2.7/licenses/LICENSE-arpack.txt\n",
            "spark-2.4.8-bin-hadoop2.7/licenses/LICENSE-automaton.txt\n",
            "spark-2.4.8-bin-hadoop2.7/licenses/LICENSE-bootstrap.txt\n",
            "spark-2.4.8-bin-hadoop2.7/licenses/LICENSE-cloudpickle.txt\n",
            "spark-2.4.8-bin-hadoop2.7/licenses/LICENSE-d3.min.js.txt\n",
            "spark-2.4.8-bin-hadoop2.7/licenses/LICENSE-dagre-d3.txt\n",
            "spark-2.4.8-bin-hadoop2.7/licenses/LICENSE-datatables.txt\n",
            "spark-2.4.8-bin-hadoop2.7/licenses/LICENSE-f2j.txt\n",
            "spark-2.4.8-bin-hadoop2.7/licenses/LICENSE-graphlib-dot.txt\n",
            "spark-2.4.8-bin-hadoop2.7/licenses/LICENSE-heapq.txt\n",
            "spark-2.4.8-bin-hadoop2.7/licenses/LICENSE-janino.txt\n",
            "spark-2.4.8-bin-hadoop2.7/licenses/LICENSE-javassist.html\n",
            "spark-2.4.8-bin-hadoop2.7/licenses/LICENSE-javolution.txt\n",
            "spark-2.4.8-bin-hadoop2.7/licenses/LICENSE-jline.txt\n",
            "spark-2.4.8-bin-hadoop2.7/licenses/LICENSE-jodd.txt\n",
            "spark-2.4.8-bin-hadoop2.7/licenses/LICENSE-join.txt\n",
            "spark-2.4.8-bin-hadoop2.7/licenses/LICENSE-jquery.txt\n",
            "spark-2.4.8-bin-hadoop2.7/licenses/LICENSE-json-formatter.txt\n",
            "spark-2.4.8-bin-hadoop2.7/licenses/LICENSE-jtransforms.html\n",
            "spark-2.4.8-bin-hadoop2.7/licenses/LICENSE-kryo.txt\n",
            "spark-2.4.8-bin-hadoop2.7/licenses/LICENSE-leveldbjni.txt\n",
            "spark-2.4.8-bin-hadoop2.7/licenses/LICENSE-machinist.txt\n",
            "spark-2.4.8-bin-hadoop2.7/licenses/LICENSE-matchMedia-polyfill.txt\n",
            "spark-2.4.8-bin-hadoop2.7/licenses/LICENSE-minlog.txt\n",
            "spark-2.4.8-bin-hadoop2.7/licenses/LICENSE-modernizr.txt\n",
            "spark-2.4.8-bin-hadoop2.7/licenses/LICENSE-mustache.txt\n",
            "spark-2.4.8-bin-hadoop2.7/licenses/LICENSE-netlib.txt\n",
            "spark-2.4.8-bin-hadoop2.7/licenses/LICENSE-paranamer.txt\n",
            "spark-2.4.8-bin-hadoop2.7/licenses/LICENSE-pmml-model.txt\n",
            "spark-2.4.8-bin-hadoop2.7/licenses/LICENSE-protobuf.txt\n",
            "spark-2.4.8-bin-hadoop2.7/licenses/LICENSE-py4j.txt\n",
            "spark-2.4.8-bin-hadoop2.7/licenses/LICENSE-pyrolite.txt\n",
            "spark-2.4.8-bin-hadoop2.7/licenses/LICENSE-reflectasm.txt\n",
            "spark-2.4.8-bin-hadoop2.7/licenses/LICENSE-respond.txt\n",
            "spark-2.4.8-bin-hadoop2.7/licenses/LICENSE-sbt-launch-lib.txt\n",
            "spark-2.4.8-bin-hadoop2.7/licenses/LICENSE-scala.txt\n",
            "spark-2.4.8-bin-hadoop2.7/licenses/LICENSE-scopt.txt\n",
            "spark-2.4.8-bin-hadoop2.7/licenses/LICENSE-slf4j.txt\n",
            "spark-2.4.8-bin-hadoop2.7/licenses/LICENSE-sorttable.js.txt\n",
            "spark-2.4.8-bin-hadoop2.7/licenses/LICENSE-spire.txt\n",
            "spark-2.4.8-bin-hadoop2.7/licenses/LICENSE-vis-timeline.txt\n",
            "spark-2.4.8-bin-hadoop2.7/licenses/LICENSE-xmlenc.txt\n",
            "spark-2.4.8-bin-hadoop2.7/licenses/LICENSE-zstd-jni.txt\n",
            "spark-2.4.8-bin-hadoop2.7/licenses/LICENSE-zstd.txt\n",
            "spark-2.4.8-bin-hadoop2.7/python/\n",
            "spark-2.4.8-bin-hadoop2.7/python/.coveragerc\n",
            "spark-2.4.8-bin-hadoop2.7/python/.gitignore\n",
            "spark-2.4.8-bin-hadoop2.7/python/MANIFEST.in\n",
            "spark-2.4.8-bin-hadoop2.7/python/README.md\n",
            "spark-2.4.8-bin-hadoop2.7/python/dist/\n",
            "spark-2.4.8-bin-hadoop2.7/python/docs/\n",
            "spark-2.4.8-bin-hadoop2.7/python/docs/Makefile\n",
            "spark-2.4.8-bin-hadoop2.7/python/docs/_static/\n",
            "spark-2.4.8-bin-hadoop2.7/python/docs/_static/pyspark.css\n",
            "spark-2.4.8-bin-hadoop2.7/python/docs/_static/pyspark.js\n",
            "spark-2.4.8-bin-hadoop2.7/python/docs/_templates/\n",
            "spark-2.4.8-bin-hadoop2.7/python/docs/_templates/layout.html\n",
            "spark-2.4.8-bin-hadoop2.7/python/docs/conf.py\n",
            "spark-2.4.8-bin-hadoop2.7/python/docs/epytext.py\n",
            "spark-2.4.8-bin-hadoop2.7/python/docs/index.rst\n",
            "spark-2.4.8-bin-hadoop2.7/python/docs/make.bat\n",
            "spark-2.4.8-bin-hadoop2.7/python/docs/make2.bat\n",
            "spark-2.4.8-bin-hadoop2.7/python/docs/pyspark.ml.rst\n",
            "spark-2.4.8-bin-hadoop2.7/python/docs/pyspark.mllib.rst\n",
            "spark-2.4.8-bin-hadoop2.7/python/docs/pyspark.rst\n",
            "spark-2.4.8-bin-hadoop2.7/python/docs/pyspark.sql.rst\n",
            "spark-2.4.8-bin-hadoop2.7/python/docs/pyspark.streaming.rst\n",
            "spark-2.4.8-bin-hadoop2.7/python/lib/\n",
            "spark-2.4.8-bin-hadoop2.7/python/lib/PY4J_LICENSE.txt\n",
            "spark-2.4.8-bin-hadoop2.7/python/lib/py4j-0.10.7-src.zip\n",
            "spark-2.4.8-bin-hadoop2.7/python/lib/pyspark.zip\n",
            "spark-2.4.8-bin-hadoop2.7/python/pylintrc\n",
            "spark-2.4.8-bin-hadoop2.7/python/pyspark/\n",
            "spark-2.4.8-bin-hadoop2.7/python/pyspark/__init__.py\n",
            "spark-2.4.8-bin-hadoop2.7/python/pyspark/_globals.py\n",
            "spark-2.4.8-bin-hadoop2.7/python/pyspark/accumulators.py\n",
            "spark-2.4.8-bin-hadoop2.7/python/pyspark/broadcast.py\n",
            "spark-2.4.8-bin-hadoop2.7/python/pyspark/cloudpickle.py\n",
            "spark-2.4.8-bin-hadoop2.7/python/pyspark/conf.py\n",
            "spark-2.4.8-bin-hadoop2.7/python/pyspark/context.py\n",
            "spark-2.4.8-bin-hadoop2.7/python/pyspark/daemon.py\n",
            "spark-2.4.8-bin-hadoop2.7/python/pyspark/files.py\n",
            "spark-2.4.8-bin-hadoop2.7/python/pyspark/find_spark_home.py\n",
            "spark-2.4.8-bin-hadoop2.7/python/pyspark/heapq3.py\n",
            "spark-2.4.8-bin-hadoop2.7/python/pyspark/java_gateway.py\n",
            "spark-2.4.8-bin-hadoop2.7/python/pyspark/join.py\n",
            "spark-2.4.8-bin-hadoop2.7/python/pyspark/ml/\n",
            "spark-2.4.8-bin-hadoop2.7/python/pyspark/ml/__init__.py\n",
            "spark-2.4.8-bin-hadoop2.7/python/pyspark/ml/base.py\n",
            "spark-2.4.8-bin-hadoop2.7/python/pyspark/ml/classification.py\n",
            "spark-2.4.8-bin-hadoop2.7/python/pyspark/ml/clustering.py\n",
            "spark-2.4.8-bin-hadoop2.7/python/pyspark/ml/common.py\n",
            "spark-2.4.8-bin-hadoop2.7/python/pyspark/ml/evaluation.py\n",
            "spark-2.4.8-bin-hadoop2.7/python/pyspark/ml/feature.py\n",
            "spark-2.4.8-bin-hadoop2.7/python/pyspark/ml/fpm.py\n",
            "spark-2.4.8-bin-hadoop2.7/python/pyspark/ml/image.py\n",
            "spark-2.4.8-bin-hadoop2.7/python/pyspark/ml/linalg/\n",
            "spark-2.4.8-bin-hadoop2.7/python/pyspark/ml/linalg/__init__.py\n",
            "spark-2.4.8-bin-hadoop2.7/python/pyspark/ml/param/\n",
            "spark-2.4.8-bin-hadoop2.7/python/pyspark/ml/param/__init__.py\n",
            "spark-2.4.8-bin-hadoop2.7/python/pyspark/ml/param/_shared_params_code_gen.py\n",
            "spark-2.4.8-bin-hadoop2.7/python/pyspark/ml/param/shared.py\n",
            "spark-2.4.8-bin-hadoop2.7/python/pyspark/ml/pipeline.py\n",
            "spark-2.4.8-bin-hadoop2.7/python/pyspark/ml/recommendation.py\n",
            "spark-2.4.8-bin-hadoop2.7/python/pyspark/ml/regression.py\n",
            "spark-2.4.8-bin-hadoop2.7/python/pyspark/ml/stat.py\n",
            "spark-2.4.8-bin-hadoop2.7/python/pyspark/ml/tests.py\n",
            "spark-2.4.8-bin-hadoop2.7/python/pyspark/ml/tuning.py\n",
            "spark-2.4.8-bin-hadoop2.7/python/pyspark/ml/util.py\n",
            "spark-2.4.8-bin-hadoop2.7/python/pyspark/ml/wrapper.py\n",
            "spark-2.4.8-bin-hadoop2.7/python/pyspark/mllib/\n",
            "spark-2.4.8-bin-hadoop2.7/python/pyspark/mllib/__init__.py\n",
            "spark-2.4.8-bin-hadoop2.7/python/pyspark/mllib/classification.py\n",
            "spark-2.4.8-bin-hadoop2.7/python/pyspark/mllib/clustering.py\n",
            "spark-2.4.8-bin-hadoop2.7/python/pyspark/mllib/common.py\n",
            "spark-2.4.8-bin-hadoop2.7/python/pyspark/mllib/evaluation.py\n",
            "spark-2.4.8-bin-hadoop2.7/python/pyspark/mllib/feature.py\n",
            "spark-2.4.8-bin-hadoop2.7/python/pyspark/mllib/fpm.py\n",
            "spark-2.4.8-bin-hadoop2.7/python/pyspark/mllib/linalg/\n",
            "spark-2.4.8-bin-hadoop2.7/python/pyspark/mllib/linalg/__init__.py\n",
            "spark-2.4.8-bin-hadoop2.7/python/pyspark/mllib/linalg/distributed.py\n",
            "spark-2.4.8-bin-hadoop2.7/python/pyspark/mllib/random.py\n",
            "spark-2.4.8-bin-hadoop2.7/python/pyspark/mllib/recommendation.py\n",
            "spark-2.4.8-bin-hadoop2.7/python/pyspark/mllib/regression.py\n",
            "spark-2.4.8-bin-hadoop2.7/python/pyspark/mllib/stat/\n",
            "spark-2.4.8-bin-hadoop2.7/python/pyspark/mllib/stat/KernelDensity.py\n",
            "spark-2.4.8-bin-hadoop2.7/python/pyspark/mllib/stat/__init__.py\n",
            "spark-2.4.8-bin-hadoop2.7/python/pyspark/mllib/stat/_statistics.py\n",
            "spark-2.4.8-bin-hadoop2.7/python/pyspark/mllib/stat/distribution.py\n",
            "spark-2.4.8-bin-hadoop2.7/python/pyspark/mllib/stat/test.py\n",
            "spark-2.4.8-bin-hadoop2.7/python/pyspark/mllib/tests.py\n",
            "spark-2.4.8-bin-hadoop2.7/python/pyspark/mllib/tree.py\n",
            "spark-2.4.8-bin-hadoop2.7/python/pyspark/mllib/util.py\n",
            "spark-2.4.8-bin-hadoop2.7/python/pyspark/profiler.py\n",
            "spark-2.4.8-bin-hadoop2.7/python/pyspark/python/\n",
            "spark-2.4.8-bin-hadoop2.7/python/pyspark/python/pyspark/\n",
            "spark-2.4.8-bin-hadoop2.7/python/pyspark/python/pyspark/shell.py\n",
            "spark-2.4.8-bin-hadoop2.7/python/pyspark/rdd.py\n",
            "spark-2.4.8-bin-hadoop2.7/python/pyspark/rddsampler.py\n",
            "spark-2.4.8-bin-hadoop2.7/python/pyspark/resultiterable.py\n",
            "spark-2.4.8-bin-hadoop2.7/python/pyspark/serializers.py\n",
            "spark-2.4.8-bin-hadoop2.7/python/pyspark/shell.py\n",
            "spark-2.4.8-bin-hadoop2.7/python/pyspark/shuffle.py\n",
            "spark-2.4.8-bin-hadoop2.7/python/pyspark/sql/\n",
            "spark-2.4.8-bin-hadoop2.7/python/pyspark/sql/__init__.py\n",
            "spark-2.4.8-bin-hadoop2.7/python/pyspark/sql/catalog.py\n",
            "spark-2.4.8-bin-hadoop2.7/python/pyspark/sql/column.py\n",
            "spark-2.4.8-bin-hadoop2.7/python/pyspark/sql/conf.py\n",
            "spark-2.4.8-bin-hadoop2.7/python/pyspark/sql/context.py\n",
            "spark-2.4.8-bin-hadoop2.7/python/pyspark/sql/dataframe.py\n",
            "spark-2.4.8-bin-hadoop2.7/python/pyspark/sql/functions.py\n",
            "spark-2.4.8-bin-hadoop2.7/python/pyspark/sql/group.py\n",
            "spark-2.4.8-bin-hadoop2.7/python/pyspark/sql/readwriter.py\n",
            "spark-2.4.8-bin-hadoop2.7/python/pyspark/sql/session.py\n",
            "spark-2.4.8-bin-hadoop2.7/python/pyspark/sql/streaming.py\n",
            "spark-2.4.8-bin-hadoop2.7/python/pyspark/sql/tests.py\n",
            "spark-2.4.8-bin-hadoop2.7/python/pyspark/sql/types.py\n",
            "spark-2.4.8-bin-hadoop2.7/python/pyspark/sql/udf.py\n",
            "spark-2.4.8-bin-hadoop2.7/python/pyspark/sql/utils.py\n",
            "spark-2.4.8-bin-hadoop2.7/python/pyspark/sql/window.py\n",
            "spark-2.4.8-bin-hadoop2.7/python/pyspark/statcounter.py\n",
            "spark-2.4.8-bin-hadoop2.7/python/pyspark/status.py\n",
            "spark-2.4.8-bin-hadoop2.7/python/pyspark/storagelevel.py\n",
            "spark-2.4.8-bin-hadoop2.7/python/pyspark/streaming/\n",
            "spark-2.4.8-bin-hadoop2.7/python/pyspark/streaming/__init__.py\n",
            "spark-2.4.8-bin-hadoop2.7/python/pyspark/streaming/context.py\n",
            "spark-2.4.8-bin-hadoop2.7/python/pyspark/streaming/dstream.py\n",
            "spark-2.4.8-bin-hadoop2.7/python/pyspark/streaming/flume.py\n",
            "spark-2.4.8-bin-hadoop2.7/python/pyspark/streaming/kafka.py\n",
            "spark-2.4.8-bin-hadoop2.7/python/pyspark/streaming/kinesis.py\n",
            "spark-2.4.8-bin-hadoop2.7/python/pyspark/streaming/listener.py\n",
            "spark-2.4.8-bin-hadoop2.7/python/pyspark/streaming/tests.py\n",
            "spark-2.4.8-bin-hadoop2.7/python/pyspark/streaming/util.py\n",
            "spark-2.4.8-bin-hadoop2.7/python/pyspark/taskcontext.py\n",
            "spark-2.4.8-bin-hadoop2.7/python/pyspark/test_broadcast.py\n",
            "spark-2.4.8-bin-hadoop2.7/python/pyspark/test_serializers.py\n",
            "spark-2.4.8-bin-hadoop2.7/python/pyspark/tests.py\n",
            "spark-2.4.8-bin-hadoop2.7/python/pyspark/traceback_utils.py\n",
            "spark-2.4.8-bin-hadoop2.7/python/pyspark/util.py\n",
            "spark-2.4.8-bin-hadoop2.7/python/pyspark/version.py\n",
            "spark-2.4.8-bin-hadoop2.7/python/pyspark/worker.py\n",
            "spark-2.4.8-bin-hadoop2.7/python/pyspark.egg-info/\n",
            "spark-2.4.8-bin-hadoop2.7/python/pyspark.egg-info/PKG-INFO\n",
            "spark-2.4.8-bin-hadoop2.7/python/pyspark.egg-info/SOURCES.txt\n",
            "spark-2.4.8-bin-hadoop2.7/python/pyspark.egg-info/dependency_links.txt\n",
            "spark-2.4.8-bin-hadoop2.7/python/pyspark.egg-info/requires.txt\n",
            "spark-2.4.8-bin-hadoop2.7/python/pyspark.egg-info/top_level.txt\n",
            "spark-2.4.8-bin-hadoop2.7/python/run-tests\n",
            "spark-2.4.8-bin-hadoop2.7/python/run-tests-with-coverage\n",
            "spark-2.4.8-bin-hadoop2.7/python/run-tests.py\n",
            "spark-2.4.8-bin-hadoop2.7/python/setup.cfg\n",
            "spark-2.4.8-bin-hadoop2.7/python/setup.py\n",
            "spark-2.4.8-bin-hadoop2.7/python/test_coverage/\n",
            "spark-2.4.8-bin-hadoop2.7/python/test_coverage/conf/\n",
            "spark-2.4.8-bin-hadoop2.7/python/test_coverage/conf/spark-defaults.conf\n",
            "spark-2.4.8-bin-hadoop2.7/python/test_coverage/coverage_daemon.py\n",
            "spark-2.4.8-bin-hadoop2.7/python/test_coverage/sitecustomize.py\n",
            "spark-2.4.8-bin-hadoop2.7/python/test_support/\n",
            "spark-2.4.8-bin-hadoop2.7/python/test_support/SimpleHTTPServer.py\n",
            "spark-2.4.8-bin-hadoop2.7/python/test_support/hello/\n",
            "spark-2.4.8-bin-hadoop2.7/python/test_support/hello/hello.txt\n",
            "spark-2.4.8-bin-hadoop2.7/python/test_support/hello/sub_hello/\n",
            "spark-2.4.8-bin-hadoop2.7/python/test_support/hello/sub_hello/sub_hello.txt\n",
            "spark-2.4.8-bin-hadoop2.7/python/test_support/sql/\n",
            "spark-2.4.8-bin-hadoop2.7/python/test_support/sql/ages.csv\n",
            "spark-2.4.8-bin-hadoop2.7/python/test_support/sql/ages_newlines.csv\n",
            "spark-2.4.8-bin-hadoop2.7/python/test_support/sql/orc_partitioned/\n",
            "spark-2.4.8-bin-hadoop2.7/python/test_support/sql/orc_partitioned/_SUCCESS\n",
            "spark-2.4.8-bin-hadoop2.7/python/test_support/sql/orc_partitioned/b=0/\n",
            "spark-2.4.8-bin-hadoop2.7/python/test_support/sql/orc_partitioned/b=0/c=0/\n",
            "spark-2.4.8-bin-hadoop2.7/python/test_support/sql/orc_partitioned/b=0/c=0/.part-r-00000-829af031-b970-49d6-ad39-30460a0be2c8.orc.crc\n",
            "spark-2.4.8-bin-hadoop2.7/python/test_support/sql/orc_partitioned/b=0/c=0/part-r-00000-829af031-b970-49d6-ad39-30460a0be2c8.orc\n",
            "spark-2.4.8-bin-hadoop2.7/python/test_support/sql/orc_partitioned/b=1/\n",
            "spark-2.4.8-bin-hadoop2.7/python/test_support/sql/orc_partitioned/b=1/c=1/\n",
            "spark-2.4.8-bin-hadoop2.7/python/test_support/sql/orc_partitioned/b=1/c=1/.part-r-00000-829af031-b970-49d6-ad39-30460a0be2c8.orc.crc\n",
            "spark-2.4.8-bin-hadoop2.7/python/test_support/sql/orc_partitioned/b=1/c=1/part-r-00000-829af031-b970-49d6-ad39-30460a0be2c8.orc\n",
            "spark-2.4.8-bin-hadoop2.7/python/test_support/sql/parquet_partitioned/\n",
            "spark-2.4.8-bin-hadoop2.7/python/test_support/sql/parquet_partitioned/_SUCCESS\n",
            "spark-2.4.8-bin-hadoop2.7/python/test_support/sql/parquet_partitioned/_common_metadata\n",
            "spark-2.4.8-bin-hadoop2.7/python/test_support/sql/parquet_partitioned/_metadata\n",
            "spark-2.4.8-bin-hadoop2.7/python/test_support/sql/parquet_partitioned/year=2014/\n",
            "spark-2.4.8-bin-hadoop2.7/python/test_support/sql/parquet_partitioned/year=2014/month=9/\n",
            "spark-2.4.8-bin-hadoop2.7/python/test_support/sql/parquet_partitioned/year=2014/month=9/day=1/\n",
            "spark-2.4.8-bin-hadoop2.7/python/test_support/sql/parquet_partitioned/year=2014/month=9/day=1/.part-r-00008.gz.parquet.crc\n",
            "spark-2.4.8-bin-hadoop2.7/python/test_support/sql/parquet_partitioned/year=2014/month=9/day=1/part-r-00008.gz.parquet\n",
            "spark-2.4.8-bin-hadoop2.7/python/test_support/sql/parquet_partitioned/year=2015/\n",
            "spark-2.4.8-bin-hadoop2.7/python/test_support/sql/parquet_partitioned/year=2015/month=10/\n",
            "spark-2.4.8-bin-hadoop2.7/python/test_support/sql/parquet_partitioned/year=2015/month=10/day=25/\n",
            "spark-2.4.8-bin-hadoop2.7/python/test_support/sql/parquet_partitioned/year=2015/month=10/day=25/.part-r-00002.gz.parquet.crc\n",
            "spark-2.4.8-bin-hadoop2.7/python/test_support/sql/parquet_partitioned/year=2015/month=10/day=25/.part-r-00004.gz.parquet.crc\n",
            "spark-2.4.8-bin-hadoop2.7/python/test_support/sql/parquet_partitioned/year=2015/month=10/day=25/part-r-00002.gz.parquet\n",
            "spark-2.4.8-bin-hadoop2.7/python/test_support/sql/parquet_partitioned/year=2015/month=10/day=25/part-r-00004.gz.parquet\n",
            "spark-2.4.8-bin-hadoop2.7/python/test_support/sql/parquet_partitioned/year=2015/month=10/day=26/\n",
            "spark-2.4.8-bin-hadoop2.7/python/test_support/sql/parquet_partitioned/year=2015/month=10/day=26/.part-r-00005.gz.parquet.crc\n",
            "spark-2.4.8-bin-hadoop2.7/python/test_support/sql/parquet_partitioned/year=2015/month=10/day=26/part-r-00005.gz.parquet\n",
            "spark-2.4.8-bin-hadoop2.7/python/test_support/sql/parquet_partitioned/year=2015/month=9/\n",
            "spark-2.4.8-bin-hadoop2.7/python/test_support/sql/parquet_partitioned/year=2015/month=9/day=1/\n",
            "spark-2.4.8-bin-hadoop2.7/python/test_support/sql/parquet_partitioned/year=2015/month=9/day=1/.part-r-00007.gz.parquet.crc\n",
            "spark-2.4.8-bin-hadoop2.7/python/test_support/sql/parquet_partitioned/year=2015/month=9/day=1/part-r-00007.gz.parquet\n",
            "spark-2.4.8-bin-hadoop2.7/python/test_support/sql/people.json\n",
            "spark-2.4.8-bin-hadoop2.7/python/test_support/sql/people1.json\n",
            "spark-2.4.8-bin-hadoop2.7/python/test_support/sql/people_array.json\n",
            "spark-2.4.8-bin-hadoop2.7/python/test_support/sql/people_array_utf16le.json\n",
            "spark-2.4.8-bin-hadoop2.7/python/test_support/sql/streaming/\n",
            "spark-2.4.8-bin-hadoop2.7/python/test_support/sql/streaming/text-test.txt\n",
            "spark-2.4.8-bin-hadoop2.7/python/test_support/sql/text-test.txt\n",
            "spark-2.4.8-bin-hadoop2.7/python/test_support/userlib-0.1.zip\n",
            "spark-2.4.8-bin-hadoop2.7/python/test_support/userlibrary.py\n",
            "spark-2.4.8-bin-hadoop2.7/sbin/\n",
            "spark-2.4.8-bin-hadoop2.7/sbin/slaves.sh\n",
            "spark-2.4.8-bin-hadoop2.7/sbin/spark-config.sh\n",
            "spark-2.4.8-bin-hadoop2.7/sbin/spark-daemon.sh\n",
            "spark-2.4.8-bin-hadoop2.7/sbin/spark-daemons.sh\n",
            "spark-2.4.8-bin-hadoop2.7/sbin/start-all.sh\n",
            "spark-2.4.8-bin-hadoop2.7/sbin/start-history-server.sh\n",
            "spark-2.4.8-bin-hadoop2.7/sbin/start-master.sh\n",
            "spark-2.4.8-bin-hadoop2.7/sbin/start-mesos-dispatcher.sh\n",
            "spark-2.4.8-bin-hadoop2.7/sbin/start-mesos-shuffle-service.sh\n",
            "spark-2.4.8-bin-hadoop2.7/sbin/start-shuffle-service.sh\n",
            "spark-2.4.8-bin-hadoop2.7/sbin/start-slave.sh\n",
            "spark-2.4.8-bin-hadoop2.7/sbin/start-slaves.sh\n",
            "spark-2.4.8-bin-hadoop2.7/sbin/start-thriftserver.sh\n",
            "spark-2.4.8-bin-hadoop2.7/sbin/stop-all.sh\n",
            "spark-2.4.8-bin-hadoop2.7/sbin/stop-history-server.sh\n",
            "spark-2.4.8-bin-hadoop2.7/sbin/stop-master.sh\n",
            "spark-2.4.8-bin-hadoop2.7/sbin/stop-mesos-dispatcher.sh\n",
            "spark-2.4.8-bin-hadoop2.7/sbin/stop-mesos-shuffle-service.sh\n",
            "spark-2.4.8-bin-hadoop2.7/sbin/stop-shuffle-service.sh\n",
            "spark-2.4.8-bin-hadoop2.7/sbin/stop-slave.sh\n",
            "spark-2.4.8-bin-hadoop2.7/sbin/stop-slaves.sh\n",
            "spark-2.4.8-bin-hadoop2.7/sbin/stop-thriftserver.sh\n",
            "spark-2.4.8-bin-hadoop2.7/yarn/\n",
            "spark-2.4.8-bin-hadoop2.7/yarn/spark-2.4.8-yarn-shuffle.jar\n"
          ],
          "name": "stdout"
        }
      ]
    },
    {
      "cell_type": "code",
      "metadata": {
        "id": "fLSt41F-XiLO"
      },
      "source": [
        "!pip install -q findspark"
      ],
      "execution_count": null,
      "outputs": []
    },
    {
      "cell_type": "code",
      "metadata": {
        "id": "ml2EcyrMXoGj"
      },
      "source": [
        "import os\n",
        "os.environ[\"JAVA_HOME\"] = \"/usr/lib/jvm/java-8-openjdk-amd64\"\n",
        "os.environ[\"SPARK_HOME\"] = \"/content/spark-2.4.8-bin-hadoop2.7\""
      ],
      "execution_count": null,
      "outputs": []
    },
    {
      "cell_type": "code",
      "metadata": {
        "id": "Cir_enLLXqMj"
      },
      "source": [
        "import findspark\n",
        "findspark.init()\n",
        "from pyspark.sql import SparkSession\n",
        "\n",
        "spark = SparkSession.builder.master(\"local[*]\").getOrCreate()"
      ],
      "execution_count": null,
      "outputs": []
    },
    {
      "cell_type": "markdown",
      "metadata": {
        "id": "LAtg2nKBEWjQ"
      },
      "source": [
        "8. Загрузка данных в Spark"
      ]
    },
    {
      "cell_type": "code",
      "metadata": {
        "colab": {
          "base_uri": "https://localhost:8080/"
        },
        "id": "D4Jh_Kj-XukP",
        "outputId": "84556804-0781-4de7-c6b4-fea4071d7b09"
      },
      "source": [
        "df_ratings = spark.read.csv('ratings.csv', inferSchema=True, header=True)\n",
        "df_ratings.show()"
      ],
      "execution_count": null,
      "outputs": [
        {
          "output_type": "stream",
          "text": [
            "+-------+-------+------+---------+----------+\n",
            "|User_Id|Film_Id|Rating| Unixtime|     Date_|\n",
            "+-------+-------+------+---------+----------+\n",
            "|    186|    302|     3|891717742|04.04.1998|\n",
            "|     22|    377|     1|878887116|07.11.1997|\n",
            "|    244|     51|     2|880606923|27.11.1997|\n",
            "|    166|    346|     1|886397596|02.02.1998|\n",
            "|    298|    474|     4|884182806|07.01.1998|\n",
            "|    115|    265|     2|881171488|03.12.1997|\n",
            "|    253|    465|     5|891628467|03.04.1998|\n",
            "|    305|    451|     3|886324817|01.02.1998|\n",
            "|      6|     86|     3|883603013|31.12.1997|\n",
            "|     62|    257|     2|879372434|12.11.1997|\n",
            "|    286|   1014|     5|879781125|17.11.1997|\n",
            "|    200|    222|     5|876042340|05.10.1997|\n",
            "|    210|     40|     3|891035994|27.03.1998|\n",
            "|    224|     29|     3|888104457|21.02.1998|\n",
            "|    303|    785|     3|879485318|14.11.1997|\n",
            "|    122|    387|     5|879270459|11.11.1997|\n",
            "|    194|    274|     2|879539794|14.11.1997|\n",
            "|    291|   1042|     4|874834944|21.09.1997|\n",
            "|    234|   1184|     2|892079237|08.04.1998|\n",
            "|    119|    392|     4|886176814|30.01.1998|\n",
            "+-------+-------+------+---------+----------+\n",
            "only showing top 20 rows\n",
            "\n"
          ],
          "name": "stdout"
        }
      ]
    },
    {
      "cell_type": "code",
      "metadata": {
        "colab": {
          "base_uri": "https://localhost:8080/"
        },
        "id": "wcuqWDfFX0tP",
        "outputId": "148b9484-3fd8-48a9-f17f-b5c22b206fc0"
      },
      "source": [
        "df_movies = spark.read.csv('movies.csv', inferSchema=True, header=True)\n",
        "df_movies.show()"
      ],
      "execution_count": null,
      "outputs": [
        {
          "output_type": "stream",
          "text": [
            "+-------+--------------------+------------+----+--------+--------------------+-------+------+---------+---------+----------+------+-----+-----------+-----+-------+---------+------+-------+-------+-------+------+--------+---+-------+\n",
            "|Film_Id|           Film_name|Release_date|Year|VHS_date|            IMDb_URL|unknown|Action|Adventure|Animation|Children`s|Comedy|Crime|Documentary|Drama|Fantasy|Film-Noir|Horror|Musical|Mystery|Romance|Sci-fi|Thriller|War|Western|\n",
            "+-------+--------------------+------------+----+--------+--------------------+-------+------+---------+---------+----------+------+-----+-----------+-----+-------+---------+------+-------+-------+-------+------+--------+---+-------+\n",
            "|      1|    Toy Story (1995)| 01-Jan-1995|null|    null|http://us.imdb.co...|      0|     0|        0|        1|         1|     1|    0|          0|    0|      0|        0|     0|      0|      0|      0|     0|       0|  0|      0|\n",
            "|      2|    GoldenEye (1995)| 01-Jan-1995|null|    null|http://us.imdb.co...|      0|     1|        1|        0|         0|     0|    0|          0|    0|      0|        0|     0|      0|      0|      0|     0|       1|  0|      0|\n",
            "|      3|   Four Rooms (1995)| 01-Jan-1995|null|    null|http://us.imdb.co...|      0|     0|        0|        0|         0|     0|    0|          0|    0|      0|        0|     0|      0|      0|      0|     0|       1|  0|      0|\n",
            "|      4|   Get Shorty (1995)| 01-Jan-1995|null|    null|http://us.imdb.co...|      0|     1|        0|        0|         0|     1|    0|          0|    1|      0|        0|     0|      0|      0|      0|     0|       0|  0|      0|\n",
            "|      5|      Copycat (1995)| 01-Jan-1995|null|    null|http://us.imdb.co...|      0|     0|        0|        0|         0|     0|    1|          0|    1|      0|        0|     0|      0|      0|      0|     0|       1|  0|      0|\n",
            "|      6|Shanghai Triad (Y...| 01-Jan-1995|null|    null|http://us.imdb.co...|      0|     0|        0|        0|         0|     0|    0|          0|    1|      0|        0|     0|      0|      0|      0|     0|       0|  0|      0|\n",
            "|      7|Twelve Monkeys (1...| 01-Jan-1995|null|    null|http://us.imdb.co...|      0|     0|        0|        0|         0|     0|    0|          0|    1|      0|        0|     0|      0|      0|      0|     1|       0|  0|      0|\n",
            "|      8|         Babe (1995)| 01-Jan-1995|null|    null|http://us.imdb.co...|      0|     0|        0|        0|         1|     1|    0|          0|    1|      0|        0|     0|      0|      0|      0|     0|       0|  0|      0|\n",
            "|      9|Dead Man Walking ...| 01-Jan-1995|null|    null|http://us.imdb.co...|      0|     0|        0|        0|         0|     0|    0|          0|    1|      0|        0|     0|      0|      0|      0|     0|       0|  0|      0|\n",
            "|     10|  Richard III (1995)| 22-Jan-1996|null|    null|http://us.imdb.co...|      0|     0|        0|        0|         0|     0|    0|          0|    1|      0|        0|     0|      0|      0|      0|     0|       0|  1|      0|\n",
            "|     11|Seven (Se7en) (1995)| 01-Jan-1995|null|    null|http://us.imdb.co...|      0|     0|        0|        0|         0|     0|    1|          0|    0|      0|        0|     0|      0|      0|      0|     0|       1|  0|      0|\n",
            "|     12|Usual Suspects, T...| 14-Aug-1995|null|    null|http://us.imdb.co...|      0|     0|        0|        0|         0|     0|    1|          0|    0|      0|        0|     0|      0|      0|      0|     0|       1|  0|      0|\n",
            "|     13|Mighty Aphrodite ...| 30-Oct-1995|null|    null|http://us.imdb.co...|      0|     0|        0|        0|         0|     1|    0|          0|    0|      0|        0|     0|      0|      0|      0|     0|       0|  0|      0|\n",
            "|     14|  Postino, Il (1994)| 01-Jan-1994|null|    null|http://us.imdb.co...|      0|     0|        0|        0|         0|     0|    0|          0|    1|      0|        0|     0|      0|      0|      1|     0|       0|  0|      0|\n",
            "|     15|Mr. Holland's Opu...| 29-Jan-1996|null|    null|http://us.imdb.co...|      0|     0|        0|        0|         0|     0|    0|          0|    1|      0|        0|     0|      0|      0|      0|     0|       0|  0|      0|\n",
            "|     16|French Twist (Gaz...| 01-Jan-1995|null|    null|http://us.imdb.co...|      0|     0|        0|        0|         0|     1|    0|          0|    0|      0|        0|     0|      0|      0|      1|     0|       0|  0|      0|\n",
            "|     17|From Dusk Till Da...| 05-Feb-1996|null|    null|http://us.imdb.co...|      0|     1|        0|        0|         0|     1|    1|          0|    0|      0|        0|     1|      0|      0|      0|     0|       1|  0|      0|\n",
            "|     18|White Balloon, Th...| 01-Jan-1995|null|    null|http://us.imdb.co...|      0|     0|        0|        0|         0|     0|    0|          0|    1|      0|        0|     0|      0|      0|      0|     0|       0|  0|      0|\n",
            "|     19|Antonia's Line (1...| 01-Jan-1995|null|    null|http://us.imdb.co...|      0|     0|        0|        0|         0|     0|    0|          0|    1|      0|        0|     0|      0|      0|      0|     0|       0|  0|      0|\n",
            "|     20|Angels and Insect...| 01-Jan-1995|null|    null|http://us.imdb.co...|      0|     0|        0|        0|         0|     0|    0|          0|    1|      0|        0|     0|      0|      0|      1|     0|       0|  0|      0|\n",
            "+-------+--------------------+------------+----+--------+--------------------+-------+------+---------+---------+----------+------+-----+-----------+-----+-------+---------+------+-------+-------+-------+------+--------+---+-------+\n",
            "only showing top 20 rows\n",
            "\n"
          ],
          "name": "stdout"
        }
      ]
    },
    {
      "cell_type": "code",
      "metadata": {
        "id": "nDPY2ALOcxu6"
      },
      "source": [
        "df_genre = spark.read.csv('u.genre.csv', sep= '|', inferSchema=True, header=None)\n"
      ],
      "execution_count": null,
      "outputs": []
    },
    {
      "cell_type": "code",
      "metadata": {
        "id": "Ir7Jbg5Uw84F"
      },
      "source": [
        "df_genre = df_genre.withColumnRenamed('_c0', 'Genre')"
      ],
      "execution_count": null,
      "outputs": []
    },
    {
      "cell_type": "code",
      "metadata": {
        "colab": {
          "base_uri": "https://localhost:8080/"
        },
        "id": "AMNSq-3k0U5y",
        "outputId": "e76b5d62-9794-403b-c69a-4765038a67ca"
      },
      "source": [
        "df_genre = df_genre.withColumnRenamed('_c1', 'Label')\n",
        "df_genre.show()"
      ],
      "execution_count": null,
      "outputs": [
        {
          "output_type": "stream",
          "text": [
            "+-----------+-----+\n",
            "|      Genre|Label|\n",
            "+-----------+-----+\n",
            "|    unknown|    0|\n",
            "|     Action|    1|\n",
            "|  Adventure|    2|\n",
            "|  Animation|    3|\n",
            "| Children's|    4|\n",
            "|     Comedy|    5|\n",
            "|      Crime|    6|\n",
            "|Documentary|    7|\n",
            "|      Drama|    8|\n",
            "|    Fantasy|    9|\n",
            "|  Film-Noir|   10|\n",
            "|     Horror|   11|\n",
            "|    Musical|   12|\n",
            "|    Mystery|   13|\n",
            "|    Romance|   14|\n",
            "|     Sci-Fi|   15|\n",
            "|   Thriller|   16|\n",
            "|        War|   17|\n",
            "|    Western|   18|\n",
            "+-----------+-----+\n",
            "\n"
          ],
          "name": "stdout"
        }
      ]
    },
    {
      "cell_type": "markdown",
      "metadata": {
        "id": "bzXl8r9OEpon"
      },
      "source": [
        "9. Вычисление средней оценки по фильму в Spark"
      ]
    },
    {
      "cell_type": "code",
      "metadata": {
        "colab": {
          "base_uri": "https://localhost:8080/"
        },
        "id": "fbXvy7RJEkUr",
        "outputId": "48793e49-aa44-4eaa-fe4d-9c6f2d908ecc"
      },
      "source": [
        "df_avg_film = df_ratings.groupby('Film_Id').avg('Rating')\n",
        "df_avg_film.show()"
      ],
      "execution_count": null,
      "outputs": [
        {
          "output_type": "stream",
          "text": [
            "+-------+------------------+\n",
            "|Film_Id|       avg(Rating)|\n",
            "+-------+------------------+\n",
            "|    496| 4.121212121212121|\n",
            "|    471|3.6108597285067874|\n",
            "|    463| 3.859154929577465|\n",
            "|    148|          3.203125|\n",
            "|   1342|               2.5|\n",
            "|    833| 3.204081632653061|\n",
            "|   1088| 2.230769230769231|\n",
            "|   1591|3.1666666666666665|\n",
            "|   1238|             3.125|\n",
            "|   1580|               1.0|\n",
            "|   1645|               4.0|\n",
            "|    392|3.5441176470588234|\n",
            "|    623| 2.923076923076923|\n",
            "|    540| 2.511627906976744|\n",
            "|    858|               1.0|\n",
            "|    737| 2.983050847457627|\n",
            "|    243|2.4393939393939394|\n",
            "|   1025|2.9318181818181817|\n",
            "|   1084| 3.857142857142857|\n",
            "|   1127| 2.909090909090909|\n",
            "+-------+------------------+\n",
            "only showing top 20 rows\n",
            "\n"
          ],
          "name": "stdout"
        }
      ]
    },
    {
      "cell_type": "markdown",
      "metadata": {
        "id": "Fs53JN-kE6kD"
      },
      "source": [
        "10. Вычисление в Spark средней оценки по каждому жанру"
      ]
    },
    {
      "cell_type": "markdown",
      "metadata": {
        "id": "kIQ9s9MnL-km"
      },
      "source": [
        "11. Самые популярные и самые непопулярные фильмы"
      ]
    },
    {
      "cell_type": "code",
      "metadata": {
        "colab": {
          "base_uri": "https://localhost:8080/"
        },
        "id": "DP4Due3dNFlT",
        "outputId": "11246461-f1c2-4af1-e4f0-791e8ed7f59d"
      },
      "source": [
        "df_movies = df_movies[['Film_Id', 'Film_name']]\n",
        "df_movies.show()"
      ],
      "execution_count": null,
      "outputs": [
        {
          "output_type": "stream",
          "text": [
            "+-------+--------------------+\n",
            "|Film_Id|           Film_name|\n",
            "+-------+--------------------+\n",
            "|      1|    Toy Story (1995)|\n",
            "|      2|    GoldenEye (1995)|\n",
            "|      3|   Four Rooms (1995)|\n",
            "|      4|   Get Shorty (1995)|\n",
            "|      5|      Copycat (1995)|\n",
            "|      6|Shanghai Triad (Y...|\n",
            "|      7|Twelve Monkeys (1...|\n",
            "|      8|         Babe (1995)|\n",
            "|      9|Dead Man Walking ...|\n",
            "|     10|  Richard III (1995)|\n",
            "|     11|Seven (Se7en) (1995)|\n",
            "|     12|Usual Suspects, T...|\n",
            "|     13|Mighty Aphrodite ...|\n",
            "|     14|  Postino, Il (1994)|\n",
            "|     15|Mr. Holland's Opu...|\n",
            "|     16|French Twist (Gaz...|\n",
            "|     17|From Dusk Till Da...|\n",
            "|     18|White Balloon, Th...|\n",
            "|     19|Antonia's Line (1...|\n",
            "|     20|Angels and Insect...|\n",
            "+-------+--------------------+\n",
            "only showing top 20 rows\n",
            "\n"
          ],
          "name": "stdout"
        }
      ]
    },
    {
      "cell_type": "code",
      "metadata": {
        "id": "kXkpOE48NN4a"
      },
      "source": [
        "df_intm=df_ratings.join(df_movies, on= 'Film_Id', how='inner')"
      ],
      "execution_count": null,
      "outputs": []
    },
    {
      "cell_type": "code",
      "metadata": {
        "colab": {
          "base_uri": "https://localhost:8080/"
        },
        "id": "PHiU9UXoNN2v",
        "outputId": "27d4a8f4-3e6c-45b4-962c-de330d12a604"
      },
      "source": [
        "df_grp = df_intm.groupBy('Film_Id').count()\n",
        "df_grp.show()"
      ],
      "execution_count": null,
      "outputs": [
        {
          "output_type": "stream",
          "text": [
            "+-------+-----+\n",
            "|Film_Id|count|\n",
            "+-------+-----+\n",
            "|    496|  231|\n",
            "|    471|  221|\n",
            "|    463|   71|\n",
            "|    148|  128|\n",
            "|   1342|    2|\n",
            "|    833|   49|\n",
            "|   1088|   13|\n",
            "|   1591|    6|\n",
            "|   1238|    8|\n",
            "|   1580|    1|\n",
            "|   1645|    1|\n",
            "|    392|   68|\n",
            "|    623|   39|\n",
            "|    540|   43|\n",
            "|    858|    3|\n",
            "|    737|   59|\n",
            "|    243|  132|\n",
            "|   1025|   44|\n",
            "|   1084|   21|\n",
            "|   1127|   11|\n",
            "+-------+-----+\n",
            "only showing top 20 rows\n",
            "\n"
          ],
          "name": "stdout"
        }
      ]
    },
    {
      "cell_type": "code",
      "metadata": {
        "id": "6cDZTBqoOZL9"
      },
      "source": [
        "df_grp = df_grp.sort('count', ascending = False)"
      ],
      "execution_count": null,
      "outputs": []
    },
    {
      "cell_type": "code",
      "metadata": {
        "colab": {
          "base_uri": "https://localhost:8080/"
        },
        "id": "aN3YaMBBPEEL",
        "outputId": "1e5360ba-2a99-471c-d12e-7a77dba55943"
      },
      "source": [
        "df_grp.show()"
      ],
      "execution_count": null,
      "outputs": [
        {
          "output_type": "stream",
          "text": [
            "+-------+-----+\n",
            "|Film_Id|count|\n",
            "+-------+-----+\n",
            "|     50|  583|\n",
            "|    258|  509|\n",
            "|    100|  508|\n",
            "|    181|  507|\n",
            "|    294|  485|\n",
            "|    286|  481|\n",
            "|    288|  478|\n",
            "|      1|  452|\n",
            "|    300|  431|\n",
            "|    121|  429|\n",
            "|    174|  420|\n",
            "|    127|  413|\n",
            "|     56|  394|\n",
            "|      7|  392|\n",
            "|     98|  390|\n",
            "|    237|  384|\n",
            "|    117|  378|\n",
            "|    172|  367|\n",
            "|    222|  365|\n",
            "|    204|  350|\n",
            "+-------+-----+\n",
            "only showing top 20 rows\n",
            "\n"
          ],
          "name": "stdout"
        }
      ]
    },
    {
      "cell_type": "code",
      "metadata": {
        "colab": {
          "base_uri": "https://localhost:8080/"
        },
        "id": "qo7AVFvxOSmX",
        "outputId": "bbafa548-4f63-4a07-bc39-ea76bdfd284a"
      },
      "source": [
        "df_best = df_grp.limit(5)\n",
        "df_best.show()"
      ],
      "execution_count": null,
      "outputs": [
        {
          "output_type": "stream",
          "text": [
            "+-------+-----+\n",
            "|Film_Id|count|\n",
            "+-------+-----+\n",
            "|     50|  583|\n",
            "|    258|  509|\n",
            "|    100|  508|\n",
            "|    181|  507|\n",
            "|    294|  485|\n",
            "+-------+-----+\n",
            "\n"
          ],
          "name": "stdout"
        }
      ]
    },
    {
      "cell_type": "code",
      "metadata": {
        "id": "hAMzb3EJQHKD"
      },
      "source": [
        "df_grp = df_grp.sort('count')"
      ],
      "execution_count": null,
      "outputs": []
    },
    {
      "cell_type": "code",
      "metadata": {
        "colab": {
          "base_uri": "https://localhost:8080/"
        },
        "id": "oyoeDln-QNFL",
        "outputId": "8ffc9366-5416-4652-89e8-16c8861cf771"
      },
      "source": [
        "df_worst = df_grp.limit(5)\n",
        "df_worst.show()"
      ],
      "execution_count": null,
      "outputs": [
        {
          "output_type": "stream",
          "text": [
            "+-------+-----+\n",
            "|Film_Id|count|\n",
            "+-------+-----+\n",
            "|   1618|    1|\n",
            "|   1533|    1|\n",
            "|   1339|    1|\n",
            "|   1460|    1|\n",
            "|   1650|    1|\n",
            "+-------+-----+\n",
            "\n"
          ],
          "name": "stdout"
        }
      ]
    }
  ]
}